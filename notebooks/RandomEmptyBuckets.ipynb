{
 "cells": [
  {
   "cell_type": "code",
   "execution_count": null,
   "metadata": {},
   "outputs": [],
   "source": []
  },
  {
   "cell_type": "markdown",
   "metadata": {},
   "source": [
    "This brief experiment assumes you randomly assign K items to N buckets. How many empty buckets will you have for various n and k? \n",
    "\n",
    "Why does it matter? Consider a Delta Lake merge job on a table that is partitioned randomly. Any partition that contains at least one row in the new data must be rewritten. As we'll see, in most cases that is every row.\n",
    "\n",
    "**The math way**\n",
    "\n",
    "With N buckets and K items, the probability that any particular bucket is empty is $\\frac{N-1}{N}^K$.\n",
    "\n",
    "Intuitively, each item has a $\\frac{N-1}{N}$ chance of landing in some other bucket, and each item is independent. You can see some examples below:"
   ]
  },
  {
   "cell_type": "code",
   "execution_count": 6,
   "metadata": {},
   "outputs": [
    {
     "name": "stdout",
     "output_type": "stream",
     "text": [
      "N=1024  K=1  p=0.9990234375)\n",
      "N=1024  K=1000  p=0.37642379805672405)\n",
      "N=1024  K=1024  p=0.3676997394112712)\n",
      "N=1024  K=10000  p=5.711770163265015e-05)\n",
      "N=1024  K=1000000  p=0.0)\n"
     ]
    }
   ],
   "source": [
    "N = 1024  # num buckets\n",
    "for K in [1, 1000, 1024, 10000, 1000000]:\n",
    "    print(f\"N={N}  K={K}  p={((N-1)/N)**K})\")"
   ]
  },
  {
   "cell_type": "markdown",
   "metadata": {},
   "source": [
    "The probability of a single bucket being empty bucket decreases rapidly as K increases. (Fun fact: for K=1024 the answer is 1/e). \n",
    "\n",
    "This investigation looks at probability that bucket i is empty for any bucket i. How many buckets will be empty? \n",
    "\n",
    "The math answer is $N * p$. We'll show this in a simulation here:"
   ]
  },
  {
   "cell_type": "code",
   "execution_count": 36,
   "metadata": {},
   "outputs": [],
   "source": [
    "import hashlib\n",
    "import uuid\n",
    "\n",
    "def run_sim(K, N, num_samples):\n",
    "\n",
    "    num_samples = 10000\n",
    "    num_zeros_accum = []\n",
    "    min_values_accum = []\n",
    "    for s in range(num_samples):\n",
    "\n",
    "        buckets = [0] * N\n",
    "        for i in range(K):\n",
    "            result = hashlib.md5(f'{uuid.uuid4()}'.encode())\n",
    "            buckets[int(result.hexdigest(), 16) % 1024] += 1\n",
    "        num_zeros = sum([i == 0 for i in buckets])\n",
    "        min_value = min(buckets)\n",
    "        num_zeros_accum.append(num_zeros)\n",
    "        min_values_accum.append(min_value)\n",
    "\n",
    "    print(f\"N={N}  K={K} average number of empty buckets is {sum(num_zeros_accum) / len(num_zeros_accum)}\")"
   ]
  },
  {
   "cell_type": "code",
   "execution_count": 40,
   "metadata": {},
   "outputs": [
    {
     "name": "stdout",
     "output_type": "stream",
     "text": [
      "N=1024  K=1024 average number of empty buckets is 376.468\n",
      "N=1024  K=10000 average number of empty buckets is 0.059\n"
     ]
    }
   ],
   "source": [
    "run_sim(1024, 1024, 10000)\n",
    "run_sim(K=10000, N=1024, num_samples=10000)\n"
   ]
  },
  {
   "cell_type": "markdown",
   "metadata": {},
   "source": [
    "What's the upshot? If you have 10000 objects, it's very likely that *all* buckets will have one record."
   ]
  },
  {
   "cell_type": "code",
   "execution_count": null,
   "metadata": {},
   "outputs": [],
   "source": []
  }
 ],
 "metadata": {
  "kernelspec": {
   "display_name": "Python 3",
   "language": "python",
   "name": "python3"
  },
  "language_info": {
   "codemirror_mode": {
    "name": "ipython",
    "version": 3
   },
   "file_extension": ".py",
   "mimetype": "text/x-python",
   "name": "python",
   "nbconvert_exporter": "python",
   "pygments_lexer": "ipython3",
   "version": "3.8.3"
  }
 },
 "nbformat": 4,
 "nbformat_minor": 4
}
