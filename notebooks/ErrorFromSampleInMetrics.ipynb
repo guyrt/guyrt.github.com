{
 "metadata": {
  "name": "",
  "signature": "sha256:8acfb3e26dbb6f067f2999aebedfbc4fecd3ffa5c257e8624298de834ff57b6e"
 },
 "nbformat": 3,
 "nbformat_minor": 0,
 "worksheets": [
  {
   "cells": [
    {
     "cell_type": "code",
     "collapsed": false,
     "input": [
      "import numpy as np\n",
      "import scipy.stats as spstats\n",
      "\n",
      "%pylab inline"
     ],
     "language": "python",
     "metadata": {},
     "outputs": [
      {
       "output_type": "stream",
       "stream": "stdout",
       "text": [
        "Populating the interactive namespace from numpy and matplotlib\n"
       ]
      }
     ],
     "prompt_number": 41
    },
    {
     "cell_type": "markdown",
     "metadata": {},
     "source": [
      "The following question came up at work: given that I can only sample $n\\%$ of my logs, what is the correct size of the error bars for an estimate of some metric? As an example, let's say I can only capture $5\\%$ of my logs (and that I know how to compute the exact sampling rate). From those logs, I estimate that $30\\%$ of users click on some widget. What is the $95\\%$ confidence bound for the actual click rate?"
     ]
    },
    {
     "cell_type": "markdown",
     "metadata": {},
     "source": [
      "Step 1: Be sure that your aggregation unit produces independent samples.\n",
      "------------------------------------------------------------------------\n",
      "\n",
      "If your metric is \"percent of users who do X\" then you should be able to assume that your users are independent. This isn't always true. An example where it might fail is if your domain includes 1000 tenants each with 1000 users. If you oversample from one tenant, then users may not be independent. Another case that could cause trouble is if you sample sessions and a user can have more than one session. In that case, sessions from a single user are probably not independent.\n",
      "\n"
     ]
    },
    {
     "cell_type": "markdown",
     "metadata": {},
     "source": [
      "Step 2: Treat your metric as the mean of some distribution\n",
      "----------------------------------------------------------------\n",
      "\n",
      "If your metric is \"percent of users who do X\" then you are in luck. You can model each user's decision as a bernoulli trial, which means that there are only two possible outcomes. The total number of users who do X is a Bernoulli random variable, which is completely described by the probability of success for a single trial and the number of trials.\n",
      "\n",
      "Let's see some code. Below, I create a population of users then I sample to get my observed population. "
     ]
    },
    {
     "cell_type": "code",
     "collapsed": false,
     "input": [
      "total_population_size = 100000\n",
      "sample_size = 0.05\n",
      "\n",
      "known_metric = .3  # 30% of users click the widget.\n",
      "\n",
      "def get_samples(sample_ratio=sample_size):\n",
      "    total_population = np.random.uniform(0, 1, total_population_size) < known_metric\n",
      "    sampled_population = np.random.choice(total_population, int(total_population_size * sample_ratio), replace=False)\n",
      "    return total_population, sampled_population\n",
      "    \n",
      "total_population, sampled_population = get_samples()    \n",
      "\n",
      "print \"Actual population metric is {0}\".format(total_population.sum() / float(total_population_size))\n",
      "print \"Sampled population metric is {0}\".format(sum(sampled_population) / float(len(sampled_population)))"
     ],
     "language": "python",
     "metadata": {},
     "outputs": [
      {
       "output_type": "stream",
       "stream": "stdout",
       "text": [
        "Actual population metric is 0.30213\n",
        "Sampled population metric is 0.3022\n"
       ]
      }
     ],
     "prompt_number": 172
    },
    {
     "cell_type": "markdown",
     "metadata": {},
     "source": [
      "The sample estimate looks like it is pretty close, but we really care about the confidence interval around our estimate. In python, we'll use scipy to get a confidence interval around the sample mean. See [http://en.wikipedia.org/wiki/Binomial_proportion_confidence_interval] for a set of algorithms to go about computing a confidence interval."
     ]
    },
    {
     "cell_type": "code",
     "collapsed": false,
     "input": [
      "np.array(spstats.binom.interval(.95, total_population_size, sum(sampled_population) / float(len(sampled_population)))) / total_population_size"
     ],
     "language": "python",
     "metadata": {},
     "outputs": [
      {
       "metadata": {},
       "output_type": "pyout",
       "prompt_number": 55,
       "text": [
        "array([ 0.30255,  0.30826])"
       ]
      }
     ],
     "prompt_number": 55
    },
    {
     "cell_type": "code",
     "collapsed": false,
     "input": [
      "in_ci = []\n",
      "ci_size = []\n",
      "estimate = []\n",
      "for i in range(1000):\n",
      "    total_population, sampled_population = get_samples()  # in reality, you only have sampled_population.\n",
      "    \n",
      "    # compute your metric.\n",
      "    sample_mean = sum(sampled_population) / float(len(sampled_population))\n",
      "    \n",
      "    estimate.append(sample_mean)\n",
      "    \n",
      "    # compute a confidence interval.\n",
      "    ci = np.array(spstats.binom.interval(.95, len(sampled_population), sample_mean )) \n",
      "    \n",
      "    # Scale up. In our case, we are multiplying times inverse of sample ratio.\n",
      "    ci_full_population = ci / sample_size\n",
      "    \n",
      "    # Record whether our CI includes the known population mean.\n",
      "    in_ci.append( ci_full_population[0] <= sum(total_population) <= ci_full_population[1])\n",
      "    \n",
      "    ci_size.append(ci_full_population)"
     ],
     "language": "python",
     "metadata": {},
     "outputs": [],
     "prompt_number": 173
    },
    {
     "cell_type": "markdown",
     "metadata": {},
     "source": [
      "This next computation is the most important one. Here, we examine how often our confidence interval contains the actual population value. We should see that this is around 95%. If it's too low, then our confidence interval is not wide enough. We are being overly optimistic with our estimated precision. if it's too high, then we are being overly conservative."
     ]
    },
    {
     "cell_type": "code",
     "collapsed": false,
     "input": [
      "print \"Your 95% CI contains the population value {0}% of the time\".format(sum(in_ci)/ float(len(in_ci)) * 100)\n",
      "print \"This should be near 95%.\""
     ],
     "language": "python",
     "metadata": {},
     "outputs": [
      {
       "output_type": "stream",
       "stream": "stdout",
       "text": [
        "Your 95% CI contains the population value 96.7% of the time\n",
        "This should be near 95%.\n"
       ]
      }
     ],
     "prompt_number": 174
    },
    {
     "cell_type": "code",
     "collapsed": false,
     "input": [
      "ci_width = ci_size[0]\n",
      "\n",
      "print \"Here's a sample\"\n",
      "print \"Sample estimated num users who did action is {0}\".format(estimate[0] * total_population_size)\n",
      "print \"average Confidence Interval is {0}\".format(ci_width)\n",
      "print \"So the width of your estimate is {0}% of your metric value.\".format((ci_width[1] - ci_width[0]) / estimate[0] /total_population_size* 100)"
     ],
     "language": "python",
     "metadata": {},
     "outputs": [
      {
       "output_type": "stream",
       "stream": "stdout",
       "text": [
        "Here's a sample\n",
        "Sample estimated num users who did action is 29020.0\n",
        "average Confidence Interval is [ 27760.  30280.]\n",
        "So the width of your estimate is 8.68366643694% of your metric value.\n"
       ]
      }
     ],
     "prompt_number": 175
    },
    {
     "cell_type": "markdown",
     "metadata": {},
     "source": [
      "Danger Zone: What if your sample rate is also estimated?\n",
      "--------------------------------------------------------\n",
      "\n",
      "In this simulation, we also allow our sampling rate to be a random variable. We'll allow our sampling distribution to be a uniform random variable centered on our intended value."
     ]
    },
    {
     "cell_type": "code",
     "collapsed": false,
     "input": [
      "in_ci = []\n",
      "ci_size = []\n",
      "estimate = []\n",
      "\n",
      "hyperparameter_mean_sample_size = sample_size  # same as above\n",
      "hyperparameter_sample_size_width = 0.005  # So we could be between 0.04 and 0.06 in our sample size.\n",
      "\n",
      "for i in range(100):\n",
      "    \n",
      "    local_sample_size = np.random.uniform(hyperparameter_mean_sample_size - hyperparameter_sample_size_width,\n",
      "                                          hyperparameter_mean_sample_size + hyperparameter_sample_size_width)\n",
      "    \n",
      "    total_population, sampled_population = get_samples(local_sample_size)  # in reality, you only have sampled_population.\n",
      "    \n",
      "    # compute your metric.\n",
      "    sample_mean = sum(sampled_population) / float(len(sampled_population))\n",
      "    \n",
      "    estimate.append(sample_mean)\n",
      "    \n",
      "    # compute a confidence interval.\n",
      "    ci = np.array(spstats.binom.interval(.95, len(sampled_population), sample_mean )) \n",
      "    \n",
      "    # Scale up. In our case, we are multiplying times inverse of sample ratio.\n",
      "    ci_full_population = ci / sample_size\n",
      "    \n",
      "    # Record whether our CI includes the known population mean.\n",
      "    in_ci.append( ci_full_population[0] <= sum(total_population) <= ci_full_population[1])\n",
      "    \n",
      "    ci_size.append(ci_full_population)\n",
      "    "
     ],
     "language": "python",
     "metadata": {},
     "outputs": [],
     "prompt_number": 176
    },
    {
     "cell_type": "code",
     "collapsed": false,
     "input": [
      "print \"Your 95% CI contains the population value {0}% of the time\".format(sum(in_ci)/ float(len(in_ci)) * 100)\n",
      "print \"This should be near 95%.\""
     ],
     "language": "python",
     "metadata": {},
     "outputs": [
      {
       "output_type": "stream",
       "stream": "stdout",
       "text": [
        "Your 95% CI contains the population value 37.0% of the time\n",
        "This should be near 95%.\n"
       ]
      }
     ],
     "prompt_number": 177
    },
    {
     "cell_type": "code",
     "collapsed": false,
     "input": [
      "ci_width = ci_size[0]\n",
      "\n",
      "print \"Here's a sample\"\n",
      "print \"Sample estimated num users who did action is {0}\".format(estimate[0] * total_population_size)\n",
      "print \"average Confidence Interval is {0}\".format(ci_width)\n",
      "print \"So the width of your estimate is {0}% of your metric value.\".format((ci_width[1] - ci_width[0]) / estimate[0] /total_population_size* 100)"
     ],
     "language": "python",
     "metadata": {},
     "outputs": [
      {
       "output_type": "stream",
       "stream": "stdout",
       "text": [
        "Here's a sample\n",
        "Sample estimated num users who did action is 29654.7472256\n",
        "average Confidence Interval is [ 27620.  30120.]\n",
        "So the width of your estimate is 8.43035343035% of your metric value.\n"
       ]
      }
     ],
     "prompt_number": 178
    },
    {
     "cell_type": "markdown",
     "metadata": {},
     "source": [
      "Notice how poorly our confidence interval estimate actually performs. In other words, if we say \"we're 95% sure the true population estimate is X\", we'll be wrong nearly 2/3 of the time.  "
     ]
    },
    {
     "cell_type": "markdown",
     "metadata": {},
     "source": [
      "How wide is that 95% confidence interval when we don't have an exact sampling estimate?\n",
      "\n",
      "*A Quick Overview of Bootstrapping*\n",
      "\n",
      "\n",
      "\n",
      "In this simulation, we will repeated sample from the same population and compute our stats. \n"
     ]
    },
    {
     "cell_type": "code",
     "collapsed": false,
     "input": [
      "def generate_bootstrap_sample():\n",
      "\n",
      "    total_population = np.random.uniform(0, 1, total_population_size) < known_metric\n",
      "\n",
      "    total_population_estimates = []\n",
      "\n",
      "    for i in xrange(400):\n",
      "        local_sample_size = np.random.uniform(hyperparameter_mean_sample_size - hyperparameter_sample_size_width,\n",
      "                                              hyperparameter_mean_sample_size + hyperparameter_sample_size_width)\n",
      "\n",
      "\n",
      "        sampled_population = np.random.choice(total_population, int(total_population_size * local_sample_size), replace=False)\n",
      "\n",
      "        sample_pop_estimate = sum(sampled_population) \n",
      "        total_population_estimate = sample_pop_estimate / local_sample_size\n",
      "        total_population_estimates.append(total_population_estimate)\n",
      "    return total_population_estimates, sum(total_population)\n",
      "total_population_estimates, population_sum = generate_bootstrap_sample()"
     ],
     "language": "python",
     "metadata": {},
     "outputs": [],
     "prompt_number": 213
    },
    {
     "cell_type": "code",
     "collapsed": false,
     "input": [
      "population_sums = []\n",
      "estimate_sums = []\n",
      "lower_cis = []\n",
      "upper_cis = []\n",
      "in_ci = []\n",
      "\n",
      "for i in xrange(50):\n",
      "    total_population_estimates, population_sum = generate_bootstrap_sample()\n",
      "    mean_estimate = np.mean(total_population_estimates)\n",
      "    total_population_estimates.sort()\n",
      "    lowerci = total_population_estimates[int(len(total_population_estimates) * 0.025)]\n",
      "    upperci = total_population_estimates[int(len(total_population_estimates) * 0.975)]\n",
      "    \n",
      "    population_sums.append(population_sum)\n",
      "    estimate_sums.append(mean_estimate)\n",
      "    lower_cis.append(lowerci)\n",
      "    upper_cis.append(upperci)\n",
      "    in_ci.append(lowerci <= population_sum <= upperci)"
     ],
     "language": "python",
     "metadata": {},
     "outputs": [],
     "prompt_number": 214
    },
    {
     "cell_type": "code",
     "collapsed": false,
     "input": [
      "print population_sums"
     ],
     "language": "python",
     "metadata": {},
     "outputs": [
      {
       "output_type": "stream",
       "stream": "stdout",
       "text": [
        "[29929, 29946, 30010, 29936, 29903, 30021, 29927, 29700, 30130, 30121]\n"
       ]
      }
     ],
     "prompt_number": 204
    },
    {
     "cell_type": "code",
     "collapsed": false,
     "input": [
      "lower_cis"
     ],
     "language": "python",
     "metadata": {},
     "outputs": [
      {
       "metadata": {},
       "output_type": "pyout",
       "prompt_number": 217,
       "text": [
        "[28686.276820705003,\n",
        " 28731.836761777038,\n",
        " 28757.667290529022,\n",
        " 28373.215784100892,\n",
        " 28609.294243885099,\n",
        " 28769.532977962193,\n",
        " 29017.15864017425,\n",
        " 28692.976585557299,\n",
        " 28866.795823245415,\n",
        " 28532.883336716492,\n",
        " 28734.928581715976,\n",
        " 28725.211174631288,\n",
        " 29005.998876432695,\n",
        " 28618.298662344412,\n",
        " 29005.066449032896,\n",
        " 28713.120756954741,\n",
        " 28645.14870133136,\n",
        " 28754.543910306384,\n",
        " 28381.850600555412,\n",
        " 28610.720680349663,\n",
        " 28789.557143272559,\n",
        " 28723.559623398221,\n",
        " 28724.764249326774,\n",
        " 28924.128581216159,\n",
        " 28619.038335640016,\n",
        " 28833.273792601602,\n",
        " 28593.178324218501,\n",
        " 28909.550572313718,\n",
        " 28509.446473895518,\n",
        " 28769.812641889603,\n",
        " 28679.455176208783,\n",
        " 28883.39879461587,\n",
        " 28893.532292009186,\n",
        " 28915.032530865414,\n",
        " 28722.672916717722,\n",
        " 28816.983340642677,\n",
        " 28717.073577029463,\n",
        " 28950.631924390396,\n",
        " 28789.989770898668,\n",
        " 28822.672091299439,\n",
        " 28369.587927194116,\n",
        " 29031.934255494998,\n",
        " 28757.435282149225,\n",
        " 28848.903912733495,\n",
        " 28568.035171669038,\n",
        " 28761.028599398433,\n",
        " 28608.708604078067,\n",
        " 28789.541472763067,\n",
        " 28596.984291843975,\n",
        " 28755.180552669408]"
       ]
      }
     ],
     "prompt_number": 217
    },
    {
     "cell_type": "code",
     "collapsed": false,
     "input": [
      "upper_cis"
     ],
     "language": "python",
     "metadata": {},
     "outputs": [
      {
       "metadata": {},
       "output_type": "pyout",
       "prompt_number": 218,
       "text": [
        "[31207.940513838243,\n",
        " 31216.671386798451,\n",
        " 31320.136972723605,\n",
        " 30914.458254602523,\n",
        " 31200.514462220057,\n",
        " 31339.263158354195,\n",
        " 31412.124857371382,\n",
        " 31158.797651445864,\n",
        " 31396.232274776372,\n",
        " 31053.088686731651,\n",
        " 31004.691234690279,\n",
        " 31239.575382894618,\n",
        " 31549.796842829688,\n",
        " 30806.962511966842,\n",
        " 31335.183311567009,\n",
        " 31307.845456910058,\n",
        " 31246.435620383287,\n",
        " 31283.598186599131,\n",
        " 30913.82543711544,\n",
        " 31165.388603358693,\n",
        " 31151.85294492084,\n",
        " 31178.31211677397,\n",
        " 31176.218792287382,\n",
        " 31443.177927942907,\n",
        " 31204.504324379148,\n",
        " 31190.035559563861,\n",
        " 31123.884873065981,\n",
        " 31182.024584457806,\n",
        " 31085.321961996928,\n",
        " 31186.117510385797,\n",
        " 31290.869743349638,\n",
        " 31350.244036148371,\n",
        " 31506.559330305903,\n",
        " 31183.083917728316,\n",
        " 31187.345095295463,\n",
        " 31440.313974134708,\n",
        " 31268.880334117308,\n",
        " 31296.970362678476,\n",
        " 31199.540749774376,\n",
        " 31398.451319301472,\n",
        " 30944.081785041122,\n",
        " 31401.35602678555,\n",
        " 31236.774248588561,\n",
        " 31266.891169540391,\n",
        " 31071.692731851414,\n",
        " 31288.804487543712,\n",
        " 31051.282219116441,\n",
        " 31252.011634431012,\n",
        " 30960.848625101084,\n",
        " 31127.25268515047]"
       ]
      }
     ],
     "prompt_number": 218
    },
    {
     "cell_type": "code",
     "collapsed": false,
     "input": [
      "estimate_sums"
     ],
     "language": "python",
     "metadata": {},
     "outputs": [
      {
       "metadata": {},
       "output_type": "pyout",
       "prompt_number": 208,
       "text": [
        "[29938.512436863024,\n",
        " 29919.828022314738,\n",
        " 30042.685693425225,\n",
        " 29934.414132145183,\n",
        " 29896.877562620706,\n",
        " 29936.896930369832,\n",
        " 29860.320008612092,\n",
        " 29668.379184591788,\n",
        " 30196.534324636352,\n",
        " 30084.300087786232]"
       ]
      }
     ],
     "prompt_number": 208
    },
    {
     "cell_type": "code",
     "collapsed": false,
     "input": [
      "in_ci"
     ],
     "language": "python",
     "metadata": {},
     "outputs": [
      {
       "metadata": {},
       "output_type": "pyout",
       "prompt_number": 215,
       "text": [
        "[True,\n",
        " True,\n",
        " True,\n",
        " True,\n",
        " True,\n",
        " True,\n",
        " True,\n",
        " True,\n",
        " True,\n",
        " True,\n",
        " True,\n",
        " True,\n",
        " True,\n",
        " True,\n",
        " True,\n",
        " True,\n",
        " True,\n",
        " True,\n",
        " True,\n",
        " True,\n",
        " True,\n",
        " True,\n",
        " True,\n",
        " True,\n",
        " True,\n",
        " True,\n",
        " True,\n",
        " True,\n",
        " True,\n",
        " True,\n",
        " True,\n",
        " True,\n",
        " True,\n",
        " True,\n",
        " True,\n",
        " True,\n",
        " True,\n",
        " True,\n",
        " True,\n",
        " True,\n",
        " True,\n",
        " True,\n",
        " True,\n",
        " True,\n",
        " True,\n",
        " True,\n",
        " True,\n",
        " True,\n",
        " True,\n",
        " True]"
       ]
      }
     ],
     "prompt_number": 215
    },
    {
     "cell_type": "code",
     "collapsed": false,
     "input": [
      "int(len(total_population_estimates) * 0.975)"
     ],
     "language": "python",
     "metadata": {},
     "outputs": [
      {
       "metadata": {},
       "output_type": "pyout",
       "prompt_number": 216,
       "text": [
        "390"
       ]
      }
     ],
     "prompt_number": 216
    },
    {
     "cell_type": "code",
     "collapsed": false,
     "input": [],
     "language": "python",
     "metadata": {},
     "outputs": []
    }
   ],
   "metadata": {}
  }
 ]
}