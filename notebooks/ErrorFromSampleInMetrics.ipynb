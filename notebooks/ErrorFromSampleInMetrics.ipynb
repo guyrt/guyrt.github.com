{
 "metadata": {
  "name": "",
  "signature": "sha256:55428272358d734b08d083754cb2da417f0f8bf8407c27f85c8ddadb5377d9eb"
 },
 "nbformat": 3,
 "nbformat_minor": 0,
 "worksheets": [
  {
   "cells": [
    {
     "cell_type": "code",
     "collapsed": false,
     "input": [
      "import numpy as np\n",
      "import scipy.stats as spstats\n",
      "\n",
      "%pylab inline"
     ],
     "language": "python",
     "metadata": {},
     "outputs": [
      {
       "output_type": "stream",
       "stream": "stdout",
       "text": [
        "Populating the interactive namespace from numpy and matplotlib\n"
       ]
      }
     ],
     "prompt_number": 41
    },
    {
     "cell_type": "markdown",
     "metadata": {},
     "source": [
      "The following question came up at work: given that I can only sample $n\\%$ of my logs, what is the correct size of the error bars for an estimate of some metric? As an example, let's say I can only capture $5\\%$ of my logs. From those logs, I estimate that $30\\%$ of users click on some widget. What is the $95\\%$ confidence bound for the actual click rate in the entire sample?\n",
      "\n",
      "This walks through a few assumptions and a means to estimate the overall metric. "
     ]
    },
    {
     "cell_type": "markdown",
     "metadata": {},
     "source": [
      "Step 1: Be sure that your aggregation unit produces independent samples.\n",
      "------------------------------------------------------------------------\n",
      "\n",
      "If your metric is \"percent of users who do X\" then you should be able to assume that your users are independent. This isn't always true. An example where it might fail is if your domain includes 1000 tenants each with 1000 users. If you oversample from one tenant, then users may not be independent. Another case that could cause trouble is if you sample sessions and a user can have more than one session. In that case, sessions from a single user are probably not independent.\n",
      "\n"
     ]
    },
    {
     "cell_type": "markdown",
     "metadata": {},
     "source": [
      "Step 2: Treat your metric as the mean of some distribution\n",
      "----------------------------------------------------------------\n",
      "\n",
      "If your metric is \"percent of users who do X\" then you are in luck. You can model each user's decision as a bernoulli trial, which means that there are only two possible outcomes. The total number of users who do X is a Bernoulli random variable, which is completely described by the probability of success for a single trial and the number of trials.\n",
      "\n",
      "Let's see some code. Below, I create a population of users then I sample to get my observed population. "
     ]
    },
    {
     "cell_type": "code",
     "collapsed": false,
     "input": [
      "total_population_size = 100000\n",
      "sample_size = 0.05\n",
      "\n",
      "known_metric = .3  # 30% of users click the widget.\n",
      "\n",
      "def get_samples(sample_ratio=sample_size):\n",
      "    total_population = np.random.uniform(0, 1, total_population_size) < known_metric\n",
      "    sampled_population = np.random.choice(total_population, int(total_population_size * sample_ratio), replace=False)\n",
      "    return total_population, sampled_population\n",
      "    \n",
      "total_population, sampled_population = get_samples()    \n",
      "\n",
      "print \"Actual population metric is {0}\".format(total_population.sum() / float(total_population_size))\n",
      "print \"Sampled population metric is {0}\".format(sum(sampled_population) / float(len(sampled_population)))"
     ],
     "language": "python",
     "metadata": {},
     "outputs": [
      {
       "output_type": "stream",
       "stream": "stdout",
       "text": [
        "Actual population metric is 0.30213\n",
        "Sampled population metric is 0.3022\n"
       ]
      }
     ],
     "prompt_number": 172
    },
    {
     "cell_type": "markdown",
     "metadata": {},
     "source": [
      "The sample estimate looks like it is pretty close, but we really care about the confidence interval around our estimate. In python, we'll use scipy to get a confidence interval around the sample mean. See http://en.wikipedia.org/wiki/Binomial_proportion_confidence_interval for a set of algorithms to go about computing a confidence interval."
     ]
    },
    {
     "cell_type": "code",
     "collapsed": false,
     "input": [
      "np.array(spstats.binom.interval(.95, total_population_size, sum(sampled_population) / float(len(sampled_population)))) / total_population_size"
     ],
     "language": "python",
     "metadata": {},
     "outputs": [
      {
       "metadata": {},
       "output_type": "pyout",
       "prompt_number": 55,
       "text": [
        "array([ 0.30255,  0.30826])"
       ]
      }
     ],
     "prompt_number": 55
    },
    {
     "cell_type": "code",
     "collapsed": false,
     "input": [
      "in_ci = []\n",
      "ci_size = []\n",
      "estimate = []\n",
      "for i in range(1000):\n",
      "    total_population, sampled_population = get_samples()  # in reality, you only have sampled_population.\n",
      "    \n",
      "    # compute your metric.\n",
      "    sample_mean = sum(sampled_population) / float(len(sampled_population))\n",
      "    \n",
      "    estimate.append(sample_mean)\n",
      "    \n",
      "    # compute a confidence interval.\n",
      "    ci = np.array(spstats.binom.interval(.95, len(sampled_population), sample_mean )) \n",
      "    \n",
      "    # Scale up. In our case, we are multiplying times inverse of sample ratio.\n",
      "    ci_full_population = ci / sample_size\n",
      "    \n",
      "    # Record whether our CI includes the known population mean.\n",
      "    in_ci.append( ci_full_population[0] <= sum(total_population) <= ci_full_population[1])\n",
      "    \n",
      "    ci_size.append(ci_full_population)"
     ],
     "language": "python",
     "metadata": {},
     "outputs": [],
     "prompt_number": 173
    },
    {
     "cell_type": "markdown",
     "metadata": {},
     "source": [
      "This next computation is the most important one. Here, we examine how often our confidence interval contains the actual population value. We should see that this is around 95%. If it's too low, then our confidence interval is not wide enough. We are being overly optimistic with our estimated precision. if it's too high, then we are being overly conservative."
     ]
    },
    {
     "cell_type": "code",
     "collapsed": false,
     "input": [
      "print \"Your 95% CI contains the population value {0}% of the time\".format(sum(in_ci)/ float(len(in_ci)) * 100)\n",
      "print \"This should be near 95%.\""
     ],
     "language": "python",
     "metadata": {},
     "outputs": [
      {
       "output_type": "stream",
       "stream": "stdout",
       "text": [
        "Your 95% CI contains the population value 96.7% of the time\n",
        "This should be near 95%.\n"
       ]
      }
     ],
     "prompt_number": 174
    },
    {
     "cell_type": "code",
     "collapsed": false,
     "input": [
      "ci_width = ci_size[0]\n",
      "\n",
      "print \"Here's a sample\"\n",
      "print \"Sample estimated num users who did action is {0}\".format(estimate[0] * total_population_size)\n",
      "print \"average Confidence Interval is {0}\".format(ci_width)\n",
      "print \"So the width of your estimate is {0}% of your metric value.\".format((ci_width[1] - ci_width[0]) / estimate[0] /total_population_size* 100)"
     ],
     "language": "python",
     "metadata": {},
     "outputs": [
      {
       "output_type": "stream",
       "stream": "stdout",
       "text": [
        "Here's a sample\n",
        "Sample estimated num users who did action is 29020.0\n",
        "average Confidence Interval is [ 27760.  30280.]\n",
        "So the width of your estimate is 8.68366643694% of your metric value.\n"
       ]
      }
     ],
     "prompt_number": 175
    },
    {
     "cell_type": "markdown",
     "metadata": {},
     "source": [
      "Danger Zone: What if your sample rate is also estimated?\n",
      "--------------------------------------------------------\n",
      "\n",
      "In this simulation, we also allow our sampling rate to be a random variable. We'll allow our sampling distribution to be a uniform random variable centered on our intended value."
     ]
    },
    {
     "cell_type": "code",
     "collapsed": false,
     "input": [
      "in_ci = []\n",
      "ci_size = []\n",
      "estimate = []\n",
      "\n",
      "hyperparameter_mean_sample_size = sample_size  # same as above\n",
      "hyperparameter_sample_size_width = 0.005  # So we could be between 0.04 and 0.06 in our sample size.\n",
      "\n",
      "for i in range(100):\n",
      "    \n",
      "    local_sample_size = np.random.uniform(hyperparameter_mean_sample_size - hyperparameter_sample_size_width,\n",
      "                                          hyperparameter_mean_sample_size + hyperparameter_sample_size_width)\n",
      "    \n",
      "    total_population, sampled_population = get_samples(local_sample_size)  # in reality, you only have sampled_population.\n",
      "    \n",
      "    # compute your metric.\n",
      "    sample_mean = sum(sampled_population) / float(len(sampled_population))\n",
      "    \n",
      "    estimate.append(sample_mean)\n",
      "    \n",
      "    # compute a confidence interval.\n",
      "    ci = np.array(spstats.binom.interval(.95, len(sampled_population), sample_mean )) \n",
      "    \n",
      "    # Scale up. In our case, we are multiplying times inverse of sample ratio.\n",
      "    ci_full_population = ci / sample_size\n",
      "    \n",
      "    # Record whether our CI includes the known population mean.\n",
      "    in_ci.append( ci_full_population[0] <= sum(total_population) <= ci_full_population[1])\n",
      "    \n",
      "    ci_size.append(ci_full_population)\n",
      "    "
     ],
     "language": "python",
     "metadata": {},
     "outputs": [],
     "prompt_number": 176
    },
    {
     "cell_type": "code",
     "collapsed": false,
     "input": [
      "print \"Your 95% CI contains the population value {0}% of the time\".format(sum(in_ci)/ float(len(in_ci)) * 100)\n",
      "print \"This should be near 95%.\""
     ],
     "language": "python",
     "metadata": {},
     "outputs": [
      {
       "output_type": "stream",
       "stream": "stdout",
       "text": [
        "Your 95% CI contains the population value 37.0% of the time\n",
        "This should be near 95%.\n"
       ]
      }
     ],
     "prompt_number": 177
    },
    {
     "cell_type": "code",
     "collapsed": false,
     "input": [
      "ci_width = ci_size[0]\n",
      "\n",
      "print \"Here's a sample\"\n",
      "print \"Sample estimated num users who did action is {0}\".format(estimate[0] * total_population_size)\n",
      "print \"average Confidence Interval is {0}\".format(ci_width)\n",
      "print \"So the width of your estimate is {0}% of your metric value.\".format((ci_width[1] - ci_width[0]) / estimate[0] /total_population_size* 100)"
     ],
     "language": "python",
     "metadata": {},
     "outputs": [
      {
       "output_type": "stream",
       "stream": "stdout",
       "text": [
        "Here's a sample\n",
        "Sample estimated num users who did action is 29654.7472256\n",
        "average Confidence Interval is [ 27620.  30120.]\n",
        "So the width of your estimate is 8.43035343035% of your metric value.\n"
       ]
      }
     ],
     "prompt_number": 178
    },
    {
     "cell_type": "markdown",
     "metadata": {},
     "source": [
      "Notice how poorly our confidence interval estimate actually performs. In other words, if we say \"we're 95% sure the true population estimate is X\", we'll be wrong nearly 2/3 of the time.  "
     ]
    },
    {
     "cell_type": "code",
     "collapsed": false,
     "input": [],
     "language": "python",
     "metadata": {},
     "outputs": []
    }
   ],
   "metadata": {}
  }
 ]
}