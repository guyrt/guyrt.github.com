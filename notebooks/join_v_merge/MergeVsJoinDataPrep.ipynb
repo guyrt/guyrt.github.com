{
 "cells": [
  {
   "cell_type": "code",
   "execution_count": 1,
   "metadata": {},
   "outputs": [],
   "source": [
    "# This notebook just creates data for use in ./MergeVsJoinDataPrep.ipynb."
   ]
  },
  {
   "cell_type": "code",
   "execution_count": 29,
   "metadata": {},
   "outputs": [],
   "source": [
    "import os\n",
    "import uuid\n",
    "import pandas as pd\n",
    "import math\n",
    "import random"
   ]
  },
  {
   "cell_type": "code",
   "execution_count": 24,
   "metadata": {},
   "outputs": [],
   "source": [
    " # day 1\n",
    "def product_names(i):\n",
    "    if i % 3 == 0:\n",
    "        return f'widget{i}'\n",
    "    elif i % 3 == 1:\n",
    "        return f'sproket{i}'\n",
    "    else:\n",
    "        return f'doodad{i}'\n",
    "\n",
    "products = [\n",
    "    {'product_id': f'p_{i}', 'product_name': product_names(i), 'price': round(random.random() * 100, 2)}\n",
    "    for i in range(125)\n",
    "]\n",
    "\n",
    "invoices = [\n",
    "    {'invoice_id': f'inv_{i}', 'customer': str(uuid.uuid4()), 'status': 'draft' if random.random() < 0.1 else 'sent'}\n",
    "    for i in range(1000)\n",
    "]\n",
    "\n",
    "invoice_items = []\n",
    "for invoice in invoices:\n",
    "    num_items = random.randint(1, 5)\n",
    "    items = [\n",
    "        {'invoice_item_id': str(uuid.uuid4()), \n",
    "         'invoice': invoice['invoice_id'], \n",
    "         'count': random.randint(1, 4), \n",
    "         'product': products[random.randint(0, 124)]['product_id']}\n",
    "        for i in range(num_items)\n",
    "    ]\n",
    "    invoice_items.extend(items)\n",
    "    "
   ]
  },
  {
   "cell_type": "code",
   "execution_count": 36,
   "metadata": {},
   "outputs": [],
   "source": [
    "os.makedirs('./data/products/day=0', exist_ok=True)\n",
    "pd.DataFrame(products).to_csv(\"./data/products/day=0/products.csv\")\n",
    "\n",
    "os.makedirs('./data/invoice/day=0', exist_ok=True)\n",
    "pd.DataFrame(invoices).to_csv(\"./data/invoice/day=0/invoices.csv\")\n",
    "\n",
    "os.makedirs('./data/invoiceitems/day=0', exist_ok=True)\n",
    "pd.DataFrame(invoice_items).to_csv(\"./data/invoiceitems/day=0/invoiceitems.csv\")\n",
    "\n"
   ]
  },
  {
   "cell_type": "code",
   "execution_count": 43,
   "metadata": {},
   "outputs": [],
   "source": [
    "# day 1 - any invoice that has changed will be in here.\n",
    "# separate delete records made.\n",
    "existing_invoices = {k['invoice_id']: k for k in invoices}\n",
    "existing_items = {}\n",
    "for item in invoice_items:\n",
    "    inv_id = item['invoice_id']\n",
    "    if inv_id not in existing_items:\n",
    "        existing_items[inv_id] = []\n",
    "    existing_items[inv_id].append(item)\n",
    "\n",
    "# make new invoices\n",
    "random_invoice_ids = set([random.randint(0, 5000) for r in range(500)])  # gives us updates to 20%\n",
    "changed_invoices = [\n",
    "    {'invoice_id': f'inv_{i}', \n",
    "     'customer': str(uuid.uuid4()), \n",
    "     'status': 'draft' if random.random() < 0.1 else 'sent'}\n",
    "    for i in random_invoice_ids if i > 1000\n",
    "]\n",
    "# todo - make the items to go with them. These should use mix of existing and unavailable products. [sample from 200]\n",
    "changed_invoice_items = []\n",
    "deleted_invoice_items = []\n",
    "\n",
    "deleted_invoices = []\n",
    "\n",
    "# update some invoices [drop item, add item, modify item]\n",
    "invoices_to_update = [i for i in random_invoice_ids if i <= 1000]\n",
    "for update_i in invoices_to_update:\n",
    "    rand_action = random.random()\n",
    "    if rand_action < .05:\n",
    "        # drop an invoice\n",
    "        deleted_invoices.append(existing_invoices[update_i])\n",
    "    elif rand_action < 0.1:\n",
    "        # drop an invoice item or two\n",
    "        num_to_drop = 1 if random.random() < 0.6 else 2\n",
    "        to_drop = random.choice(existing_items[update_i['invoice_id']])\n",
    "    elif rand_action < 0.9:\n",
    "        inv = existing_invoices[update_i]\n",
    "        inv['status'] == 'sent'\n",
    "        changed_invoices.append(inv)\n",
    "    else:\n",
    "        # find an item and update the count\n",
    "        inv_item = random.choice(existing_items[update_i['invoice_id']])\n",
    "        inv_item['count'] = random.randint(1, 6)\n",
    "        changed_invoice_items.append(inv_item)\n",
    "\n",
    "# update products\n",
    "\n",
    "# add unused products"
   ]
  },
  {
   "cell_type": "code",
   "execution_count": 45,
   "metadata": {},
   "outputs": [
    {
     "data": {
      "text/plain": [
       "370"
      ]
     },
     "execution_count": 45,
     "metadata": {},
     "output_type": "execute_result"
    }
   ],
   "source": [
    "len(new_invoices)"
   ]
  },
  {
   "cell_type": "code",
   "execution_count": 47,
   "metadata": {},
   "outputs": [],
   "source": [
    "a = []\n",
    "a.append(1)"
   ]
  },
  {
   "cell_type": "code",
   "execution_count": null,
   "metadata": {},
   "outputs": [],
   "source": []
  }
 ],
 "metadata": {
  "kernelspec": {
   "display_name": "Python 3",
   "language": "python",
   "name": "python3"
  },
  "language_info": {
   "codemirror_mode": {
    "name": "ipython",
    "version": 3
   },
   "file_extension": ".py",
   "mimetype": "text/x-python",
   "name": "python",
   "nbconvert_exporter": "python",
   "pygments_lexer": "ipython3",
   "version": "3.8.3"
  }
 },
 "nbformat": 4,
 "nbformat_minor": 4
}
