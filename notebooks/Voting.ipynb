{
 "cells": [
  {
   "cell_type": "code",
   "execution_count": 1,
   "metadata": {
    "collapsed": false
   },
   "outputs": [
    {
     "name": "stdout",
     "output_type": "stream",
     "text": [
      "Populating the interactive namespace from numpy and matplotlib\n",
      "3.0\n"
     ]
    }
   ],
   "source": [
    "# setup and imports\n",
    "import pandas as pd\n",
    "import numpy as np\n",
    "import pymc\n",
    "from scipy.stats.distributions import binom\n",
    "%pylab inline\n",
    "print(pymc.__version__)  # pymc3 and 2 are *really* different. This is 2."
   ]
  },
  {
   "cell_type": "markdown",
   "metadata": {},
   "source": [
    "p-values are Only as Good as Their Power: A Bayesian Example\n",
    "------------------------------------------------------------"
   ]
  },
  {
   "cell_type": "markdown",
   "metadata": {},
   "source": [
    "[Andrew Gelman](http://andrewgelman.com/2015/10/13/what-do-you-learn-from-p-05-this-example-from-carl-morris-will-blow-your-mind/) recently referenced a classic statistical example from Carl Morris, which goes like this:\n",
    "\n",
    "Suppose candidates A and B are running in election. Historically, these races are tight, so that the winner usually has a vote total between 50 and 60%. Candidate A sponsors three polls, which give the following results:\n",
    "* Poll 1 interviews 20 people and finds 75% of responses in favor of candidate A.\n",
    "* Poll 2 inverviews 200 people and finds 57.5% of responses in favor of candidate A.\n",
    "* Poll 3 inverviews 2000 people and finds 52.3% of responses in favor of candidate A.\n",
    "\n",
    "A frequentist statistican would set up a null hypothesis of \"B will win the election\" which is equivalent to $\\theta < 0.5$ where the distribution of A votes is $Bin(\\theta)$. What is the p-value for each of these polls? The original paper used a t-test with continuity correction and got roughly $p = 0.021$ for each poll. We can easily do the same with explicity binomial checks:"
   ]
  },
  {
   "cell_type": "code",
   "execution_count": 5,
   "metadata": {
    "collapsed": false
   },
   "outputs": [
    {
     "name": "stdout",
     "output_type": "stream",
     "text": [
      "The p-value for Poll 1 is 0.020694732666\n",
      "The p-value for Poll 1 is 0.0200185958067\n",
      "The p-value for Poll 1 is 0.0209209953389\n"
     ]
    }
   ],
   "source": [
    "print(\"The p-value for Poll 1 is {0}\".format(1 - binom(20, .5).cdf(14)))\n",
    "print(\"The p-value for Poll 2 is {0}\".format(1 - binom(200, .5).cdf(114)))\n",
    "print(\"The p-value for Poll 3 is {0}\".format(1 - binom(2000, .5).cdf(1045)))"
   ]
  },
  {
   "cell_type": "markdown",
   "metadata": {},
   "source": [
    "Which poll is the most favorable for candidate A? Put another way, if you were a betting woman, which poll would encourage you to bet the most?\n",
    "\n",
    "In this post, we'll use pymc to show that poll 3 is by far the best result. Put another way, **Poll 3 with 2000 users is most consistent with an actual $\\theta > 0.5$.**"
   ]
  },
  {
   "cell_type": "markdown",
   "metadata": {
    "collapsed": false
   },
   "source": [
    "Modeling the Poll in pymc\n",
    "----------------------------------\n",
    "\n",
    "The polls are very simple modeled as:\n",
    "$$ \\theta \\sim N(0.5, 0.05) $$\n",
    "$$ poll_a \\sim Bin(n, n * \\theta) $$\n",
    "\n",
    "Our prior $\\theta$ essentially encodes our belief that the electorate is most probably between 40 and 60% in favor of candidate A, and it encodes no bias towards either candidate. Each poll is a Binomially distributed variable assuming a $\\theta$ fraction of successes in $n$ draws where $n$ will be 20, 200, or 2000."
   ]
  },
  {
   "cell_type": "code",
   "execution_count": 2,
   "metadata": {
    "collapsed": true
   },
   "outputs": [],
   "source": [
    "#\n",
    "# Build the model in pymc2. Note that tau is the inverse of $sigma$. Also, note that outcome is observed.\n",
    "# Use 10000 samples from an MCMC with a 100 iteration burnin. Our model is very simple, so I'm not overly\n",
    "# concerned about a poor fit.\n",
    "#\n",
    "num_samples = 10000\n",
    "burnin = 100\n",
    "def build_and_run_model(n, pobs):\n",
    "\n",
    "    theta = pymc.Normal(\"theta\", mu=.5, tau=1/(.05**2))\n",
    "    outcome = pymc.Binomial(\"outcome\", n=n, p=theta, value=pobs, observed=True)\n",
    "\n",
    "    @pymc.deterministic\n",
    "    def a_wins(theta=theta):\n",
    "        return theta > .5\n",
    "    \n",
    "    m = pymc.MCMC([theta, outcome, a_wins])\n",
    "    m.sample(num_samples + burnin, burn=burnin)\n",
    "    return m.trace\n"
   ]
  },
  {
   "cell_type": "code",
   "execution_count": 61,
   "metadata": {
    "collapsed": false
   },
   "outputs": [
    {
     "name": "stdout",
     "output_type": "stream",
     "text": [
      " [-----------------100%-----------------] 10100 of 10100 complete in 1.1 sec"
     ]
    }
   ],
   "source": [
    "possible_n = [20, 200, 2000]\n",
    "stated_outcomes = [.75, .575, .523]\n",
    "results = {}  # We'll store model traces here.\n",
    "\n",
    "for n, pobs in zip(possible_n, stated_outcomes):\n",
    "    traces_key = \"{0} obs with {1} for A\".format(n, pobs)\n",
    "    results[traces_key] = build_and_run_model(n, pobs * n)\n"
   ]
  },
  {
   "cell_type": "code",
   "execution_count": 62,
   "metadata": {
    "collapsed": false
   },
   "outputs": [
    {
     "data": {
      "text/plain": [
       "{'20 obs with 0.75 for A': <bound method MCMC.trace of <pymc.MCMC.MCMC object at 0x000000000E5CC7B8>>,\n",
       " '200 obs with 0.575 for A': <bound method MCMC.trace of <pymc.MCMC.MCMC object at 0x000000000E0F2128>>,\n",
       " '2000 obs with 0.523 for A': <bound method MCMC.trace of <pymc.MCMC.MCMC object at 0x000000000E0840B8>>}"
      ]
     },
     "execution_count": 62,
     "metadata": {},
     "output_type": "execute_result"
    }
   ],
   "source": [
    "# Results is a dictionary of traces\n",
    "results"
   ]
  },
  {
   "cell_type": "markdown",
   "metadata": {},
   "source": [
    "Q1: What is prob of null hypothesis of $\\theta < .5$ in each situation?"
   ]
  },
  {
   "cell_type": "code",
   "execution_count": 63,
   "metadata": {
    "collapsed": false
   },
   "outputs": [
    {
     "name": "stdout",
     "output_type": "stream",
     "text": [
      "Prob of null hypothesis\n",
      "2000 obs with 0.523 for A: 0.01870000000000005\n",
      "200 obs with 0.575 for A: 0.05249999999999999\n",
      "20 obs with 0.75 for A: 0.14949999999999997\n"
     ]
    }
   ],
   "source": [
    "print(\"Prob of null hypothesis\")\n",
    "for k, v in results.items():\n",
    "    chance_a_wins = 1 - sum(v('a_wins')[:]) / num_samples\n",
    "    print(\"{0}: {1}\".format(k, chance_a_wins))"
   ]
  },
  {
   "cell_type": "markdown",
   "metadata": {},
   "source": [
    "Visualizing those results"
   ]
  },
  {
   "cell_type": "code",
   "execution_count": 6,
   "metadata": {
    "collapsed": false
   },
   "outputs": [
    {
     "data": {
      "text/plain": [
       "<matplotlib.text.Text at 0xa3fe7f0>"
      ]
     },
     "execution_count": 6,
     "metadata": {},
     "output_type": "execute_result"
    },
    {
     "data": {
      "image/png": "[encoded data removed]",
      "text/plain": [
       "<matplotlib.figure.Figure at 0xa3f7f98>"
      ]
     },
     "metadata": {},
     "output_type": "display_data"
    }
   ],
   "source": [
    "hist(results['20 obs with 0.75 for A']('theta')[:], bins=15, alpha=.3)\n",
    "hist(results['200 obs with 0.575 for A']('theta')[:], bins=15, alpha=.3)\n",
    "hist(results['2000 obs with 0.523 for A']('theta')[:], bins=15, alpha=.3)\n",
    "axvline(.5, linewidth=2)\n",
    "_=legend([\"50%\", \"20 obs\", \"200 obs\", \"2000 obs\"])\n",
    "title(\"Theta estimates for each of our three surveys\")"
   ]
  },
  {
   "cell_type": "markdown",
   "metadata": {},
   "source": [
    "Modeling the prior $\\theta$ under each outcome shows that the larger sample sizes lead to much tighter estimates of the actual population. Most importantly for candidate A, the amount of weight on the low side of 0.5 gets much smaller: the probability of A losing given the observation in the 2000-person sample is much lower than the probability of A losing under the 20-person sample.\n",
    "\n",
    "Another way to examine the three observations is to compute the **Bayes Factor**, which is defined as the ratio of probabilities of the data given two models:\n",
    "\n",
    "$$BF(D, M_1, M_2) = \\frac{P(D|M_1)}{P(D|M_2)}$$\n",
    "\n",
    "We can actually estimate a Bayes factor relatively easily. The idea is to create an unconstrained model of the system and then compare probability of observing a given score under two models corresponding to a model where $\\theta < .5$ and a model where $\\theta > .5$. In other words, we assume a model where A wins and assume a model where A wins. The distribution of $\\theta$ in these two models is given by the plot below."
   ]
  },
  {
   "cell_type": "code",
   "execution_count": 114,
   "metadata": {
    "collapsed": true
   },
   "outputs": [],
   "source": [
    "def build_and_run_model_unobs(n):\n",
    "\n",
    "    theta = pymc.Normal(\"theta\", mu=.5, tau=1/(.05**2))\n",
    "    outcome = pymc.Binomial(\"outcome\", n=n, p=theta)\n",
    "\n",
    "    @pymc.deterministic\n",
    "    def a_wins(theta=theta):\n",
    "        return theta > .5\n",
    "    \n",
    "    m = pymc.MCMC([theta, outcome, a_wins])\n",
    "    m.sample(num_samples + burnin, burn=burnin)\n",
    "    return m.trace"
   ]
  },
  {
   "cell_type": "code",
   "execution_count": 78,
   "metadata": {
    "collapsed": false
   },
   "outputs": [
    {
     "name": "stdout",
     "output_type": "stream",
     "text": [
      " [-----------------100%-----------------] 10100 of 10100 complete in 1.3 sec"
     ]
    },
    {
     "data": {
      "text/plain": [
       "<matplotlib.text.Text at 0xed424a8>"
      ]
     },
     "execution_count": 78,
     "metadata": {},
     "output_type": "execute_result"
    },
    {
     "data": {
      "image/png": "[encoded data removed]",
      "text/plain": [
       "<matplotlib.figure.Figure at 0xe9e3438>"
      ]
     },
     "metadata": {},
     "output_type": "display_data"
    }
   ],
   "source": [
    "model_null = build_and_run_model_unobs(20)\n",
    "thetas = model_null('theta')[:]\n",
    "null_true = thetas < .5\n",
    "hist(thetas[null_true], alpha=.4)\n",
    "hist(thetas[~null_true], alpha=.4)\n",
    "legend([\"Model B\", \"Model A\"])\n",
    "title(\"Distribution of theta under our two models: one where each candidate has a lead\")"
   ]
  },
  {
   "cell_type": "markdown",
   "metadata": {},
   "source": [
    "The probability of observing $75\\%$ in favor of A under each model is given by:"
   ]
  },
  {
   "cell_type": "code",
   "execution_count": 127,
   "metadata": {
    "collapsed": false
   },
   "outputs": [
    {
     "name": "stdout",
     "output_type": "stream",
     "text": [
      " [-----------------100%-----------------] 10100 of 10100 complete in 1.4 sec\n",
      "Bayes Factor Estimate: 5.633255365987892\n"
     ]
    },
    {
     "data": {
      "image/png": "[encoded data removed]",
      "text/plain": [
       "<matplotlib.figure.Figure at 0x140a50f0>"
      ]
     },
     "metadata": {},
     "output_type": "display_data"
    }
   ],
   "source": [
    "model_20 = build_and_run_model_unobs(20)\n",
    "thetas = model_20('theta')[:]\n",
    "b_true = thetas < .5\n",
    "\n",
    "outcomes = model_20('outcome')[:]\n",
    "outcome_b_true = outcomes[b_true]\n",
    "outcome_a_true = outcomes[~b_true]\n",
    "bf = (sum(outcome_a_true >= 15) / outcome_a_true.shape[0]) / (sum(outcome_b_true >= 15) / outcome_b_true.shape[0])\n",
    "print()\n",
    "print(\"Bayes Factor Estimate: {0}\".format(bf))\n",
    "\n",
    "\n",
    "hist(outcome_b_true / 20, alpha=.4)\n",
    "hist(outcome_a_true / 20, alpha=.4)\n",
    "legend([\"Model B\", \"Model A\"])\n",
    "_ = title(\"Distribution of theta under our two models: one where each candidate has a lead\")"
   ]
  },
  {
   "cell_type": "markdown",
   "metadata": {},
   "source": [
    "The Bayes Factor is estimated to be roughly 4.8, which is positive for A, but not terribly large. The result suggests that A is more likely to win, sure, but there are cases where B is really in the lead but we still observe 15 of 20 votes for A. For comparison, let's compare the result to the outcome from the other tests:"
   ]
  },
  {
   "cell_type": "code",
   "execution_count": 126,
   "metadata": {
    "collapsed": false
   },
   "outputs": [
    {
     "name": "stdout",
     "output_type": "stream",
     "text": [
      " [-----------------100%-----------------] 10100 of 10100 complete in 1.3 sec\n",
      "Bayes Factor Estimate: 73.84203090618124\n"
     ]
    },
    {
     "data": {
      "image/png": "[encoded data removed]",
      "text/plain": [
       "<matplotlib.figure.Figure at 0x13b81eb8>"
      ]
     },
     "metadata": {},
     "output_type": "display_data"
    }
   ],
   "source": [
    "model_200 = build_and_run_model_unobs(200)\n",
    "thetas = model_200('theta')[:]\n",
    "b_true = thetas < .5\n",
    "\n",
    "outcomes = model_200('outcome')[:]\n",
    "outcome_b_true = outcomes[b_true]\n",
    "outcome_a_true = outcomes[~b_true]\n",
    "bf = (sum(outcome_a_true >= 200*.575) / outcome_a_true.shape[0]) / (sum(outcome_b_true >= 200*.575) / outcome_b_true.shape[0])\n",
    "print()\n",
    "print(\"Bayes Factor Estimate: {0}\".format(bf))\n",
    "\n",
    "\n",
    "hist(outcome_b_true / 200, alpha=.4)\n",
    "hist(outcome_a_true / 200, alpha=.4)\n",
    "legend([\"Model B\", \"Model A\"])\n",
    "_ = title(\"Distribution of theta under our two models: one where each candidate has a lead\")"
   ]
  },
  {
   "cell_type": "code",
   "execution_count": 128,
   "metadata": {
    "collapsed": false
   },
   "outputs": [
    {
     "name": "stdout",
     "output_type": "stream",
     "text": [
      " [-----------------100%-----------------] 10100 of 10100 complete in 1.4 sec\n",
      "Bayes Factor Estimate: 273.96916036609633\n"
     ]
    },
    {
     "data": {
      "image/png": "[encoded data removed]",
      "text/plain": [
       "<matplotlib.figure.Figure at 0x144e8320>"
      ]
     },
     "metadata": {},
     "output_type": "display_data"
    }
   ],
   "source": [
    "model_2000 = build_and_run_model_unobs(2000)\n",
    "thetas = model_2000('theta')[:]\n",
    "b_true = thetas < .5\n",
    "\n",
    "outcomes = model_2000('outcome')[:]\n",
    "outcome_b_true = outcomes[b_true]\n",
    "outcome_a_true = outcomes[~b_true]\n",
    "bf = (sum(outcome_a_true >= 2000*.523) / outcome_a_true.shape[0]) / (sum(outcome_b_true >= 2000*.523) / outcome_b_true.shape[0])\n",
    "print()\n",
    "print(\"Bayes Factor Estimate: {0}\".format(bf))\n",
    "\n",
    "\n",
    "hist(outcome_b_true / 2000, alpha=.4)\n",
    "hist(outcome_a_true / 2000, alpha=.4)\n",
    "legend([\"Model B\", \"Model A\"])\n",
    "_ = title(\"Distribution of theta under our two models: one where each candidate has a lead\")"
   ]
  },
  {
   "cell_type": "markdown",
   "metadata": {},
   "source": [
    "At our sample with 2000 observations, the data is far more likely to occur under a situation where A is in the lead than B. "
   ]
  },
  {
   "cell_type": "markdown",
   "metadata": {},
   "source": [
    "Recreate the p-value claim \n",
    "-------------------------------\n",
    "\n",
    "The original Morris article claims that all three surveys reject $H_0$ (b wins) with same p-value. Below, just for kicks, we recreate that result. In each case, we directly estimate the probability of observing a result as extreme as the survey result (or more extreme) assuming a $\\theta = .5$. These are all 1-sided tests, which matches the paper. In all three cases, we get pretty close!"
   ]
  },
  {
   "cell_type": "code",
   "execution_count": 109,
   "metadata": {
    "collapsed": true
   },
   "outputs": [],
   "source": [
    "def build_and_run_model_set_theta(n):\n",
    "\n",
    "    outcome = pymc.Binomial(\"outcome\", n=n, p=.5)\n",
    "\n",
    "    @pymc.deterministic\n",
    "    def a_wins(theta=theta):\n",
    "        return theta > .5\n",
    "    \n",
    "    m = pymc.MCMC([outcome, a_wins])\n",
    "    m.sample(num_samples + burnin, burn=burnin)\n",
    "    return m.trace"
   ]
  },
  {
   "cell_type": "code",
   "execution_count": 129,
   "metadata": {
    "collapsed": false
   },
   "outputs": [
    {
     "name": "stdout",
     "output_type": "stream",
     "text": [
      " [-----------------100%-----------------] 10100 of 10100 complete in 1.0 sec\n",
      "p-value estimate: 0.0197\n"
     ]
    },
    {
     "data": {
      "image/png": "[encoded data removed]",
      "text/plain": [
       "<matplotlib.figure.Figure at 0x13fc5240>"
      ]
     },
     "metadata": {},
     "output_type": "display_data"
    }
   ],
   "source": [
    "m = build_and_run_model_set_theta(20)\n",
    "outcomes = m('outcome')[:]\n",
    "print()\n",
    "print(\"p-value estimate: {0}\".format(sum(outcomes >= 15) / outcomes.shape[0]))\n",
    "_ = hist(outcomes[:] / 20, alpha=.4)\n",
    "axvline(.75)\n",
    "_ = title(\"Distribution of observed surveys with n = 20 when theta = .5\")\n"
   ]
  },
  {
   "cell_type": "code",
   "execution_count": 130,
   "metadata": {
    "collapsed": false
   },
   "outputs": [
    {
     "name": "stdout",
     "output_type": "stream",
     "text": [
      " [-----------------100%-----------------] 10100 of 10100 complete in 0.9 sec\n",
      "p-value estimate: 0.0189\n"
     ]
    },
    {
     "data": {
      "image/png": "[encoded data removed]",
      "text/plain": [
       "<matplotlib.figure.Figure at 0x147ad0f0>"
      ]
     },
     "metadata": {},
     "output_type": "display_data"
    }
   ],
   "source": [
    "m = build_and_run_model_set_theta(200)\n",
    "outcomes = m('outcome')[:]\n",
    "print()\n",
    "print(\"p-value estimate: {0}\".format(sum(outcomes >= 200*.575) / outcomes.shape[0]))\n",
    "_ = hist(outcomes[:] / 200, alpha=.4)\n",
    "axvline(.575)\n",
    "_ = title(\"Distribution of observed surveys with n = 200 when theta = .5\")\n"
   ]
  },
  {
   "cell_type": "code",
   "execution_count": 131,
   "metadata": {
    "collapsed": false
   },
   "outputs": [
    {
     "name": "stdout",
     "output_type": "stream",
     "text": [
      " [-----------------100%-----------------] 10100 of 10100 complete in 0.8 sec\n",
      "p-value estimate: 0.0204\n"
     ]
    },
    {
     "data": {
      "image/png": "[encoded data removed]",
      "text/plain": [
       "<matplotlib.figure.Figure at 0x14ca46d8>"
      ]
     },
     "metadata": {},
     "output_type": "display_data"
    }
   ],
   "source": [
    "m = build_and_run_model_set_theta(2000)\n",
    "outcomes = m('outcome')[:]\n",
    "print()\n",
    "print(\"p-value estimate: {0}\".format(sum(outcomes >= 2000*.523) / outcomes.shape[0]))\n",
    "_ = hist(outcomes[:] / 2000, alpha=.4)\n",
    "axvline(.523)\n",
    "_ = title(\"Distribution of observed surveys with n = 2000 when theta = .5\")\n"
   ]
  },
  {
   "cell_type": "markdown",
   "metadata": {},
   "source": [
    "But wait!\n",
    "-----------\n",
    "\n",
    "In the results above, we basically set $\\theta$ to the most generous possible value under which the null hypothesis is true. (We technically set it to a value for which *neither* hypothesis is true!) What if we compute the probabiliy of observing each survey in a situation where we let $\\theta$ take values from our prior? It turns out we already have the machinery for this from the earlier Bayes Factor work, so we'll reuse it here."
   ]
  },
  {
   "cell_type": "code",
   "execution_count": 119,
   "metadata": {
    "collapsed": false
   },
   "outputs": [
    {
     "name": "stdout",
     "output_type": "stream",
     "text": [
      " [-----------------100%-----------------] 10100 of 10100 complete in 1.3 sec\n",
      "Prob of stat or more extreme: 0.00986908358509567\n"
     ]
    },
    {
     "data": {
      "text/plain": [
       "<matplotlib.text.Text at 0x133f86a0>"
      ]
     },
     "execution_count": 119,
     "metadata": {},
     "output_type": "execute_result"
    },
    {
     "data": {
      "image/png": "[encoded data removed]",
      "text/plain": [
       "<matplotlib.figure.Figure at 0x13220b70>"
      ]
     },
     "metadata": {},
     "output_type": "display_data"
    }
   ],
   "source": [
    "model_20 = build_and_run_model_unobs(20)\n",
    "thetas = model_20('theta')[:]\n",
    "null_true = thetas < .5\n",
    "\n",
    "outcomes = model_20('outcome')[:]\n",
    "outcome_null_true = outcomes[null_true]\n",
    "pval = (sum(outcome_null_true >= 15) / outcome_null_true.shape[0])\n",
    "print()\n",
    "print(\"Prob of stat or more extreme: {0}\".format(pval))\n",
    "\n",
    "hist(outcome_null_true / 20, alpha=.4)\n",
    "axvline(.75)\n",
    "title(\"\")"
   ]
  },
  {
   "cell_type": "code",
   "execution_count": 123,
   "metadata": {
    "collapsed": false
   },
   "outputs": [
    {
     "name": "stdout",
     "output_type": "stream",
     "text": [
      " [-----------------100%-----------------] 10100 of 10100 complete in 1.6 sec\n",
      "Prob of stat or more extreme: 0.0032025620496397116\n"
     ]
    },
    {
     "data": {
      "text/plain": [
       "<matplotlib.text.Text at 0x13b5d160>"
      ]
     },
     "execution_count": 123,
     "metadata": {},
     "output_type": "execute_result"
    },
    {
     "data": {
      "image/png": "[encoded data removed]",
      "text/plain": [
       "<matplotlib.figure.Figure at 0x139ca630>"
      ]
     },
     "metadata": {},
     "output_type": "display_data"
    }
   ],
   "source": [
    "model_200 = build_and_run_model_unobs(200)\n",
    "thetas = model_200('theta')[:]\n",
    "null_true = thetas < .5\n",
    "\n",
    "outcomes = model_200('outcome')[:]\n",
    "outcome_null_true = outcomes[null_true]\n",
    "pval = (sum(outcome_null_true >= 200*.575) / outcome_null_true.shape[0])\n",
    "print()\n",
    "print(\"Prob of stat or more extreme: {0}\".format(pval))\n",
    "\n",
    "hist(outcome_null_true / 200 , alpha=.4)\n",
    "axvline(.575)\n",
    "title(\"\")"
   ]
  },
  {
   "cell_type": "code",
   "execution_count": 132,
   "metadata": {
    "collapsed": false
   },
   "outputs": [
    {
     "name": "stdout",
     "output_type": "stream",
     "text": [
      " [-----------------100%-----------------] 10100 of 10100 complete in 1.6 sec\n",
      "Prob of stat or more extreme: 0.0006025306286402892\n"
     ]
    },
    {
     "data": {
      "text/plain": [
       "<matplotlib.text.Text at 0x14f38eb8>"
      ]
     },
     "execution_count": 132,
     "metadata": {},
     "output_type": "execute_result"
    },
    {
     "data": {
      "image/png": "[encoded data removed]",
      "text/plain": [
       "<matplotlib.figure.Figure at 0x14dd7e48>"
      ]
     },
     "metadata": {},
     "output_type": "display_data"
    }
   ],
   "source": [
    "model_2000 = build_and_run_model_unobs(2000)\n",
    "thetas = model_2000('theta')[:]\n",
    "null_true = thetas < .5\n",
    "\n",
    "outcomes = model_2000('outcome')[:]\n",
    "outcome_null_true = outcomes[null_true]\n",
    "pval = (sum(outcome_null_true >= 2000*.523) / outcome_null_true.shape[0])\n",
    "print()\n",
    "print(\"Prob of stat or more extreme: {0}\".format(pval))\n",
    "\n",
    "hist(outcome_null_true / 2000 , alpha=.4)\n",
    "axvline(.523)\n",
    "title(\"\")"
   ]
  },
  {
   "cell_type": "markdown",
   "metadata": {},
   "source": [
    "In general, all we've done is recreate Morris' original argument: survey 3 is far better even though the margin of victory was narrower: the margin of error was low enough to make the margin more important. Hopefully, plotting these numbers out makes the result even more clear."
   ]
  },
  {
   "cell_type": "code",
   "execution_count": null,
   "metadata": {
    "collapsed": true
   },
   "outputs": [],
   "source": []
  }
 ],
 "metadata": {
  "kernelspec": {
   "display_name": "Python 2",
   "language": "python",
   "name": "python2"
  },
  "language_info": {
   "codemirror_mode": {
    "name": "ipython",
    "version": 2
   },
   "file_extension": ".py",
   "mimetype": "text/x-python",
   "name": "python",
   "nbconvert_exporter": "python",
   "pygments_lexer": "ipython2",
   "version": "2.7.11"
  }
 },
 "nbformat": 4,
 "nbformat_minor": 0
}
