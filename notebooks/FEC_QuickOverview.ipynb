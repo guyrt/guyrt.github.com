{
 "cells": [
  {
   "cell_type": "markdown",
   "metadata": {},
   "source": [
    "OpenFEC: A quick overview of the Federal Election Commission's public data.\n",
    "===============\n",
    "\n"
   ]
  },
  {
   "cell_type": "markdown",
   "metadata": {},
   "source": [
    "The Federal Election Commission publishes all contributions over a certain amount to political candidates and PACs. The data covers all federal offices including President, Senate, and House races. It shouldn't surprise anyone to learn that the raw data is somewhat hard to interpret and use for analysis. Individual rows in the raw filings use different schemas, and the data is full of codes that require deep knowledge of the filing regulations to understand. I've written a [set of tools](http://www.github.com/guyrt/openfec) in python to parse the raw FEC data. In this post, I'll describe the raw data and the transformations I had to perform to get something usable. For examples of using the data, see HERE."
   ]
  },
  {
   "cell_type": "markdown",
   "metadata": {
    "collapsed": false
   },
   "source": [
    "What's there?\n",
    "--------------\n",
    "\n",
    "Three sets of files are the most important. First are the actual filings, which grouped by upload day and available via [ftp](ftp://ftp.fec.gov/FEC/electronic/). Each file represents all of the reportable transactions for a single committee, and each row past the first row represents a single transaction. Not all transactions are the same, and not all transactions record the same information. The first column in every row denotes the row type which we can use to look up the meaning of the columns from a master key available here: TODOPUT IN\n",
    "\n",
    "The core program in my etl stack downloads all the filings from a single day and transform the data to json. You can find the code in `./etl/download_fec_filings.py` in my repo. This program produces a pair of files per day. The first file contains all of the \"F3\" rows. There is typically 1 row with an F3 type (i.e. first column starts with F3) at the top of the file and these represent summary information for the committee in the filing period. I extract these headers into their own file because (1) they are \"special rows\" that can be analyzed alone and (2) they have dozens of columns that don't appear in other rows. Those keys were cluttering up the key space for the other filings columns. \n",
    "\n",
    "\n"
   ]
  },
  {
   "cell_type": "code",
   "execution_count": null,
   "metadata": {
    "collapsed": true
   },
   "outputs": [],
   "source": [
    "point out header info for a single candidate."
   ]
  },
  {
   "cell_type": "code",
   "execution_count": null,
   "metadata": {
    "collapsed": true
   },
   "outputs": [],
   "source": []
  },
  {
   "cell_type": "code",
   "execution_count": null,
   "metadata": {
    "collapsed": true
   },
   "outputs": [],
   "source": []
  },
  {
   "cell_type": "code",
   "execution_count": null,
   "metadata": {
    "collapsed": true
   },
   "outputs": [],
   "source": []
  }
 ],
 "metadata": {
  "kernelspec": {
   "display_name": "Python 2",
   "language": "python",
   "name": "python2"
  },
  "language_info": {
   "codemirror_mode": {
    "name": "ipython",
    "version": 2
   },
   "file_extension": ".py",
   "mimetype": "text/x-python",
   "name": "python",
   "nbconvert_exporter": "python",
   "pygments_lexer": "ipython2",
   "version": "2.7.11"
  }
 },
 "nbformat": 4,
 "nbformat_minor": 0
}
