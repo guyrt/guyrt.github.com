{
 "cells": [
  {
   "cell_type": "code",
   "execution_count": 1,
   "metadata": {
    "collapsed": false
   },
   "outputs": [
    {
     "name": "stdout",
     "output_type": "stream",
     "text": [
      "Populating the interactive namespace from numpy and matplotlib\n"
     ]
    }
   ],
   "source": [
    "import pandas as pd\n",
    "import requests\n",
    "import json\n",
    "import scipy\n",
    "%pylab inline\n",
    "plt.style.use('ggplot')"
   ]
  },
  {
   "cell_type": "markdown",
   "metadata": {
    "collapsed": true
   },
   "source": [
    "Title\n",
    "====\n",
    "\n",
    "Summary\n",
    "-------\n",
    "\n",
    "\n",
    "Basic data\n",
    "-----------\n",
    "\n",
    "If you want to run this notebook, start with the Getting The Data section, which creates our base data frame. For our purposes, assume we have:\n",
    "\n",
    "    df = Amount of money given from every district to every district\n",
    "    df_recipient_districts = Aggregation of amount of money received from within a district and from outside the district.\n",
    "    df_donor_districts = Aggregation of amount of money donated by a district to candidates within the district vs candidates outside the district.\n",
    "\n",
    "\n",
    "\n",
    "So what are my main points?\n",
    "\n",
    "* X% of traffic from Y% of districts\n",
    "* X% of districts get >.5 %money from outside\n",
    "* and that correlates with something\n",
    "* The plot.\n",
    "\n",
    "Appendix (Run first)\n",
    "\n",
    "* How I made the data \n"
   ]
  },
  {
   "cell_type": "markdown",
   "metadata": {},
   "source": [
    "Most of the Money in House Races isn't Local\n",
    "--------------------------------------------"
   ]
  },
  {
   "cell_type": "markdown",
   "metadata": {},
   "source": [
    "In a result that surprised noone, most contributions to House Races are not contributed by people who actually live in the district. In fact, only 23% of money from itemized donations (>$200) gets contributed to candidates to House candidates that the recipient could vote for!"
   ]
  },
  {
   "cell_type": "code",
   "execution_count": 14,
   "metadata": {
    "collapsed": false
   },
   "outputs": [
    {
     "data": {
      "text/plain": [
       "DonateFromOther   224487833.000\n",
       "DonateFromSelf     68472408.780\n",
       "dtype: float64"
      ]
     },
     "execution_count": 14,
     "metadata": {},
     "output_type": "execute_result"
    }
   ],
   "source": [
    "pd.set_option('display.float_format', lambda x: '%.3f' % x)\n",
    "df_recipient_districts[[\"DonateFromOther\", \"DonateFromSelf\"]].sum()"
   ]
  },
  {
   "cell_type": "code",
   "execution_count": null,
   "metadata": {
    "collapsed": true
   },
   "outputs": [],
   "source": [
    "tmp = df_recipient_districts[[\"DonateFromOther\", \"DonateFromSelf\"]].sum()\n",
    "print(\"Amount of money from within district: {0}\".format(tmp[1] / tmp.sum() * 100))"
   ]
  },
  {
   "cell_type": "markdown",
   "metadata": {},
   "source": [
    "For most of us, the ratio is even worse. A histogram of the ratio of donations to self shows that the median is actually closer to 18% of money coming from the district it supports."
   ]
  },
  {
   "cell_type": "code",
   "execution_count": 24,
   "metadata": {
    "collapsed": false
   },
   "outputs": [
    {
     "data": {
      "text/plain": [
       "count   440.000\n",
       "mean      0.212\n",
       "std       0.145\n",
       "min       0.000\n",
       "25%       0.107\n",
       "50%       0.180\n",
       "75%       0.293\n",
       "max       0.898\n",
       "Name: DonateFromSelfRatio, dtype: float64"
      ]
     },
     "execution_count": 24,
     "metadata": {},
     "output_type": "execute_result"
    },
    {
     "data": {
      "image/png": "[encoded data removed]",
      "text/plain": [
       "<matplotlib.figure.Figure at 0x87a72e8>"
      ]
     },
     "metadata": {},
     "output_type": "display_data"
    }
   ],
   "source": [
    "# calculate breakdown\n",
    "df_recipient_districts.DonateFromSelfRatio.hist(bins=20)\n",
    "df_recipient_districts.DonateFromSelfRatio.describe()"
   ]
  },
  {
   "cell_type": "markdown",
   "metadata": {},
   "source": [
    "For the vast majority of us, some else is paying for our election. Who are they?"
   ]
  },
  {
   "cell_type": "markdown",
   "metadata": {},
   "source": [
    "Where does the money come from?\n",
    "----------------------------------"
   ]
  },
  {
   "cell_type": "markdown",
   "metadata": {
    "collapsed": true
   },
   "source": [
    "In terms of raw money donated, the top donor districts are pretty obvious. MD-8, VA-8 and VA-11 are the Districts closest to Washington D.C.: they are full of lobbyists and other government types. MA-7 forms a ring around Boston and includes a lot of rich and politically active areas. NY-10 and NY-12 are on Manhattan. CA-33 (LA), IL-7 (Chicago) and FL-22 (Miami) represent the nicer parts of several large cities."
   ]
  },
  {
   "cell_type": "code",
   "execution_count": 47,
   "metadata": {
    "collapsed": false
   },
   "outputs": [
    {
     "data": {
      "text/html": [
       "<div>\n",
       "<table border=\"1\" class=\"dataframe\">\n",
       "  <thead>\n",
       "    <tr style=\"text-align: right;\">\n",
       "      <th></th>\n",
       "      <th>SourceState</th>\n",
       "      <th>SourceDistrict</th>\n",
       "      <th>DonateToOther</th>\n",
       "      <th>DonateToSelf</th>\n",
       "      <th>DonateToSelfRatio</th>\n",
       "    </tr>\n",
       "  </thead>\n",
       "  <tbody>\n",
       "    <tr>\n",
       "      <th>408</th>\n",
       "      <td>VA</td>\n",
       "      <td>8</td>\n",
       "      <td>15741659</td>\n",
       "      <td>157863.620</td>\n",
       "      <td>0.010</td>\n",
       "    </tr>\n",
       "    <tr>\n",
       "      <th>185</th>\n",
       "      <td>MA</td>\n",
       "      <td>7</td>\n",
       "      <td>8427341</td>\n",
       "      <td>7096.110</td>\n",
       "      <td>0.001</td>\n",
       "    </tr>\n",
       "    <tr>\n",
       "      <th>282</th>\n",
       "      <td>NY</td>\n",
       "      <td>12</td>\n",
       "      <td>6480177</td>\n",
       "      <td>216676.020</td>\n",
       "      <td>0.032</td>\n",
       "    </tr>\n",
       "    <tr>\n",
       "      <th>411</th>\n",
       "      <td>VA</td>\n",
       "      <td>11</td>\n",
       "      <td>5480489</td>\n",
       "      <td>72030.940</td>\n",
       "      <td>0.013</td>\n",
       "    </tr>\n",
       "    <tr>\n",
       "      <th>280</th>\n",
       "      <td>NY</td>\n",
       "      <td>10</td>\n",
       "      <td>3560187</td>\n",
       "      <td>180160.810</td>\n",
       "      <td>0.048</td>\n",
       "    </tr>\n",
       "    <tr>\n",
       "      <th>410</th>\n",
       "      <td>VA</td>\n",
       "      <td>10</td>\n",
       "      <td>3444826</td>\n",
       "      <td>616084.000</td>\n",
       "      <td>0.152</td>\n",
       "    </tr>\n",
       "    <tr>\n",
       "      <th>108</th>\n",
       "      <td>FL</td>\n",
       "      <td>22</td>\n",
       "      <td>3043944</td>\n",
       "      <td>127764.750</td>\n",
       "      <td>0.040</td>\n",
       "    </tr>\n",
       "    <tr>\n",
       "      <th>53</th>\n",
       "      <td>CA</td>\n",
       "      <td>33</td>\n",
       "      <td>3009517</td>\n",
       "      <td>178201.970</td>\n",
       "      <td>0.056</td>\n",
       "    </tr>\n",
       "    <tr>\n",
       "      <th>142</th>\n",
       "      <td>IL</td>\n",
       "      <td>7</td>\n",
       "      <td>2935345</td>\n",
       "      <td>37020.000</td>\n",
       "      <td>0.012</td>\n",
       "    </tr>\n",
       "    <tr>\n",
       "      <th>195</th>\n",
       "      <td>MD</td>\n",
       "      <td>8</td>\n",
       "      <td>2840440</td>\n",
       "      <td>841024.330</td>\n",
       "      <td>0.228</td>\n",
       "    </tr>\n",
       "  </tbody>\n",
       "</table>\n",
       "</div>"
      ],
      "text/plain": [
       "    SourceState  SourceDistrict  DonateToOther  DonateToSelf  \\\n",
       "408          VA               8       15741659    157863.620   \n",
       "185          MA               7        8427341      7096.110   \n",
       "282          NY              12        6480177    216676.020   \n",
       "411          VA              11        5480489     72030.940   \n",
       "280          NY              10        3560187    180160.810   \n",
       "410          VA              10        3444826    616084.000   \n",
       "108          FL              22        3043944    127764.750   \n",
       "53           CA              33        3009517    178201.970   \n",
       "142          IL               7        2935345     37020.000   \n",
       "195          MD               8        2840440    841024.330   \n",
       "\n",
       "     DonateToSelfRatio  \n",
       "408              0.010  \n",
       "185              0.001  \n",
       "282              0.032  \n",
       "411              0.013  \n",
       "280              0.048  \n",
       "410              0.152  \n",
       "108              0.040  \n",
       "53               0.056  \n",
       "142              0.012  \n",
       "195              0.228  "
      ]
     },
     "execution_count": 47,
     "metadata": {},
     "output_type": "execute_result"
    }
   ],
   "source": [
    "df_donor_districts.sort_values(\"DonateToOther\", ascending=False).head(10)"
   ]
  },
  {
   "cell_type": "markdown",
   "metadata": {
    "collapsed": true
   },
   "source": [
    "Outside donations as a response to safe seats\n",
    "-------------------------------------------------\n",
    "\n",
    "This section examines the flow of money from safe seats to highly contested seats. After some data gathering and cleaning, we show that:\n",
    "\n",
    "1) Districts that see large outflows of money tend to be safer seats (margin of victory was large), while\n",
    "\n",
    "2) Districts that see large inflows of money tend to be competitive.\n",
    "\n",
    "If you just want to see the result, scroll down to the next image. If you are interested in the details, read on.\n",
    "\n",
    "We use the 2012 election results as a proxy for competitiveness. Time Magazine has a set of raw elections results on Github that we use as a base. The FEC also provides this data, but Time was nice enough to clean it up a bit. Third party candidates get lumped together and candidates with more than one party get assigned one of the majors. Note that many races were unopposed. In this data, I give them 1 vote to 0 for the \"opponent\" so the ratio of votes (calculated below) is all that really matters."
   ]
  },
  {
   "cell_type": "code",
   "execution_count": 241,
   "metadata": {
    "collapsed": true
   },
   "outputs": [],
   "source": [
    "def clean_party(party):\n",
    "    ret_val = \"\"\n",
    "    party = party.lower()\n",
    "    if \"democrat\" in party:\n",
    "        ret_val += \"Dem\"\n",
    "    elif \"republican\" in party:\n",
    "        ret_val += \"Rep\"\n",
    "    ret_val = \"Other\" if not ret_val else ret_val\n",
    "    return ret_val\n",
    "\n",
    "# Get data from Time Magazine (thanks!)\n",
    "df_previous_results = pd.read_csv(\"https://raw.githubusercontent.com/TimeMagazine/congressional-election-results/master/data/results_2012.csv\")\n",
    "# Clean up various fields and remove non-standard candidates for simplicity.\n",
    "df_previous_results['clean_party'] = df_previous_results.parties.apply(clean_party)\n",
    "df_previous_results['clean_votes'] = df_previous_results.votes.apply(lambda x: 1 if x == \"Unopposed\" else int(x))  # NOTE: we only use ratios in final analysis.\n",
    "df_previous_results_clean = df_previous_results[df_previous_results['clean_party'] != '']\n",
    "df_previous_results_clean = df_previous_results_clean[df_previous_results_clean.district != \"S\"]\n",
    "df_previous_results_clean['clean_district'] = df_previous_results_clean.district.apply(lambda x: int(x.split(' ')[0]))\n",
    "\n",
    "# pivot\n",
    "df_previous_results_p = df_previous_results_clean.pivot_table(index=[\"state\", \"clean_district\"], columns=\"clean_party\", values=\"clean_votes\", fill_value=0).reset_index()\n",
    "#df_previous_results_p.loc[df_previous_results_p.clean_district == 0, 'clean_district'] = 1\n",
    "df_previous_results_p[\"RepublicanRatio\"] = df_previous_results_p.Rep / (df_previous_results_p.Dem + df_previous_results_p.Rep + df_previous_results_p.Other)\n",
    "# DifferenceFromEven represents the difference from a 50/50 election.\n",
    "df_previous_results_p[\"DifferenceFromEven\"] = abs(0.5 - df_previous_results_p.RepublicanRatio)"
   ]
  },
  {
   "cell_type": "markdown",
   "metadata": {},
   "source": [
    "One more bit of data cleaning: I create `df_donor_with_previoushist` to calculate total donations to candidates within and outside a district grouped by the competitiveness of the race."
   ]
  },
  {
   "cell_type": "code",
   "execution_count": 246,
   "metadata": {
    "collapsed": false
   },
   "outputs": [],
   "source": [
    "df_donor_with_previous = df_donor_districts.merge(df_previous_results_p, left_on=[\"SourceState\", \"SourceDistrict\"], right_on=[\"state\", \"clean_district\"], how='inner')\n",
    "df_donor_with_previous = df_donor_with_previous.sort_values(\"RepublicanRatio\")\n",
    "\n",
    "df_donor_with_previous[\"RatioDiscrete\"] = df_donor_with_previous.RepublicanRatio.apply(lambda x: int(x * 9.99999) / 10.)\n",
    "df_donor_with_previous[\"TotalContributions\"] = df_donor_with_previous.DonateToOther + df_donor_with_previous.DonateToSelf\n",
    "df_donor_with_previoushist = df_donor_with_previous.groupby(\"RatioDiscrete\").agg({\"DonateToOther\": sum, \"DonateToSelf\": sum}).reset_index()"
   ]
  },
  {
   "cell_type": "markdown",
   "metadata": {},
   "source": [
    "**The plots**\n",
    "\n",
    "If you skipped all that data munging, welcome back. It's time to make some plots. I'm not a matplotlib expert so apologies if I offended anyone with this next chunk of code. See below the plots for a discussion."
   ]
  },
  {
   "cell_type": "code",
   "execution_count": 304,
   "metadata": {
    "collapsed": false
   },
   "outputs": [
    {
     "data": {
      "image/png": "[encoded data removed]",
      "text/plain": [
       "<matplotlib.figure.Figure at 0x347650b8>"
      ]
     },
     "metadata": {},
     "output_type": "display_data"
    }
   ],
   "source": [
    "fig, axs = plt.subplots(nrows=1, ncols=2)\n",
    "fig.set_size_inches(15.5, 6.5)\n",
    "plt_0_0 = axs[0].scatter(\n",
    "    df_donor_with_previous.RepublicanRatio, \n",
    "    df_donor_with_previous.DonateToSelfRatio, \n",
    "    s=(df_donor_with_previous.DonateToOther) ** 2 / (50000000000),\n",
    "    alpha=0.3\n",
    ")\n",
    "_ = axs[0].set_xlim(-0.1, 1.1)\n",
    "_ = axs[0].set_title(\"Amount and Destination of Donations \\n by Race Competitiveness\\n\")\n",
    "_ = axs[0].set_xlabel(\"Proportion of Vote Won by Republicans in 2012\")\n",
    "_ = axs[0].set_ylabel(\"Proportion of Donations Made to Home District\")\n",
    "\n",
    "plt_0_1 = axs[0].scatter(\n",
    "    df_donor_with_previous.RepublicanRatio, \n",
    "    df_donor_with_previous.DonateToSelfRatio, \n",
    "    s=(df_donor_with_previous.DonateToSelf) ** 2 / (50000000000),\n",
    "    alpha=.4,\n",
    "    color='red'\n",
    ")\n",
    "\n",
    "import matplotlib.patches as mpatches\n",
    "recs = [mpatches.Rectangle((0,0),1,1,fc='blue'), mpatches.Rectangle((0,0),1,1,fc='red')]\n",
    "axs[0].legend(recs, ('Donate to Other', 'Donate to Self'), scatterpoints=1, )\n",
    "\n",
    "axs[1].hist(df_donor_with_previous.RepublicanRatio * 10, normed=True, alpha=0.4, color='green')\n",
    "axs2 = axs[1].twinx()\n",
    "axs2.bar(np.arange(10), df_donor_with_previoushist.DonateToOther, 1, alpha=.4, color='blue')\n",
    "axs2.bar(np.arange(10), df_donor_with_previoushist.DonateToSelf, 1, alpha=.6, color=\"red\")\n",
    "_ = axs[1].set_title('Comparison of Margin of Victory (Red)\\n and Money Donated Outside District (Blue) by District\\n')\n",
    "_ = axs[1].set_ylabel(\"Proportion of House Races (Red)\")\n",
    "_ = axs2.set_ylabel(\"Amount of Money Donated (Blue)\")\n",
    "_ = axs[1].set_xlabel(\"Ratio of Votes Won By Republican\")\n",
    "_ = axs[1].set_xticklabels([.2 * i for i in range(10)])\n",
    "\n",
    "recs = [mpatches.Rectangle((0,0),1,1,fc='blue'), mpatches.Rectangle((0,0),1,1,fc='green'), mpatches.Rectangle((0,0),1,1,fc='red')]\n",
    "_ = axs[1].legend(recs, ('Donate to Other', 'District Count', 'Donate to Self'))"
   ]
  },
  {
   "cell_type": "markdown",
   "metadata": {},
   "source": [
    "\n",
    "The left plot compares the competitiveness of a district in 2012 (x-axis) to the ratio of money donated to self in that district. Each district is actually over-plotted in blue and red. The blue dot's size is proportional to the amount of money donated outside the district while the red dot's size is proportional to the amount of money donated within district. \n",
    "\n",
    "On the right, I \"collapse\" the plot to show the aggregate money by district. The green histrogram shows the relative competitiveness of each district: the peak around 55-65% Republican corresponds to the blowout win by the GOP in 2012. They have the largest majority any party has enjoyed in decades. The blue histrogram shows the money donated to candidates outside of the donor's district. Note that it skews heavily towards more Democratic districts (peak of around 35% Republican) and that, in general, donations to outside districts come from non-competitive races. Finally, the red histogram shows that competitive races tend to draw the most money from within the district. \n",
    "\n",
    "We quantify the relationships below using Pearson Correlation between the ratio of donations to within the district and the competitiveness of the race. As races become less competitive (DifferenceFromEven goes UP), the ratio of money donated to the district vs outside the district goes DOWN."
   ]
  },
  {
   "cell_type": "code",
   "execution_count": 270,
   "metadata": {
    "collapsed": false
   },
   "outputs": [
    {
     "data": {
      "text/html": [
       "<div>\n",
       "<table border=\"1\" class=\"dataframe\">\n",
       "  <thead>\n",
       "    <tr style=\"text-align: right;\">\n",
       "      <th></th>\n",
       "      <th>DonateFromSelfRatio</th>\n",
       "      <th>DifferenceFromEven</th>\n",
       "    </tr>\n",
       "  </thead>\n",
       "  <tbody>\n",
       "    <tr>\n",
       "      <th>DonateFromSelfRatio</th>\n",
       "      <td>1.000000</td>\n",
       "      <td>-0.210375</td>\n",
       "    </tr>\n",
       "    <tr>\n",
       "      <th>DifferenceFromEven</th>\n",
       "      <td>-0.210375</td>\n",
       "      <td>1.000000</td>\n",
       "    </tr>\n",
       "  </tbody>\n",
       "</table>\n",
       "</div>"
      ],
      "text/plain": [
       "                     DonateFromSelfRatio  DifferenceFromEven\n",
       "DonateFromSelfRatio             1.000000           -0.210375\n",
       "DifferenceFromEven             -0.210375            1.000000"
      ]
     },
     "execution_count": 270,
     "metadata": {},
     "output_type": "execute_result"
    }
   ],
   "source": [
    "df_recipient_with_previous[[\"DonateFromSelfRatio\", \"DifferenceFromEven\"]].corr(\"pearson\")"
   ]
  },
  {
   "cell_type": "markdown",
   "metadata": {},
   "source": [
    "The opposite"
   ]
  },
  {
   "cell_type": "code",
   "execution_count": 245,
   "metadata": {
    "collapsed": false
   },
   "outputs": [],
   "source": [
    "df_recipient_with_previous = df_recipient_districts.merge(df_previous_results_p, left_on=[\"RecipientState\", \"RecipientDistrict\"], right_on=[\"state\", \"clean_district\"], how='inner')\n",
    "df_recipient_with_previous = df_recipient_with_previous.sort_values(\"RepublicanRatio\")\n",
    "\n",
    "df_recipient_with_previous[\"RatioDiscrete\"] = df_recipient_with_previous.RepublicanRatio.apply(lambda x: int(x * 9.999999) / 10.)\n",
    "df_recipient_with_previous[\"TotalContributions\"] = df_recipient_with_previous.DonateFromOther + df_recipient_with_previous.DonateFromSelf\n",
    "df_recipient_with_previoushist = df_recipient_with_previous.groupby(\"RatioDiscrete\").agg({\"DonateFromOther\": sum, \"DonateFromSelf\": sum}).reset_index()"
   ]
  },
  {
   "cell_type": "code",
   "execution_count": 312,
   "metadata": {
    "collapsed": false
   },
   "outputs": [
    {
     "data": {
      "image/png": "[encoded data removed]",
      "text/plain": [
       "<matplotlib.figure.Figure at 0x2eb3a978>"
      ]
     },
     "metadata": {},
     "output_type": "display_data"
    }
   ],
   "source": [
    "fig, axs = plt.subplots(nrows=1, ncols=2)\n",
    "fig.set_size_inches(15.5, 6.5)\n",
    "axs[0].scatter(\n",
    "    df_recipient_with_previous.RepublicanRatio, \n",
    "    df_recipient_with_previous.DonateFromSelfRatio, \n",
    "    s=(df_recipient_with_previous.DonateFromSelf) ** 2 / (90000000000),\n",
    "    alpha=1,\n",
    "    color=\"red\"\n",
    ")\n",
    "_ = axs[0].set_xlim(-0.1, 1.1)\n",
    "_ = axs[0].set_title(\"Amount and Destination of Donations \\n by Race Competitiveness\")\n",
    "_ = axs[0].set_xlabel(\"Proportion of Vote Won by Republicans in 2012\")\n",
    "_ = axs[0].set_ylabel(\"Percen of Donations Made to Home District\")\n",
    "\n",
    "\n",
    "axs[0].scatter(\n",
    "    df_recipient_with_previous.RepublicanRatio, \n",
    "    df_recipient_with_previous.DonateFromSelfRatio, \n",
    "    s=(df_recipient_with_previous.DonateFromOther) ** 2 / (90000000000),\n",
    "    alpha=.3,\n",
    "    color='blue'\n",
    ")\n",
    "\n",
    "recs = [mpatches.Rectangle((0,0),1,1,fc='red'), mpatches.Rectangle((0,0),1,1,fc='blue')]\n",
    "axs[0].legend(recs, ('Donate from Self', 'Donate from Other'))\n",
    "\n",
    "axs[1].hist(df_recipient_with_previous.RepublicanRatio * 10, normed=True, alpha=0.4, color='green')\n",
    "axs2 = axs[1].twinx()\n",
    "axs2.bar(np.arange(10), df_recipient_with_previoushist.DonateFromOther, 1, alpha=.4, color='blue')\n",
    "axs2.bar(np.arange(10), df_recipient_with_previoushist.DonateFromSelf, 1, alpha=.6, color='red')\n",
    "_ = axs[1].set_title('Comparison of Margin of Victory (Red)\\n and Money Donated Outside District (Blue) by District')\n",
    "_ = axs[1].set_ylabel(\"Proportion of House Races (Red)\")\n",
    "_ = axs2.set_ylabel(\"Amount of Money Donated (Blue)\")\n",
    "_ = axs[1].set_xlabel(\"Ratio of Votes Won By Republican\")\n",
    "_ = axs[1].set_xticklabels([.2 * i for i in range(10)])\n",
    "\n",
    "recs = [mpatches.Rectangle((0,0),1,1,fc='blue'), mpatches.Rectangle((0,0),1,1,fc='green'), mpatches.Rectangle((0,0),1,1,fc='red')]\n",
    "_ = axs[1].legend(recs, ('Donate from Other', 'District Count', 'Donate from Self'))"
   ]
  },
  {
   "cell_type": "code",
   "execution_count": 281,
   "metadata": {
    "collapsed": false
   },
   "outputs": [
    {
     "data": {
      "text/plain": [
       "<matplotlib.legend.Legend at 0x320ce240>"
      ]
     },
     "execution_count": 281,
     "metadata": {},
     "output_type": "execute_result"
    }
   ],
   "source": [
    "a = axs[0]\n",
    "a.legend(\"adfsadsf\")"
   ]
  },
  {
   "cell_type": "markdown",
   "metadata": {
    "collapsed": true
   },
   "source": [
    "Getting The Data\n",
    "================\n",
    "\n",
    "My primary data source is the FEC record of itemized personal donations to candidates and PACs. See TODO for more information about the original data, how to access it, and the extensive cleaning required to use it for inference. You can use the data for your own investigations if you want. The cleanup scripts are available TODO and the openfecdata.blob.core.windows.net link below will stay live unless someone screws with it.\n",
    "\n",
    "The data has a few limitations. Most obviously, it ignores personal donations that are smaller than $200 (the so-called small donations). These are a \"big freaking deal\" for some candidates like Bernie Sanders (see this [incredible visualiazation](https://espnfivethirtyeight.files.wordpress.com/2016/02/bycoffe-campaign-finance-liveblog-0220.png) by the folks at 538). I'm okay with this limitation since my goal is observing *influence* which by assumption accrues to the larger donors. However, influence is crucial to our second limitation, which is that SuperPACs aren't listed at all. \n",
    "\n",
    "Talk about splitting by district and cross-county bleed. Show that this probably isn't a big effect."
   ]
  },
  {
   "cell_type": "code",
   "execution_count": null,
   "metadata": {
    "collapsed": true
   },
   "outputs": [],
   "source": []
  },
  {
   "cell_type": "code",
   "execution_count": null,
   "metadata": {
    "collapsed": true
   },
   "outputs": [],
   "source": []
  },
  {
   "cell_type": "code",
   "execution_count": null,
   "metadata": {
    "collapsed": true
   },
   "outputs": [],
   "source": []
  },
  {
   "cell_type": "code",
   "execution_count": 2,
   "metadata": {
    "collapsed": false
   },
   "outputs": [],
   "source": [
    "file_request = requests.get(\"https://openfecdata.blob.core.windows.net/fecfilings/processed_output/cross_contributions.json/part-00000\")\n",
    "file_lines = [json.loads(l) for l in file_request.text.split('\\n') if l]"
   ]
  },
  {
   "cell_type": "code",
   "execution_count": 3,
   "metadata": {
    "collapsed": false
   },
   "outputs": [],
   "source": [
    "df = pd.DataFrame(file_lines)\n",
    "df_column_map = {\n",
    "    'COUNT(contributions)': \"NumContributions\",\n",
    "    'SUM(contributions)': \"SumContributions\",\n",
    "    'district': \"SourceDistrict\",\n",
    "    'state': \"SourceState\"\n",
    "}\n",
    "df.columns = [df_column_map.get(c, c) for c in df.columns]\n",
    "df.CAND_OFFICE_DISTRICT = df.CAND_OFFICE_DISTRICT.apply(int)\n",
    "df.SourceDistrict = df.SourceDistrict.apply(int)\n",
    "df[\"WithinDistrict\"] = (df.CAND_OFFICE_DISTRICT == df.SourceDistrict) & (df.CAND_OFFICE_ST == df.SourceState)"
   ]
  },
  {
   "cell_type": "code",
   "execution_count": 4,
   "metadata": {
    "collapsed": false
   },
   "outputs": [],
   "source": [
    "df_donor_districts = df.pivot_table(index=[\"SourceState\", \"SourceDistrict\"], columns=\"WithinDistrict\", values=\"SumContributions\", aggfunc=sum, fill_value=0).reset_index()\n",
    "df_donor_districts.columns = ['SourceState', 'SourceDistrict', 'DonateToOther', 'DonateToSelf']\n",
    "df_donor_districts[\"DonateToSelfRatio\"] = df_donor_districts.DonateToSelf / (df_donor_districts.DonateToSelf + df_donor_districts.DonateToOther)"
   ]
  },
  {
   "cell_type": "code",
   "execution_count": 5,
   "metadata": {
    "collapsed": true
   },
   "outputs": [],
   "source": [
    "df_recipient_districts = df.pivot_table(index=[\"CAND_OFFICE_ST\", \"CAND_OFFICE_DISTRICT\"], columns=\"WithinDistrict\", values=\"SumContributions\", aggfunc=sum, fill_value=0).reset_index()\n",
    "df_recipient_districts.columns = ['RecipientState', 'RecipientDistrict', 'DonateFromOther', 'DonateFromSelf']\n",
    "df_recipient_districts[\"DonateFromSelfRatio\"] = df_recipient_districts.DonateFromSelf / (df_recipient_districts.DonateFromOther + df_recipient_districts.DonateFromSelf)"
   ]
  },
  {
   "cell_type": "code",
   "execution_count": 7,
   "metadata": {
    "collapsed": false
   },
   "outputs": [
    {
     "data": {
      "text/html": [
       "<div>\n",
       "<table border=\"1\" class=\"dataframe\">\n",
       "  <thead>\n",
       "    <tr style=\"text-align: right;\">\n",
       "      <th></th>\n",
       "      <th>SourceState</th>\n",
       "      <th>SourceDistrict</th>\n",
       "      <th>DonateToOther</th>\n",
       "      <th>DonateToSelf</th>\n",
       "      <th>DonateToSelfRatio</th>\n",
       "    </tr>\n",
       "  </thead>\n",
       "  <tbody>\n",
       "    <tr>\n",
       "      <th>77</th>\n",
       "      <td>CO</td>\n",
       "      <td>4</td>\n",
       "      <td>440082</td>\n",
       "      <td>0.00</td>\n",
       "      <td>0.000000</td>\n",
       "    </tr>\n",
       "    <tr>\n",
       "      <th>185</th>\n",
       "      <td>MA</td>\n",
       "      <td>7</td>\n",
       "      <td>8427341</td>\n",
       "      <td>7096.11</td>\n",
       "      <td>0.000841</td>\n",
       "    </tr>\n",
       "    <tr>\n",
       "      <th>229</th>\n",
       "      <td>MS</td>\n",
       "      <td>2</td>\n",
       "      <td>359284</td>\n",
       "      <td>750.00</td>\n",
       "      <td>0.002083</td>\n",
       "    </tr>\n",
       "    <tr>\n",
       "      <th>286</th>\n",
       "      <td>NY</td>\n",
       "      <td>16</td>\n",
       "      <td>821912</td>\n",
       "      <td>2300.00</td>\n",
       "      <td>0.002791</td>\n",
       "    </tr>\n",
       "    <tr>\n",
       "      <th>378</th>\n",
       "      <td>TX</td>\n",
       "      <td>18</td>\n",
       "      <td>719925</td>\n",
       "      <td>2500.00</td>\n",
       "      <td>0.003461</td>\n",
       "    </tr>\n",
       "    <tr>\n",
       "      <th>63</th>\n",
       "      <td>CA</td>\n",
       "      <td>43</td>\n",
       "      <td>168405</td>\n",
       "      <td>650.00</td>\n",
       "      <td>0.003845</td>\n",
       "    </tr>\n",
       "    <tr>\n",
       "      <th>118</th>\n",
       "      <td>GA</td>\n",
       "      <td>5</td>\n",
       "      <td>841142</td>\n",
       "      <td>4000.00</td>\n",
       "      <td>0.004733</td>\n",
       "    </tr>\n",
       "    <tr>\n",
       "      <th>206</th>\n",
       "      <td>MI</td>\n",
       "      <td>9</td>\n",
       "      <td>1671904</td>\n",
       "      <td>8200.00</td>\n",
       "      <td>0.004881</td>\n",
       "    </tr>\n",
       "    <tr>\n",
       "      <th>117</th>\n",
       "      <td>GA</td>\n",
       "      <td>4</td>\n",
       "      <td>154111</td>\n",
       "      <td>1000.00</td>\n",
       "      <td>0.006447</td>\n",
       "    </tr>\n",
       "    <tr>\n",
       "      <th>353</th>\n",
       "      <td>TN</td>\n",
       "      <td>2</td>\n",
       "      <td>344104</td>\n",
       "      <td>2388.15</td>\n",
       "      <td>0.006892</td>\n",
       "    </tr>\n",
       "  </tbody>\n",
       "</table>\n",
       "</div>"
      ],
      "text/plain": [
       "    SourceState  SourceDistrict  DonateToOther  DonateToSelf  \\\n",
       "77           CO               4         440082          0.00   \n",
       "185          MA               7        8427341       7096.11   \n",
       "229          MS               2         359284        750.00   \n",
       "286          NY              16         821912       2300.00   \n",
       "378          TX              18         719925       2500.00   \n",
       "63           CA              43         168405        650.00   \n",
       "118          GA               5         841142       4000.00   \n",
       "206          MI               9        1671904       8200.00   \n",
       "117          GA               4         154111       1000.00   \n",
       "353          TN               2         344104       2388.15   \n",
       "\n",
       "     DonateToSelfRatio  \n",
       "77            0.000000  \n",
       "185           0.000841  \n",
       "229           0.002083  \n",
       "286           0.002791  \n",
       "378           0.003461  \n",
       "63            0.003845  \n",
       "118           0.004733  \n",
       "206           0.004881  \n",
       "117           0.006447  \n",
       "353           0.006892  "
      ]
     },
     "execution_count": 7,
     "metadata": {},
     "output_type": "execute_result"
    }
   ],
   "source": [
    "df_donor_districts.sort_values('DonateToSelfRatio', ascending=True).head(10)"
   ]
  },
  {
   "cell_type": "code",
   "execution_count": 27,
   "metadata": {
    "collapsed": false
   },
   "outputs": [
    {
     "data": {
      "text/html": [
       "<div style=\"max-height:1000px;max-width:1500px;overflow:auto;\">\n",
       "<table border=\"1\" class=\"dataframe\">\n",
       "  <thead>\n",
       "    <tr style=\"text-align: right;\">\n",
       "      <th></th>\n",
       "      <th>SourceState</th>\n",
       "      <th>SourceDistrict</th>\n",
       "      <th>DonateToOther</th>\n",
       "      <th>DonateToSelf</th>\n",
       "      <th>DonateToSelfRatio</th>\n",
       "    </tr>\n",
       "  </thead>\n",
       "  <tbody>\n",
       "    <tr>\n",
       "      <th>197</th>\n",
       "      <td> ME</td>\n",
       "      <td>  2</td>\n",
       "      <td>  17500</td>\n",
       "      <td>  567034.18</td>\n",
       "      <td> 0.970062</td>\n",
       "    </tr>\n",
       "    <tr>\n",
       "      <th>228</th>\n",
       "      <td> MS</td>\n",
       "      <td>  1</td>\n",
       "      <td>  24007</td>\n",
       "      <td>  696139.17</td>\n",
       "      <td> 0.966664</td>\n",
       "    </tr>\n",
       "    <tr>\n",
       "      <th>162</th>\n",
       "      <td> IN</td>\n",
       "      <td>  9</td>\n",
       "      <td>  78025</td>\n",
       "      <td> 1098333.22</td>\n",
       "      <td> 0.933672</td>\n",
       "    </tr>\n",
       "    <tr>\n",
       "      <th>176</th>\n",
       "      <td> LA</td>\n",
       "      <td>  4</td>\n",
       "      <td>  55691</td>\n",
       "      <td>  544470.40</td>\n",
       "      <td> 0.907207</td>\n",
       "    </tr>\n",
       "    <tr>\n",
       "      <th>379</th>\n",
       "      <td> TX</td>\n",
       "      <td> 19</td>\n",
       "      <td> 108081</td>\n",
       "      <td>  998124.78</td>\n",
       "      <td> 0.902296</td>\n",
       "    </tr>\n",
       "    <tr>\n",
       "      <th>250</th>\n",
       "      <td> NH</td>\n",
       "      <td>  1</td>\n",
       "      <td> 137489</td>\n",
       "      <td> 1222515.00</td>\n",
       "      <td> 0.898905</td>\n",
       "    </tr>\n",
       "    <tr>\n",
       "      <th>227</th>\n",
       "      <td> MO</td>\n",
       "      <td>  8</td>\n",
       "      <td>  16330</td>\n",
       "      <td>  136430.00</td>\n",
       "      <td> 0.893100</td>\n",
       "    </tr>\n",
       "    <tr>\n",
       "      <th>44 </th>\n",
       "      <td> CA</td>\n",
       "      <td> 24</td>\n",
       "      <td> 247125</td>\n",
       "      <td> 1958564.03</td>\n",
       "      <td> 0.887960</td>\n",
       "    </tr>\n",
       "    <tr>\n",
       "      <th>432</th>\n",
       "      <td> WV</td>\n",
       "      <td>  2</td>\n",
       "      <td>  40927</td>\n",
       "      <td>  321495.60</td>\n",
       "      <td> 0.887074</td>\n",
       "    </tr>\n",
       "    <tr>\n",
       "      <th>13 </th>\n",
       "      <td> AZ</td>\n",
       "      <td>  2</td>\n",
       "      <td> 330164</td>\n",
       "      <td> 2359298.35</td>\n",
       "      <td> 0.877238</td>\n",
       "    </tr>\n",
       "  </tbody>\n",
       "</table>\n",
       "</div>"
      ],
      "text/plain": [
       "    SourceState  SourceDistrict  DonateToOther  DonateToSelf  \\\n",
       "197          ME               2          17500     567034.18   \n",
       "228          MS               1          24007     696139.17   \n",
       "162          IN               9          78025    1098333.22   \n",
       "176          LA               4          55691     544470.40   \n",
       "379          TX              19         108081     998124.78   \n",
       "250          NH               1         137489    1222515.00   \n",
       "227          MO               8          16330     136430.00   \n",
       "44           CA              24         247125    1958564.03   \n",
       "432          WV               2          40927     321495.60   \n",
       "13           AZ               2         330164    2359298.35   \n",
       "\n",
       "     DonateToSelfRatio  \n",
       "197           0.970062  \n",
       "228           0.966664  \n",
       "162           0.933672  \n",
       "176           0.907207  \n",
       "379           0.902296  \n",
       "250           0.898905  \n",
       "227           0.893100  \n",
       "44            0.887960  \n",
       "432           0.887074  \n",
       "13            0.877238  "
      ]
     },
     "execution_count": 27,
     "metadata": {},
     "output_type": "execute_result"
    }
   ],
   "source": [
    "df_donor_districts.sort('DonateToSelfRatio', ascending=False).head(10)"
   ]
  },
  {
   "cell_type": "code",
   "execution_count": null,
   "metadata": {
    "collapsed": true
   },
   "outputs": [],
   "source": []
  },
  {
   "cell_type": "code",
   "execution_count": 8,
   "metadata": {
    "collapsed": true
   },
   "outputs": [],
   "source": []
  },
  {
   "cell_type": "code",
   "execution_count": 42,
   "metadata": {
    "collapsed": false
   },
   "outputs": [
    {
     "data": {
      "text/html": [
       "<div style=\"max-height:1000px;max-width:1500px;overflow:auto;\">\n",
       "<table border=\"1\" class=\"dataframe\">\n",
       "  <thead>\n",
       "    <tr style=\"text-align: right;\">\n",
       "      <th></th>\n",
       "      <th>RecipientState</th>\n",
       "      <th>RecipientDistrict</th>\n",
       "      <th>DonateFromOther</th>\n",
       "      <th>DonateFromSelf</th>\n",
       "      <th>DonateFromSelfRatio</th>\n",
       "    </tr>\n",
       "  </thead>\n",
       "  <tbody>\n",
       "    <tr>\n",
       "      <th>378</th>\n",
       "      <td> TX</td>\n",
       "      <td> 15</td>\n",
       "      <td> 104066</td>\n",
       "      <td>  916621.46</td>\n",
       "      <td> 0.898043</td>\n",
       "    </tr>\n",
       "    <tr>\n",
       "      <th>355</th>\n",
       "      <td> TN</td>\n",
       "      <td>  1</td>\n",
       "      <td>  30659</td>\n",
       "      <td>  140945.00</td>\n",
       "      <td> 0.821339</td>\n",
       "    </tr>\n",
       "    <tr>\n",
       "      <th>382</th>\n",
       "      <td> TX</td>\n",
       "      <td> 19</td>\n",
       "      <td> 244967</td>\n",
       "      <td>  998124.78</td>\n",
       "      <td> 0.802937</td>\n",
       "    </tr>\n",
       "    <tr>\n",
       "      <th>214</th>\n",
       "      <td> MN</td>\n",
       "      <td>  2</td>\n",
       "      <td> 536666</td>\n",
       "      <td> 1191426.17</td>\n",
       "      <td> 0.689446</td>\n",
       "    </tr>\n",
       "    <tr>\n",
       "      <th>252</th>\n",
       "      <td> NH</td>\n",
       "      <td>  1</td>\n",
       "      <td> 643218</td>\n",
       "      <td> 1222515.00</td>\n",
       "      <td> 0.655246</td>\n",
       "    </tr>\n",
       "    <tr>\n",
       "      <th>105</th>\n",
       "      <td> FL</td>\n",
       "      <td> 19</td>\n",
       "      <td>  29490</td>\n",
       "      <td>   52168.36</td>\n",
       "      <td> 0.638861</td>\n",
       "    </tr>\n",
       "    <tr>\n",
       "      <th>177</th>\n",
       "      <td> LA</td>\n",
       "      <td>  4</td>\n",
       "      <td> 421759</td>\n",
       "      <td>  544470.40</td>\n",
       "      <td> 0.563500</td>\n",
       "    </tr>\n",
       "    <tr>\n",
       "      <th>353</th>\n",
       "      <td> SC</td>\n",
       "      <td>  7</td>\n",
       "      <td> 149800</td>\n",
       "      <td>  187249.97</td>\n",
       "      <td> 0.555556</td>\n",
       "    </tr>\n",
       "    <tr>\n",
       "      <th>197</th>\n",
       "      <td> ME</td>\n",
       "      <td>  1</td>\n",
       "      <td>  36000</td>\n",
       "      <td>   44616.00</td>\n",
       "      <td> 0.553439</td>\n",
       "    </tr>\n",
       "    <tr>\n",
       "      <th>86 </th>\n",
       "      <td> DE</td>\n",
       "      <td>  0</td>\n",
       "      <td> 258928</td>\n",
       "      <td>  315257.19</td>\n",
       "      <td> 0.549051</td>\n",
       "    </tr>\n",
       "  </tbody>\n",
       "</table>\n",
       "</div>"
      ],
      "text/plain": [
       "    RecipientState  RecipientDistrict  DonateFromOther  DonateFromSelf  \\\n",
       "378             TX                 15           104066       916621.46   \n",
       "355             TN                  1            30659       140945.00   \n",
       "382             TX                 19           244967       998124.78   \n",
       "214             MN                  2           536666      1191426.17   \n",
       "252             NH                  1           643218      1222515.00   \n",
       "105             FL                 19            29490        52168.36   \n",
       "177             LA                  4           421759       544470.40   \n",
       "353             SC                  7           149800       187249.97   \n",
       "197             ME                  1            36000        44616.00   \n",
       "86              DE                  0           258928       315257.19   \n",
       "\n",
       "     DonateFromSelfRatio  \n",
       "378             0.898043  \n",
       "355             0.821339  \n",
       "382             0.802937  \n",
       "214             0.689446  \n",
       "252             0.655246  \n",
       "105             0.638861  \n",
       "177             0.563500  \n",
       "353             0.555556  \n",
       "197             0.553439  \n",
       "86              0.549051  "
      ]
     },
     "execution_count": 42,
     "metadata": {},
     "output_type": "execute_result"
    }
   ],
   "source": [
    "df_recipient_districts.sort(\"DonateFromSelfRatio\", ascending=False).head(10)"
   ]
  },
  {
   "cell_type": "code",
   "execution_count": 44,
   "metadata": {
    "collapsed": false
   },
   "outputs": [
    {
     "data": {
      "text/html": [
       "<div style=\"max-height:1000px;max-width:1500px;overflow:auto;\">\n",
       "<table border=\"1\" class=\"dataframe\">\n",
       "  <thead>\n",
       "    <tr style=\"text-align: right;\">\n",
       "      <th></th>\n",
       "      <th>RecipientState</th>\n",
       "      <th>RecipientDistrict</th>\n",
       "      <th>DonateFromOther</th>\n",
       "      <th>DonateFromSelf</th>\n",
       "      <th>DonateFromSelfRatio</th>\n",
       "    </tr>\n",
       "  </thead>\n",
       "  <tbody>\n",
       "    <tr>\n",
       "      <th>128</th>\n",
       "      <td> GU</td>\n",
       "      <td>  0</td>\n",
       "      <td>  12400</td>\n",
       "      <td>    0</td>\n",
       "      <td> 0.000000</td>\n",
       "    </tr>\n",
       "    <tr>\n",
       "      <th>344</th>\n",
       "      <td> PR</td>\n",
       "      <td>  0</td>\n",
       "      <td>  36050</td>\n",
       "      <td>    0</td>\n",
       "      <td> 0.000000</td>\n",
       "    </tr>\n",
       "    <tr>\n",
       "      <th>404</th>\n",
       "      <td> VA</td>\n",
       "      <td>  0</td>\n",
       "      <td>  60350</td>\n",
       "      <td>    0</td>\n",
       "      <td> 0.000000</td>\n",
       "    </tr>\n",
       "    <tr>\n",
       "      <th>416</th>\n",
       "      <td> VI</td>\n",
       "      <td>  0</td>\n",
       "      <td>   8560</td>\n",
       "      <td>    0</td>\n",
       "      <td> 0.000000</td>\n",
       "    </tr>\n",
       "    <tr>\n",
       "      <th>85 </th>\n",
       "      <td> DC</td>\n",
       "      <td>  0</td>\n",
       "      <td>  75250</td>\n",
       "      <td>    0</td>\n",
       "      <td> 0.000000</td>\n",
       "    </tr>\n",
       "    <tr>\n",
       "      <th>229</th>\n",
       "      <td> MP</td>\n",
       "      <td>  0</td>\n",
       "      <td>   2000</td>\n",
       "      <td>    0</td>\n",
       "      <td> 0.000000</td>\n",
       "    </tr>\n",
       "    <tr>\n",
       "      <th>231</th>\n",
       "      <td> MS</td>\n",
       "      <td>  2</td>\n",
       "      <td> 192795</td>\n",
       "      <td>  750</td>\n",
       "      <td> 0.003875</td>\n",
       "    </tr>\n",
       "    <tr>\n",
       "      <th>63 </th>\n",
       "      <td> CA</td>\n",
       "      <td> 43</td>\n",
       "      <td>  82075</td>\n",
       "      <td>  650</td>\n",
       "      <td> 0.007857</td>\n",
       "    </tr>\n",
       "    <tr>\n",
       "      <th>233</th>\n",
       "      <td> MS</td>\n",
       "      <td>  4</td>\n",
       "      <td>  85600</td>\n",
       "      <td>  750</td>\n",
       "      <td> 0.008686</td>\n",
       "    </tr>\n",
       "    <tr>\n",
       "      <th>400</th>\n",
       "      <td> UT</td>\n",
       "      <td>  1</td>\n",
       "      <td> 170350</td>\n",
       "      <td> 1500</td>\n",
       "      <td> 0.008729</td>\n",
       "    </tr>\n",
       "  </tbody>\n",
       "</table>\n",
       "</div>"
      ],
      "text/plain": [
       "    RecipientState  RecipientDistrict  DonateFromOther  DonateFromSelf  \\\n",
       "128             GU                  0            12400               0   \n",
       "344             PR                  0            36050               0   \n",
       "404             VA                  0            60350               0   \n",
       "416             VI                  0             8560               0   \n",
       "85              DC                  0            75250               0   \n",
       "229             MP                  0             2000               0   \n",
       "231             MS                  2           192795             750   \n",
       "63              CA                 43            82075             650   \n",
       "233             MS                  4            85600             750   \n",
       "400             UT                  1           170350            1500   \n",
       "\n",
       "     DonateFromSelfRatio  \n",
       "128             0.000000  \n",
       "344             0.000000  \n",
       "404             0.000000  \n",
       "416             0.000000  \n",
       "85              0.000000  \n",
       "229             0.000000  \n",
       "231             0.003875  \n",
       "63              0.007857  \n",
       "233             0.008686  \n",
       "400             0.008729  "
      ]
     },
     "execution_count": 44,
     "metadata": {},
     "output_type": "execute_result"
    }
   ],
   "source": [
    "df_recipient_districts.sort(\"DonateFromSelfRatio\", ascending=True).head(10)"
   ]
  },
  {
   "cell_type": "code",
   "execution_count": 50,
   "metadata": {
    "collapsed": false
   },
   "outputs": [
    {
     "data": {
      "text/html": [
       "<div style=\"max-height:1000px;max-width:1500px;overflow:auto;\">\n",
       "<table border=\"1\" class=\"dataframe\">\n",
       "  <thead>\n",
       "    <tr style=\"text-align: right;\">\n",
       "      <th></th>\n",
       "      <th>RecipientState</th>\n",
       "      <th>RecipientDistrict</th>\n",
       "      <th>DonateFromOther</th>\n",
       "      <th>DonateFromSelf</th>\n",
       "      <th>DonateFromSelfRatio</th>\n",
       "    </tr>\n",
       "  </thead>\n",
       "  <tbody>\n",
       "    <tr>\n",
       "      <th>418</th>\n",
       "      <td> WA</td>\n",
       "      <td>  1</td>\n",
       "      <td> 325595</td>\n",
       "      <td>  72321.06</td>\n",
       "      <td> 0.181750</td>\n",
       "    </tr>\n",
       "    <tr>\n",
       "      <th>419</th>\n",
       "      <td> WA</td>\n",
       "      <td>  2</td>\n",
       "      <td> 148798</td>\n",
       "      <td>  10600.00</td>\n",
       "      <td> 0.066500</td>\n",
       "    </tr>\n",
       "    <tr>\n",
       "      <th>420</th>\n",
       "      <td> WA</td>\n",
       "      <td>  3</td>\n",
       "      <td> 123770</td>\n",
       "      <td> 108635.56</td>\n",
       "      <td> 0.467440</td>\n",
       "    </tr>\n",
       "    <tr>\n",
       "      <th>421</th>\n",
       "      <td> WA</td>\n",
       "      <td>  4</td>\n",
       "      <td> 287178</td>\n",
       "      <td> 107333.22</td>\n",
       "      <td> 0.272066</td>\n",
       "    </tr>\n",
       "    <tr>\n",
       "      <th>422</th>\n",
       "      <td> WA</td>\n",
       "      <td>  5</td>\n",
       "      <td> 526314</td>\n",
       "      <td>  93981.00</td>\n",
       "      <td> 0.151510</td>\n",
       "    </tr>\n",
       "    <tr>\n",
       "      <th>423</th>\n",
       "      <td> WA</td>\n",
       "      <td>  6</td>\n",
       "      <td> 400891</td>\n",
       "      <td>  94244.00</td>\n",
       "      <td> 0.190340</td>\n",
       "    </tr>\n",
       "    <tr>\n",
       "      <th>424</th>\n",
       "      <td> WA</td>\n",
       "      <td>  7</td>\n",
       "      <td>  86900</td>\n",
       "      <td>  36645.00</td>\n",
       "      <td> 0.296613</td>\n",
       "    </tr>\n",
       "    <tr>\n",
       "      <th>425</th>\n",
       "      <td> WA</td>\n",
       "      <td>  8</td>\n",
       "      <td> 255149</td>\n",
       "      <td>  35315.63</td>\n",
       "      <td> 0.121583</td>\n",
       "    </tr>\n",
       "    <tr>\n",
       "      <th>426</th>\n",
       "      <td> WA</td>\n",
       "      <td>  9</td>\n",
       "      <td> 302941</td>\n",
       "      <td>   7300.00</td>\n",
       "      <td> 0.023530</td>\n",
       "    </tr>\n",
       "    <tr>\n",
       "      <th>427</th>\n",
       "      <td> WA</td>\n",
       "      <td> 10</td>\n",
       "      <td> 204351</td>\n",
       "      <td>  56551.00</td>\n",
       "      <td> 0.216752</td>\n",
       "    </tr>\n",
       "  </tbody>\n",
       "</table>\n",
       "</div>"
      ],
      "text/plain": [
       "    RecipientState  RecipientDistrict  DonateFromOther  DonateFromSelf  \\\n",
       "418             WA                  1           325595        72321.06   \n",
       "419             WA                  2           148798        10600.00   \n",
       "420             WA                  3           123770       108635.56   \n",
       "421             WA                  4           287178       107333.22   \n",
       "422             WA                  5           526314        93981.00   \n",
       "423             WA                  6           400891        94244.00   \n",
       "424             WA                  7            86900        36645.00   \n",
       "425             WA                  8           255149        35315.63   \n",
       "426             WA                  9           302941         7300.00   \n",
       "427             WA                 10           204351        56551.00   \n",
       "\n",
       "     DonateFromSelfRatio  \n",
       "418             0.181750  \n",
       "419             0.066500  \n",
       "420             0.467440  \n",
       "421             0.272066  \n",
       "422             0.151510  \n",
       "423             0.190340  \n",
       "424             0.296613  \n",
       "425             0.121583  \n",
       "426             0.023530  \n",
       "427             0.216752  "
      ]
     },
     "execution_count": 50,
     "metadata": {},
     "output_type": "execute_result"
    }
   ],
   "source": [
    "df_recipient_districts[df_recipient_districts.RecipientState == \"WA\"]"
   ]
  },
  {
   "cell_type": "code",
   "execution_count": 51,
   "metadata": {
    "collapsed": false
   },
   "outputs": [
    {
     "data": {
      "text/html": [
       "<div style=\"max-height:1000px;max-width:1500px;overflow:auto;\">\n",
       "<table border=\"1\" class=\"dataframe\">\n",
       "  <thead>\n",
       "    <tr style=\"text-align: right;\">\n",
       "      <th></th>\n",
       "      <th>SourceState</th>\n",
       "      <th>SourceDistrict</th>\n",
       "      <th>DonateToOther</th>\n",
       "      <th>DonateToSelf</th>\n",
       "      <th>DonateToSelfRatio</th>\n",
       "    </tr>\n",
       "  </thead>\n",
       "  <tbody>\n",
       "    <tr>\n",
       "      <th>413</th>\n",
       "      <td> WA</td>\n",
       "      <td>  1</td>\n",
       "      <td> 370295</td>\n",
       "      <td>  72321.06</td>\n",
       "      <td> 0.163395</td>\n",
       "    </tr>\n",
       "    <tr>\n",
       "      <th>414</th>\n",
       "      <td> WA</td>\n",
       "      <td>  2</td>\n",
       "      <td> 132813</td>\n",
       "      <td>  10600.00</td>\n",
       "      <td> 0.073912</td>\n",
       "    </tr>\n",
       "    <tr>\n",
       "      <th>415</th>\n",
       "      <td> WA</td>\n",
       "      <td>  3</td>\n",
       "      <td> 100192</td>\n",
       "      <td> 108635.56</td>\n",
       "      <td> 0.520217</td>\n",
       "    </tr>\n",
       "    <tr>\n",
       "      <th>416</th>\n",
       "      <td> WA</td>\n",
       "      <td>  4</td>\n",
       "      <td>  42816</td>\n",
       "      <td> 107333.22</td>\n",
       "      <td> 0.714844</td>\n",
       "    </tr>\n",
       "    <tr>\n",
       "      <th>417</th>\n",
       "      <td> WA</td>\n",
       "      <td>  5</td>\n",
       "      <td>  55967</td>\n",
       "      <td>  93981.00</td>\n",
       "      <td> 0.626757</td>\n",
       "    </tr>\n",
       "    <tr>\n",
       "      <th>418</th>\n",
       "      <td> WA</td>\n",
       "      <td>  6</td>\n",
       "      <td>  59405</td>\n",
       "      <td>  94244.00</td>\n",
       "      <td> 0.613372</td>\n",
       "    </tr>\n",
       "    <tr>\n",
       "      <th>419</th>\n",
       "      <td> WA</td>\n",
       "      <td>  7</td>\n",
       "      <td> 450123</td>\n",
       "      <td>  36645.00</td>\n",
       "      <td> 0.075282</td>\n",
       "    </tr>\n",
       "    <tr>\n",
       "      <th>420</th>\n",
       "      <td> WA</td>\n",
       "      <td>  8</td>\n",
       "      <td> 147455</td>\n",
       "      <td>  35315.63</td>\n",
       "      <td> 0.193224</td>\n",
       "    </tr>\n",
       "    <tr>\n",
       "      <th>421</th>\n",
       "      <td> WA</td>\n",
       "      <td>  9</td>\n",
       "      <td> 697917</td>\n",
       "      <td>   7300.00</td>\n",
       "      <td> 0.010351</td>\n",
       "    </tr>\n",
       "    <tr>\n",
       "      <th>422</th>\n",
       "      <td> WA</td>\n",
       "      <td> 10</td>\n",
       "      <td> 118526</td>\n",
       "      <td>  56551.00</td>\n",
       "      <td> 0.323006</td>\n",
       "    </tr>\n",
       "  </tbody>\n",
       "</table>\n",
       "</div>"
      ],
      "text/plain": [
       "    SourceState  SourceDistrict  DonateToOther  DonateToSelf  \\\n",
       "413          WA               1         370295      72321.06   \n",
       "414          WA               2         132813      10600.00   \n",
       "415          WA               3         100192     108635.56   \n",
       "416          WA               4          42816     107333.22   \n",
       "417          WA               5          55967      93981.00   \n",
       "418          WA               6          59405      94244.00   \n",
       "419          WA               7         450123      36645.00   \n",
       "420          WA               8         147455      35315.63   \n",
       "421          WA               9         697917       7300.00   \n",
       "422          WA              10         118526      56551.00   \n",
       "\n",
       "     DonateToSelfRatio  \n",
       "413           0.163395  \n",
       "414           0.073912  \n",
       "415           0.520217  \n",
       "416           0.714844  \n",
       "417           0.626757  \n",
       "418           0.613372  \n",
       "419           0.075282  \n",
       "420           0.193224  \n",
       "421           0.010351  \n",
       "422           0.323006  "
      ]
     },
     "execution_count": 51,
     "metadata": {},
     "output_type": "execute_result"
    }
   ],
   "source": [
    "df_donor_districts[df_donor_districts.SourceState == \"WA\"]"
   ]
  },
  {
   "cell_type": "code",
   "execution_count": 53,
   "metadata": {
    "collapsed": false
   },
   "outputs": [
    {
     "data": {
      "text/html": [
       "<div style=\"max-height:1000px;max-width:1500px;overflow:auto;\">\n",
       "<table border=\"1\" class=\"dataframe\">\n",
       "  <thead>\n",
       "    <tr style=\"text-align: right;\">\n",
       "      <th></th>\n",
       "      <th>SourceState</th>\n",
       "      <th>SourceDistrict</th>\n",
       "      <th>DonateToOther</th>\n",
       "      <th>DonateToSelf</th>\n",
       "      <th>DonateToSelfRatio</th>\n",
       "    </tr>\n",
       "  </thead>\n",
       "  <tbody>\n",
       "    <tr>\n",
       "      <th>408</th>\n",
       "      <td> VA</td>\n",
       "      <td>  8</td>\n",
       "      <td> 15741659</td>\n",
       "      <td> 157863.62</td>\n",
       "      <td> 0.009929</td>\n",
       "    </tr>\n",
       "    <tr>\n",
       "      <th>185</th>\n",
       "      <td> MA</td>\n",
       "      <td>  7</td>\n",
       "      <td>  8427341</td>\n",
       "      <td>   7096.11</td>\n",
       "      <td> 0.000841</td>\n",
       "    </tr>\n",
       "    <tr>\n",
       "      <th>282</th>\n",
       "      <td> NY</td>\n",
       "      <td> 12</td>\n",
       "      <td>  6480177</td>\n",
       "      <td> 216676.02</td>\n",
       "      <td> 0.032355</td>\n",
       "    </tr>\n",
       "    <tr>\n",
       "      <th>411</th>\n",
       "      <td> VA</td>\n",
       "      <td> 11</td>\n",
       "      <td>  5480489</td>\n",
       "      <td>  72030.94</td>\n",
       "      <td> 0.012973</td>\n",
       "    </tr>\n",
       "    <tr>\n",
       "      <th>280</th>\n",
       "      <td> NY</td>\n",
       "      <td> 10</td>\n",
       "      <td>  3560187</td>\n",
       "      <td> 180160.81</td>\n",
       "      <td> 0.048167</td>\n",
       "    </tr>\n",
       "    <tr>\n",
       "      <th>410</th>\n",
       "      <td> VA</td>\n",
       "      <td> 10</td>\n",
       "      <td>  3444826</td>\n",
       "      <td> 616084.00</td>\n",
       "      <td> 0.151711</td>\n",
       "    </tr>\n",
       "    <tr>\n",
       "      <th>108</th>\n",
       "      <td> FL</td>\n",
       "      <td> 22</td>\n",
       "      <td>  3043944</td>\n",
       "      <td> 127764.75</td>\n",
       "      <td> 0.040283</td>\n",
       "    </tr>\n",
       "    <tr>\n",
       "      <th>53 </th>\n",
       "      <td> CA</td>\n",
       "      <td> 33</td>\n",
       "      <td>  3009517</td>\n",
       "      <td> 178201.97</td>\n",
       "      <td> 0.055903</td>\n",
       "    </tr>\n",
       "    <tr>\n",
       "      <th>142</th>\n",
       "      <td> IL</td>\n",
       "      <td>  7</td>\n",
       "      <td>  2935345</td>\n",
       "      <td>  37020.00</td>\n",
       "      <td> 0.012455</td>\n",
       "    </tr>\n",
       "    <tr>\n",
       "      <th>195</th>\n",
       "      <td> MD</td>\n",
       "      <td>  8</td>\n",
       "      <td>  2840440</td>\n",
       "      <td> 841024.33</td>\n",
       "      <td> 0.228448</td>\n",
       "    </tr>\n",
       "  </tbody>\n",
       "</table>\n",
       "</div>"
      ],
      "text/plain": [
       "    SourceState  SourceDistrict  DonateToOther  DonateToSelf  \\\n",
       "408          VA               8       15741659     157863.62   \n",
       "185          MA               7        8427341       7096.11   \n",
       "282          NY              12        6480177     216676.02   \n",
       "411          VA              11        5480489      72030.94   \n",
       "280          NY              10        3560187     180160.81   \n",
       "410          VA              10        3444826     616084.00   \n",
       "108          FL              22        3043944     127764.75   \n",
       "53           CA              33        3009517     178201.97   \n",
       "142          IL               7        2935345      37020.00   \n",
       "195          MD               8        2840440     841024.33   \n",
       "\n",
       "     DonateToSelfRatio  \n",
       "408           0.009929  \n",
       "185           0.000841  \n",
       "282           0.032355  \n",
       "411           0.012973  \n",
       "280           0.048167  \n",
       "410           0.151711  \n",
       "108           0.040283  \n",
       "53            0.055903  \n",
       "142           0.012455  \n",
       "195           0.228448  "
      ]
     },
     "execution_count": 53,
     "metadata": {},
     "output_type": "execute_result"
    }
   ],
   "source": []
  },
  {
   "cell_type": "code",
   "execution_count": 113,
   "metadata": {
    "collapsed": false
   },
   "outputs": [
    {
     "data": {
      "text/html": [
       "<div style=\"max-height:1000px;max-width:1500px;overflow:auto;\">\n",
       "<table border=\"1\" class=\"dataframe\">\n",
       "  <thead>\n",
       "    <tr style=\"text-align: right;\">\n",
       "      <th></th>\n",
       "      <th>SourceState</th>\n",
       "      <th>SourceDistrict</th>\n",
       "      <th>DonateToOther</th>\n",
       "      <th>DonateToSelf</th>\n",
       "      <th>DonateToSelfRatio</th>\n",
       "    </tr>\n",
       "  </thead>\n",
       "  <tbody>\n",
       "    <tr>\n",
       "      <th>285</th>\n",
       "      <td> NY</td>\n",
       "      <td> 15</td>\n",
       "      <td> 14939</td>\n",
       "      <td>   2500.00</td>\n",
       "      <td> 0.143357</td>\n",
       "    </tr>\n",
       "    <tr>\n",
       "      <th>227</th>\n",
       "      <td> MO</td>\n",
       "      <td>  8</td>\n",
       "      <td> 16330</td>\n",
       "      <td> 136430.00</td>\n",
       "      <td> 0.893100</td>\n",
       "    </tr>\n",
       "    <tr>\n",
       "      <th>197</th>\n",
       "      <td> ME</td>\n",
       "      <td>  2</td>\n",
       "      <td> 17500</td>\n",
       "      <td> 567034.18</td>\n",
       "      <td> 0.970062</td>\n",
       "    </tr>\n",
       "    <tr>\n",
       "      <th>228</th>\n",
       "      <td> MS</td>\n",
       "      <td>  1</td>\n",
       "      <td> 24007</td>\n",
       "      <td> 696139.17</td>\n",
       "      <td> 0.966664</td>\n",
       "    </tr>\n",
       "    <tr>\n",
       "      <th>352</th>\n",
       "      <td> TN</td>\n",
       "      <td>  1</td>\n",
       "      <td> 26920</td>\n",
       "      <td> 140945.00</td>\n",
       "      <td> 0.839633</td>\n",
       "    </tr>\n",
       "    <tr>\n",
       "      <th>0  </th>\n",
       "      <td> AK</td>\n",
       "      <td>  0</td>\n",
       "      <td> 27822</td>\n",
       "      <td>  77648.42</td>\n",
       "      <td> 0.736210</td>\n",
       "    </tr>\n",
       "    <tr>\n",
       "      <th>249</th>\n",
       "      <td> NE</td>\n",
       "      <td>  3</td>\n",
       "      <td> 28033</td>\n",
       "      <td>  68072.14</td>\n",
       "      <td> 0.708309</td>\n",
       "    </tr>\n",
       "    <tr>\n",
       "      <th>346</th>\n",
       "      <td> SC</td>\n",
       "      <td>  3</td>\n",
       "      <td> 28480</td>\n",
       "      <td>  24837.36</td>\n",
       "      <td> 0.465840</td>\n",
       "    </tr>\n",
       "    <tr>\n",
       "      <th>231</th>\n",
       "      <td> MS</td>\n",
       "      <td>  4</td>\n",
       "      <td> 28880</td>\n",
       "      <td>    750.00</td>\n",
       "      <td> 0.025312</td>\n",
       "    </tr>\n",
       "    <tr>\n",
       "      <th>125</th>\n",
       "      <td> GA</td>\n",
       "      <td> 12</td>\n",
       "      <td> 29437</td>\n",
       "      <td>  52925.00</td>\n",
       "      <td> 0.642590</td>\n",
       "    </tr>\n",
       "  </tbody>\n",
       "</table>\n",
       "</div>"
      ],
      "text/plain": [
       "    SourceState  SourceDistrict  DonateToOther  DonateToSelf  \\\n",
       "285          NY              15          14939       2500.00   \n",
       "227          MO               8          16330     136430.00   \n",
       "197          ME               2          17500     567034.18   \n",
       "228          MS               1          24007     696139.17   \n",
       "352          TN               1          26920     140945.00   \n",
       "0            AK               0          27822      77648.42   \n",
       "249          NE               3          28033      68072.14   \n",
       "346          SC               3          28480      24837.36   \n",
       "231          MS               4          28880        750.00   \n",
       "125          GA              12          29437      52925.00   \n",
       "\n",
       "     DonateToSelfRatio  \n",
       "285           0.143357  \n",
       "227           0.893100  \n",
       "197           0.970062  \n",
       "228           0.966664  \n",
       "352           0.839633  \n",
       "0             0.736210  \n",
       "249           0.708309  \n",
       "346           0.465840  \n",
       "231           0.025312  \n",
       "125           0.642590  "
      ]
     },
     "execution_count": 113,
     "metadata": {},
     "output_type": "execute_result"
    }
   ],
   "source": [
    "df_donor_districts.sort(\"DonateToOther\", ascending=True).head(10)"
   ]
  },
  {
   "cell_type": "code",
   "execution_count": 188,
   "metadata": {
    "collapsed": false
   },
   "outputs": [
    {
     "data": {
      "text/html": [
       "<div style=\"max-height:1000px;max-width:1500px;overflow:auto;\">\n",
       "<table border=\"1\" class=\"dataframe\">\n",
       "  <thead>\n",
       "    <tr style=\"text-align: right;\">\n",
       "      <th></th>\n",
       "      <th>RecipientState</th>\n",
       "      <th>RecipientDistrict</th>\n",
       "      <th>DonateFromOther</th>\n",
       "      <th>DonateFromSelf</th>\n",
       "      <th>DonateFromSelfRatio</th>\n",
       "    </tr>\n",
       "  </thead>\n",
       "  <tbody>\n",
       "    <tr>\n",
       "      <th>13 </th>\n",
       "      <td> AZ</td>\n",
       "      <td>  2</td>\n",
       "      <td> 8139273</td>\n",
       "      <td> 2359298.35</td>\n",
       "      <td> 0.224726</td>\n",
       "    </tr>\n",
       "    <tr>\n",
       "      <th>104</th>\n",
       "      <td> FL</td>\n",
       "      <td> 18</td>\n",
       "      <td> 5378459</td>\n",
       "      <td> 1532858.25</td>\n",
       "      <td> 0.221790</td>\n",
       "    </tr>\n",
       "    <tr>\n",
       "      <th>43 </th>\n",
       "      <td> CA</td>\n",
       "      <td> 23</td>\n",
       "      <td> 4299119</td>\n",
       "      <td>  253764.76</td>\n",
       "      <td> 0.055737</td>\n",
       "    </tr>\n",
       "    <tr>\n",
       "      <th>428</th>\n",
       "      <td> WI</td>\n",
       "      <td>  1</td>\n",
       "      <td> 3421984</td>\n",
       "      <td>   80545.01</td>\n",
       "      <td> 0.022996</td>\n",
       "    </tr>\n",
       "    <tr>\n",
       "      <th>192</th>\n",
       "      <td> MD</td>\n",
       "      <td>  4</td>\n",
       "      <td> 3360169</td>\n",
       "      <td>  702751.71</td>\n",
       "      <td> 0.172967</td>\n",
       "    </tr>\n",
       "  </tbody>\n",
       "</table>\n",
       "</div>"
      ],
      "text/plain": [
       "    RecipientState  RecipientDistrict  DonateFromOther  DonateFromSelf  \\\n",
       "13              AZ                  2          8139273      2359298.35   \n",
       "104             FL                 18          5378459      1532858.25   \n",
       "43              CA                 23          4299119       253764.76   \n",
       "428             WI                  1          3421984        80545.01   \n",
       "192             MD                  4          3360169       702751.71   \n",
       "\n",
       "     DonateFromSelfRatio  \n",
       "13              0.224726  \n",
       "104             0.221790  \n",
       "43              0.055737  \n",
       "428             0.022996  \n",
       "192             0.172967  "
      ]
     },
     "execution_count": 188,
     "metadata": {},
     "output_type": "execute_result"
    }
   ],
   "source": [
    "df_recipient_districts.sort(\"DonateFromOther\", ascending=False).head()"
   ]
  },
  {
   "cell_type": "code",
   "execution_count": 6,
   "metadata": {
    "collapsed": false
   },
   "outputs": [
    {
     "data": {
      "text/plain": [
       "[<matplotlib.lines.Line2D at 0x9cb8be0>]"
      ]
     },
     "execution_count": 6,
     "metadata": {},
     "output_type": "execute_result"
    },
    {
     "data": {
      "image/png": "[encoded data removed]",
      "text/plain": [
       "<matplotlib.figure.Figure at 0x82b3550>"
      ]
     },
     "metadata": {},
     "output_type": "display_data"
    }
   ],
   "source": [
    "plot(log10(df_donor_districts.DonateToSelf),log10(df_donor_districts.DonateToOther), '.')"
   ]
  },
  {
   "cell_type": "code",
   "execution_count": 45,
   "metadata": {
    "collapsed": false
   },
   "outputs": [
    {
     "data": {
      "text/plain": [
       "<matplotlib.text.Text at 0x11f39a20>"
      ]
     },
     "execution_count": 45,
     "metadata": {},
     "output_type": "execute_result"
    },
    {
     "data": {
      "image/png": "[encoded data removed]",
      "text/plain": [
       "<matplotlib.figure.Figure at 0x11eb4828>"
      ]
     },
     "metadata": {},
     "output_type": "display_data"
    }
   ],
   "source": [
    "_ = plt.loglog(df_recipient_districts.DonateFromSelf, df_recipient_districts.DonateFromOther, '.')[0]\n",
    "plt.ylim(10 ** 4, 10 ** 7.4)\n",
    "plt.title(\"Donations from Within District and Correlated with Donations from Outside of the District\")\n",
    "plt.xlabel(\"Donations from Within District\")\n",
    "plt.ylabel(\"Donations from Outside District\")"
   ]
  },
  {
   "cell_type": "code",
   "execution_count": 201,
   "metadata": {
    "collapsed": false
   },
   "outputs": [
    {
     "data": {
      "text/plain": [
       "<matplotlib.axes._subplots.AxesSubplot at 0x12bf2668>"
      ]
     },
     "execution_count": 201,
     "metadata": {},
     "output_type": "execute_result"
    },
    {
     "data": {
      "image/png": "[encoded data removed]",
      "text/plain": [
       "<matplotlib.figure.Figure at 0x12e8a9e8>"
      ]
     },
     "metadata": {},
     "output_type": "display_data"
    }
   ],
   "source": [
    "df_recipient_districts.DonateFromSelfRatio.hist(bins=25, alpha=.35)\n",
    "df_donor_districts.DonateToSelfRatio.hist(bins=25, alpha=.35)"
   ]
  },
  {
   "cell_type": "code",
   "execution_count": 185,
   "metadata": {
    "collapsed": false
   },
   "outputs": [
    {
     "data": {
      "text/html": [
       "<div style=\"max-height:1000px;max-width:1500px;overflow:auto;\">\n",
       "<table border=\"1\" class=\"dataframe\">\n",
       "  <thead>\n",
       "    <tr style=\"text-align: right;\">\n",
       "      <th></th>\n",
       "      <th>SourceDistrict</th>\n",
       "      <th>DonateToOther</th>\n",
       "      <th>DonateToSelf</th>\n",
       "      <th>DonateToSelfRatio</th>\n",
       "    </tr>\n",
       "  </thead>\n",
       "  <tbody>\n",
       "    <tr>\n",
       "      <th>SourceDistrict</th>\n",
       "      <td> 1.000000</td>\n",
       "      <td> 0.181427</td>\n",
       "      <td>-0.028744</td>\n",
       "      <td>-0.152183</td>\n",
       "    </tr>\n",
       "    <tr>\n",
       "      <th>DonateToOther</th>\n",
       "      <td> 0.181427</td>\n",
       "      <td> 1.000000</td>\n",
       "      <td> 0.015330</td>\n",
       "      <td>-0.441559</td>\n",
       "    </tr>\n",
       "    <tr>\n",
       "      <th>DonateToSelf</th>\n",
       "      <td>-0.028744</td>\n",
       "      <td> 0.015330</td>\n",
       "      <td> 1.000000</td>\n",
       "      <td> 0.543123</td>\n",
       "    </tr>\n",
       "    <tr>\n",
       "      <th>DonateToSelfRatio</th>\n",
       "      <td>-0.152183</td>\n",
       "      <td>-0.441559</td>\n",
       "      <td> 0.543123</td>\n",
       "      <td> 1.000000</td>\n",
       "    </tr>\n",
       "  </tbody>\n",
       "</table>\n",
       "</div>"
      ],
      "text/plain": [
       "                   SourceDistrict  DonateToOther  DonateToSelf  \\\n",
       "SourceDistrict           1.000000       0.181427     -0.028744   \n",
       "DonateToOther            0.181427       1.000000      0.015330   \n",
       "DonateToSelf            -0.028744       0.015330      1.000000   \n",
       "DonateToSelfRatio       -0.152183      -0.441559      0.543123   \n",
       "\n",
       "                   DonateToSelfRatio  \n",
       "SourceDistrict             -0.152183  \n",
       "DonateToOther              -0.441559  \n",
       "DonateToSelf                0.543123  \n",
       "DonateToSelfRatio           1.000000  "
      ]
     },
     "execution_count": 185,
     "metadata": {},
     "output_type": "execute_result"
    }
   ],
   "source": [
    "df_donor_districts.corr('kendall')"
   ]
  },
  {
   "cell_type": "code",
   "execution_count": 186,
   "metadata": {
    "collapsed": false
   },
   "outputs": [
    {
     "data": {
      "text/html": [
       "<div style=\"max-height:1000px;max-width:1500px;overflow:auto;\">\n",
       "<table border=\"1\" class=\"dataframe\">\n",
       "  <thead>\n",
       "    <tr style=\"text-align: right;\">\n",
       "      <th></th>\n",
       "      <th>RecipientDistrict</th>\n",
       "      <th>DonateFromOther</th>\n",
       "      <th>DonateFromSelf</th>\n",
       "      <th>DonateFromSelfRatio</th>\n",
       "    </tr>\n",
       "  </thead>\n",
       "  <tbody>\n",
       "    <tr>\n",
       "      <th>RecipientDistrict</th>\n",
       "      <td> 1.000000</td>\n",
       "      <td> 0.099288</td>\n",
       "      <td>-0.002317</td>\n",
       "      <td>-0.094024</td>\n",
       "    </tr>\n",
       "    <tr>\n",
       "      <th>DonateFromOther</th>\n",
       "      <td> 0.099288</td>\n",
       "      <td> 1.000000</td>\n",
       "      <td> 0.485210</td>\n",
       "      <td> 0.008004</td>\n",
       "    </tr>\n",
       "    <tr>\n",
       "      <th>DonateFromSelf</th>\n",
       "      <td>-0.002317</td>\n",
       "      <td> 0.485210</td>\n",
       "      <td> 1.000000</td>\n",
       "      <td> 0.522778</td>\n",
       "    </tr>\n",
       "    <tr>\n",
       "      <th>DonateFromSelfRatio</th>\n",
       "      <td>-0.094024</td>\n",
       "      <td> 0.008004</td>\n",
       "      <td> 0.522778</td>\n",
       "      <td> 1.000000</td>\n",
       "    </tr>\n",
       "  </tbody>\n",
       "</table>\n",
       "</div>"
      ],
      "text/plain": [
       "                     RecipientDistrict  DonateFromOther  DonateFromSelf  \\\n",
       "RecipientDistrict             1.000000         0.099288       -0.002317   \n",
       "DonateFromOther               0.099288         1.000000        0.485210   \n",
       "DonateFromSelf               -0.002317         0.485210        1.000000   \n",
       "DonateFromSelfRatio          -0.094024         0.008004        0.522778   \n",
       "\n",
       "                     DonateFromSelfRatio  \n",
       "RecipientDistrict              -0.094024  \n",
       "DonateFromOther                 0.008004  \n",
       "DonateFromSelf                  0.522778  \n",
       "DonateFromSelfRatio             1.000000  "
      ]
     },
     "execution_count": 186,
     "metadata": {},
     "output_type": "execute_result"
    }
   ],
   "source": [
    "df_recipient_districts.corr('kendall')"
   ]
  },
  {
   "cell_type": "code",
   "execution_count": null,
   "metadata": {
    "collapsed": true
   },
   "outputs": [],
   "source": [
    "# Map stuff."
   ]
  },
  {
   "cell_type": "code",
   "execution_count": 391,
   "metadata": {
    "collapsed": false
   },
   "outputs": [],
   "source": [
    "r = requests.get(\"http://raw.githubusercontent.com/jsongeo/cd113/master/cd113.geojson\")\n",
    "geo_data = r.json()"
   ]
  },
  {
   "cell_type": "code",
   "execution_count": 396,
   "metadata": {
    "collapsed": false
   },
   "outputs": [],
   "source": [
    "districts_x = [[p[0] for p in point['geometry']['coordinates'][0]] for point in geo_data['features'] if point[\"properties\"][\"CD113FP\"] < '54']\n",
    "districts_y = [[p[1] for p in point['geometry']['coordinates'][0]] for point in geo_data['features'] if point[\"properties\"][\"CD113FP\"] < '54']\n",
    "district_map = [dict(district=point[\"properties\"][\"CD113FP\"], state=point[\"properties\"]['STATEFP']) for point in geo_data['features'] if point[\"properties\"][\"CD113FP\"] < '54']"
   ]
  },
  {
   "cell_type": "code",
   "execution_count": 383,
   "metadata": {
    "collapsed": false
   },
   "outputs": [],
   "source": [
    "del geo_data"
   ]
  },
  {
   "cell_type": "code",
   "execution_count": 393,
   "metadata": {
    "collapsed": false
   },
   "outputs": [
    {
     "data": {
      "text/plain": [
       "{'district': '01', 'state': '37'}"
      ]
     },
     "execution_count": 393,
     "metadata": {},
     "output_type": "execute_result"
    }
   ],
   "source": [
    "district_map[0]"
   ]
  },
  {
   "cell_type": "code",
   "execution_count": null,
   "metadata": {
    "collapsed": false
   },
   "outputs": [],
   "source": []
  },
  {
   "cell_type": "code",
   "execution_count": 344,
   "metadata": {
    "collapsed": false
   },
   "outputs": [],
   "source": [
    "import bokeh\n",
    "from bokeh.plotting import output_notebook, figure, output_file, show\n",
    "from bokeh.sampledata.us_states import data as states"
   ]
  },
  {
   "cell_type": "code",
   "execution_count": 336,
   "metadata": {
    "collapsed": false
   },
   "outputs": [],
   "source": [
    "output_notebook()"
   ]
  },
  {
   "cell_type": "code",
   "execution_count": 324,
   "metadata": {
    "collapsed": false
   },
   "outputs": [
    {
     "ename": "KeyError",
     "evalue": "'HI'",
     "output_type": "error",
     "traceback": [
      "\u001b[1;31m---------------------------------------------------------------------------\u001b[0m",
      "\u001b[1;31mKeyError\u001b[0m                                  Traceback (most recent call last)",
      "\u001b[1;32m<ipython-input-324-e49d33065226>\u001b[0m in \u001b[0;36m<module>\u001b[1;34m()\u001b[0m\n\u001b[1;32m----> 1\u001b[1;33m \u001b[1;32mdel\u001b[0m \u001b[0mstates\u001b[0m\u001b[1;33m[\u001b[0m\u001b[1;34m\"HI\"\u001b[0m\u001b[1;33m]\u001b[0m\u001b[1;33m\u001b[0m\u001b[0m\n\u001b[0m\u001b[0;32m      2\u001b[0m \u001b[1;32mdel\u001b[0m \u001b[0mstates\u001b[0m\u001b[1;33m[\u001b[0m\u001b[1;34m\"AK\"\u001b[0m\u001b[1;33m]\u001b[0m\u001b[1;33m\u001b[0m\u001b[0m\n\u001b[0;32m      3\u001b[0m \u001b[0mstate_xs\u001b[0m \u001b[1;33m=\u001b[0m \u001b[1;33m[\u001b[0m\u001b[0mstates\u001b[0m\u001b[1;33m[\u001b[0m\u001b[0mcode\u001b[0m\u001b[1;33m]\u001b[0m\u001b[1;33m[\u001b[0m\u001b[1;34m\"lons\"\u001b[0m\u001b[1;33m]\u001b[0m \u001b[1;32mfor\u001b[0m \u001b[0mcode\u001b[0m \u001b[1;32min\u001b[0m \u001b[0mstates\u001b[0m\u001b[1;33m]\u001b[0m\u001b[1;33m\u001b[0m\u001b[0m\n\u001b[0;32m      4\u001b[0m \u001b[0mstate_ys\u001b[0m \u001b[1;33m=\u001b[0m \u001b[1;33m[\u001b[0m\u001b[0mstates\u001b[0m\u001b[1;33m[\u001b[0m\u001b[0mcode\u001b[0m\u001b[1;33m]\u001b[0m\u001b[1;33m[\u001b[0m\u001b[1;34m\"lats\"\u001b[0m\u001b[1;33m]\u001b[0m \u001b[1;32mfor\u001b[0m \u001b[0mcode\u001b[0m \u001b[1;32min\u001b[0m \u001b[0mstates\u001b[0m\u001b[1;33m]\u001b[0m\u001b[1;33m\u001b[0m\u001b[0m\n",
      "\u001b[1;31mKeyError\u001b[0m: 'HI'"
     ]
    }
   ],
   "source": [
    "del states[\"HI\"]\n",
    "del states[\"AK\"]"
   ]
  },
  {
   "cell_type": "code",
   "execution_count": 325,
   "metadata": {
    "collapsed": true
   },
   "outputs": [],
   "source": [
    "state_xs = [states[code][\"lons\"] for code in states]\n",
    "state_ys = [states[code][\"lats\"] for code in states]"
   ]
  },
  {
   "cell_type": "code",
   "execution_count": 397,
   "metadata": {
    "collapsed": false
   },
   "outputs": [],
   "source": [
    "p = figure(title=\"\", toolbar_location=\"left\",plot_width=900, plot_height=500)"
   ]
  },
  {
   "cell_type": "code",
   "execution_count": 398,
   "metadata": {
    "collapsed": false
   },
   "outputs": [
    {
     "data": {
      "text/plain": [
       "<bokeh.plotting.Figure at 0x1a6a3668>"
      ]
     },
     "execution_count": 398,
     "metadata": {},
     "output_type": "execute_result"
    }
   ],
   "source": [
    "p.patches(state_xs, state_ys, fill_alpha=0.0, line_color=\"#884444\", line_width=2, line_alpha=0.3)\n",
    "p.patches(districts_x, districts_y, fill_alpha=0.0, line_color=\"#448844\", line_width=1.5, line_alpha=.5)"
   ]
  },
  {
   "cell_type": "code",
   "execution_count": null,
   "metadata": {
    "collapsed": false
   },
   "outputs": [],
   "source": []
  },
  {
   "cell_type": "code",
   "execution_count": 55,
   "metadata": {
    "collapsed": true
   },
   "outputs": [],
   "source": [
    "# Next up: combine with other info:\n",
    "#   previous race competitiveness\n",
    "#   demographics:\n",
    "#     race\n",
    "#     median income"
   ]
  },
  {
   "cell_type": "code",
   "execution_count": 79,
   "metadata": {
    "collapsed": true
   },
   "outputs": [],
   "source": [
    "df_demographics_raw = pd.read_csv(\"http://proximityone.com/countytrends/cd11414dp1.csv\", header=None)"
   ]
  },
  {
   "cell_type": "code",
   "execution_count": 107,
   "metadata": {
    "collapsed": true
   },
   "outputs": [],
   "source": [
    "offset = 2\n",
    "demographics_cols = [0, 28 + offset, 32 + offset, 33 + offset, 34 + offset, 39 + offset, 53 + offset, 66 + offset]\n",
    "demographics_labels = ['StateDistrict', 'TotalPop', 'White', 'BlackAA', 'AmericanIndian', 'Indian', 'TwoOrMore', 'Hispanic']\n",
    "df_demographics_subset = df_demographics_raw[demographics_cols].copy()\n",
    "df_demographics_subset.columns = demographics_labels"
   ]
  },
  {
   "cell_type": "code",
   "execution_count": 88,
   "metadata": {
    "collapsed": false
   },
   "outputs": [
    {
     "data": {
      "text/html": [
       "<div style=\"max-height:1000px;max-width:1500px;overflow:auto;\">\n",
       "<table border=\"1\" class=\"dataframe\">\n",
       "  <thead>\n",
       "    <tr style=\"text-align: right;\">\n",
       "      <th></th>\n",
       "      <th>StateDistrict</th>\n",
       "      <th>TotalPop</th>\n",
       "      <th>White</th>\n",
       "      <th>BlackAA</th>\n",
       "      <th>AmericanIndian</th>\n",
       "      <th>Indian</th>\n",
       "      <th>TwoOrMore</th>\n",
       "      <th>Hispanic</th>\n",
       "    </tr>\n",
       "  </thead>\n",
       "  <tbody>\n",
       "    <tr>\n",
       "      <th>0</th>\n",
       "      <td> AL01</td>\n",
       "      <td> 696783</td>\n",
       "      <td> 468456</td>\n",
       "      <td> 194320</td>\n",
       "      <td> 5293</td>\n",
       "      <td>  9757</td>\n",
       "      <td> 11719</td>\n",
       "      <td> 21560</td>\n",
       "    </tr>\n",
       "    <tr>\n",
       "      <th>1</th>\n",
       "      <td> AL02</td>\n",
       "      <td> 678622</td>\n",
       "      <td> 443780</td>\n",
       "      <td> 209361</td>\n",
       "      <td> 3409</td>\n",
       "      <td>  7684</td>\n",
       "      <td>  8867</td>\n",
       "      <td> 21732</td>\n",
       "    </tr>\n",
       "    <tr>\n",
       "      <th>2</th>\n",
       "      <td> AL03</td>\n",
       "      <td> 706574</td>\n",
       "      <td> 492627</td>\n",
       "      <td> 183400</td>\n",
       "      <td> 1988</td>\n",
       "      <td>  9979</td>\n",
       "      <td> 12527</td>\n",
       "      <td> 21219</td>\n",
       "    </tr>\n",
       "    <tr>\n",
       "      <th>3</th>\n",
       "      <td> AL04</td>\n",
       "      <td> 683372</td>\n",
       "      <td> 596472</td>\n",
       "      <td>  46899</td>\n",
       "      <td> 5010</td>\n",
       "      <td>  3536</td>\n",
       "      <td> 13816</td>\n",
       "      <td> 40923</td>\n",
       "    </tr>\n",
       "    <tr>\n",
       "      <th>4</th>\n",
       "      <td> AL05</td>\n",
       "      <td> 706373</td>\n",
       "      <td> 542208</td>\n",
       "      <td> 121562</td>\n",
       "      <td> 4100</td>\n",
       "      <td> 10138</td>\n",
       "      <td> 20695</td>\n",
       "      <td> 34993</td>\n",
       "    </tr>\n",
       "  </tbody>\n",
       "</table>\n",
       "</div>"
      ],
      "text/plain": [
       "  StateDistrict  TotalPop   White  BlackAA  AmericanIndian  Indian  TwoOrMore  \\\n",
       "0          AL01    696783  468456   194320            5293    9757      11719   \n",
       "1          AL02    678622  443780   209361            3409    7684       8867   \n",
       "2          AL03    706574  492627   183400            1988    9979      12527   \n",
       "3          AL04    683372  596472    46899            5010    3536      13816   \n",
       "4          AL05    706373  542208   121562            4100   10138      20695   \n",
       "\n",
       "   Hispanic  \n",
       "0     21560  \n",
       "1     21732  \n",
       "2     21219  \n",
       "3     40923  \n",
       "4     34993  "
      ]
     },
     "execution_count": 88,
     "metadata": {},
     "output_type": "execute_result"
    }
   ],
   "source": [
    "df_demographics_subset.head()"
   ]
  },
  {
   "cell_type": "code",
   "execution_count": 89,
   "metadata": {
    "collapsed": true
   },
   "outputs": [],
   "source": [
    "df_economics_raw = pd.read_csv(\"http://proximityone.com/countytrends/cd11414dp3.csv\", header=None)"
   ]
  },
  {
   "cell_type": "code",
   "execution_count": 108,
   "metadata": {
    "collapsed": true
   },
   "outputs": [],
   "source": [
    "economics_cols = [0, 1 + offset, 2 + offset, 3 + offset, 4 + offset, 5 + offset, 9 + offset, 62 + offset, 75 + offset]\n",
    "economics_labels = ['StateDistrict', 'TotalPopOver16', 'LaborForce', \n",
    "                    'CivilianLaborForce', 'CivilianLaborForceEmployed', \n",
    "                    'CivilianLaborForceUnemployed', 'UnemploymentRate', \n",
    "                    'MedianHouseholdIncome', 'PeopleOnFoodStamps']\n",
    "df_economics_subset = df_economics_raw[economics_cols].copy()\n",
    "df_economics_subset.columns = economics_labels"
   ]
  },
  {
   "cell_type": "code",
   "execution_count": 91,
   "metadata": {
    "collapsed": false
   },
   "outputs": [
    {
     "data": {
      "text/html": [
       "<div style=\"max-height:1000px;max-width:1500px;overflow:auto;\">\n",
       "<table border=\"1\" class=\"dataframe\">\n",
       "  <thead>\n",
       "    <tr style=\"text-align: right;\">\n",
       "      <th></th>\n",
       "      <th>StateDistrict</th>\n",
       "      <th>TotalPopOver16</th>\n",
       "      <th>LaborForce</th>\n",
       "      <th>CivilianLaborForce</th>\n",
       "      <th>CivilianLaborForceEmployed</th>\n",
       "      <th>CivilianLaborForceUnemployed</th>\n",
       "      <th>UnemploymentRate</th>\n",
       "      <th>MedianHouseholdIncome</th>\n",
       "      <th>PeopleOnFoodStamps</th>\n",
       "    </tr>\n",
       "  </thead>\n",
       "  <tbody>\n",
       "    <tr>\n",
       "      <th>0</th>\n",
       "      <td> AL01</td>\n",
       "      <td> 553082</td>\n",
       "      <td> 311302</td>\n",
       "      <td> 310102</td>\n",
       "      <td> 284368</td>\n",
       "      <td> 25734</td>\n",
       "      <td> 8.3</td>\n",
       "      <td> 44030</td>\n",
       "      <td> 171735</td>\n",
       "    </tr>\n",
       "    <tr>\n",
       "      <th>1</th>\n",
       "      <td> AL02</td>\n",
       "      <td> 539419</td>\n",
       "      <td> 311124</td>\n",
       "      <td> 304679</td>\n",
       "      <td> 276724</td>\n",
       "      <td> 27955</td>\n",
       "      <td> 9.2</td>\n",
       "      <td> 42628</td>\n",
       "      <td> 169568</td>\n",
       "    </tr>\n",
       "    <tr>\n",
       "      <th>2</th>\n",
       "      <td> AL03</td>\n",
       "      <td> 567056</td>\n",
       "      <td> 326571</td>\n",
       "      <td> 323831</td>\n",
       "      <td> 294307</td>\n",
       "      <td> 29524</td>\n",
       "      <td> 9.1</td>\n",
       "      <td> 40896</td>\n",
       "      <td> 182965</td>\n",
       "    </tr>\n",
       "    <tr>\n",
       "      <th>3</th>\n",
       "      <td> AL04</td>\n",
       "      <td> 543465</td>\n",
       "      <td> 293283</td>\n",
       "      <td> 292929</td>\n",
       "      <td> 270588</td>\n",
       "      <td> 22341</td>\n",
       "      <td> 7.6</td>\n",
       "      <td> 39246</td>\n",
       "      <td> 180662</td>\n",
       "    </tr>\n",
       "    <tr>\n",
       "      <th>4</th>\n",
       "      <td> AL05</td>\n",
       "      <td> 564903</td>\n",
       "      <td> 344827</td>\n",
       "      <td> 343484</td>\n",
       "      <td> 317427</td>\n",
       "      <td> 26057</td>\n",
       "      <td> 7.6</td>\n",
       "      <td> 49202</td>\n",
       "      <td> 183799</td>\n",
       "    </tr>\n",
       "  </tbody>\n",
       "</table>\n",
       "</div>"
      ],
      "text/plain": [
       "  StateDistrict  TotalPopOver16  LaborForce  CivilianLaborForce  \\\n",
       "0          AL01          553082      311302              310102   \n",
       "1          AL02          539419      311124              304679   \n",
       "2          AL03          567056      326571              323831   \n",
       "3          AL04          543465      293283              292929   \n",
       "4          AL05          564903      344827              343484   \n",
       "\n",
       "   CivilianLaborForceEmployed  CivilianLaborForceUnemployed  UnemploymentRate  \\\n",
       "0                      284368                         25734               8.3   \n",
       "1                      276724                         27955               9.2   \n",
       "2                      294307                         29524               9.1   \n",
       "3                      270588                         22341               7.6   \n",
       "4                      317427                         26057               7.6   \n",
       "\n",
       "   MedianHouseholdIncome  PeopleOnFoodStamps  \n",
       "0                  44030              171735  \n",
       "1                  42628              169568  \n",
       "2                  40896              182965  \n",
       "3                  39246              180662  \n",
       "4                  49202              183799  "
      ]
     },
     "execution_count": 91,
     "metadata": {},
     "output_type": "execute_result"
    }
   ],
   "source": [
    "df_economics_subset.head()"
   ]
  },
  {
   "cell_type": "code",
   "execution_count": 106,
   "metadata": {
    "collapsed": false
   },
   "outputs": [
    {
     "data": {
      "text/html": [
       "<div style=\"max-height:1000px;max-width:1500px;overflow:auto;\">\n",
       "<table border=\"1\" class=\"dataframe\">\n",
       "  <thead>\n",
       "    <tr style=\"text-align: right;\">\n",
       "      <th></th>\n",
       "      <th>StateDistrict</th>\n",
       "      <th>TotalPop</th>\n",
       "      <th>White</th>\n",
       "      <th>BlackAA</th>\n",
       "      <th>AmericanIndian</th>\n",
       "      <th>Indian</th>\n",
       "      <th>TwoOrMore</th>\n",
       "      <th>Hispanic</th>\n",
       "      <th>State</th>\n",
       "      <th>District</th>\n",
       "    </tr>\n",
       "  </thead>\n",
       "  <tbody>\n",
       "    <tr>\n",
       "      <th>0</th>\n",
       "      <td> AL01</td>\n",
       "      <td> 696783</td>\n",
       "      <td> 468456</td>\n",
       "      <td> 194320</td>\n",
       "      <td> 5293</td>\n",
       "      <td>  9757</td>\n",
       "      <td> 11719</td>\n",
       "      <td> 21560</td>\n",
       "      <td> AL</td>\n",
       "      <td> 1</td>\n",
       "    </tr>\n",
       "    <tr>\n",
       "      <th>1</th>\n",
       "      <td> AL02</td>\n",
       "      <td> 678622</td>\n",
       "      <td> 443780</td>\n",
       "      <td> 209361</td>\n",
       "      <td> 3409</td>\n",
       "      <td>  7684</td>\n",
       "      <td>  8867</td>\n",
       "      <td> 21732</td>\n",
       "      <td> AL</td>\n",
       "      <td> 2</td>\n",
       "    </tr>\n",
       "    <tr>\n",
       "      <th>2</th>\n",
       "      <td> AL03</td>\n",
       "      <td> 706574</td>\n",
       "      <td> 492627</td>\n",
       "      <td> 183400</td>\n",
       "      <td> 1988</td>\n",
       "      <td>  9979</td>\n",
       "      <td> 12527</td>\n",
       "      <td> 21219</td>\n",
       "      <td> AL</td>\n",
       "      <td> 3</td>\n",
       "    </tr>\n",
       "    <tr>\n",
       "      <th>3</th>\n",
       "      <td> AL04</td>\n",
       "      <td> 683372</td>\n",
       "      <td> 596472</td>\n",
       "      <td>  46899</td>\n",
       "      <td> 5010</td>\n",
       "      <td>  3536</td>\n",
       "      <td> 13816</td>\n",
       "      <td> 40923</td>\n",
       "      <td> AL</td>\n",
       "      <td> 4</td>\n",
       "    </tr>\n",
       "    <tr>\n",
       "      <th>4</th>\n",
       "      <td> AL05</td>\n",
       "      <td> 706373</td>\n",
       "      <td> 542208</td>\n",
       "      <td> 121562</td>\n",
       "      <td> 4100</td>\n",
       "      <td> 10138</td>\n",
       "      <td> 20695</td>\n",
       "      <td> 34993</td>\n",
       "      <td> AL</td>\n",
       "      <td> 5</td>\n",
       "    </tr>\n",
       "  </tbody>\n",
       "</table>\n",
       "</div>"
      ],
      "text/plain": [
       "  StateDistrict  TotalPop   White  BlackAA  AmericanIndian  Indian  TwoOrMore  \\\n",
       "0          AL01    696783  468456   194320            5293    9757      11719   \n",
       "1          AL02    678622  443780   209361            3409    7684       8867   \n",
       "2          AL03    706574  492627   183400            1988    9979      12527   \n",
       "3          AL04    683372  596472    46899            5010    3536      13816   \n",
       "4          AL05    706373  542208   121562            4100   10138      20695   \n",
       "\n",
       "   Hispanic State  District  \n",
       "0     21560    AL         1  \n",
       "1     21732    AL         2  \n",
       "2     21219    AL         3  \n",
       "3     40923    AL         4  \n",
       "4     34993    AL         5  "
      ]
     },
     "execution_count": 106,
     "metadata": {},
     "output_type": "execute_result"
    }
   ],
   "source": [
    "df_demographics_subset.head()"
   ]
  },
  {
   "cell_type": "code",
   "execution_count": 111,
   "metadata": {
    "collapsed": true
   },
   "outputs": [],
   "source": [
    "df_independent_variables = df_demographics_subset.merge(df_economics_subset, \n",
    "    on='StateDistrict')\n",
    "df_independent_variables['State'] = df_independent_variables.StateDistrict.apply(lambda x: x[:2])\n",
    "df_independent_variables['District'] = df_independent_variables.StateDistrict.apply(lambda x: int(x[2:]))"
   ]
  },
  {
   "cell_type": "code",
   "execution_count": 112,
   "metadata": {
    "collapsed": false
   },
   "outputs": [
    {
     "data": {
      "text/html": [
       "<div style=\"max-height:1000px;max-width:1500px;overflow:auto;\">\n",
       "<table border=\"1\" class=\"dataframe\">\n",
       "  <thead>\n",
       "    <tr style=\"text-align: right;\">\n",
       "      <th></th>\n",
       "      <th>StateDistrict</th>\n",
       "      <th>TotalPop</th>\n",
       "      <th>White</th>\n",
       "      <th>BlackAA</th>\n",
       "      <th>AmericanIndian</th>\n",
       "      <th>Indian</th>\n",
       "      <th>TwoOrMore</th>\n",
       "      <th>Hispanic</th>\n",
       "      <th>TotalPopOver16</th>\n",
       "      <th>LaborForce</th>\n",
       "      <th>CivilianLaborForce</th>\n",
       "      <th>CivilianLaborForceEmployed</th>\n",
       "      <th>CivilianLaborForceUnemployed</th>\n",
       "      <th>UnemploymentRate</th>\n",
       "      <th>MedianHouseholdIncome</th>\n",
       "      <th>PeopleOnFoodStamps</th>\n",
       "      <th>State</th>\n",
       "      <th>District</th>\n",
       "    </tr>\n",
       "  </thead>\n",
       "  <tbody>\n",
       "    <tr>\n",
       "      <th>0</th>\n",
       "      <td> AL01</td>\n",
       "      <td> 696783</td>\n",
       "      <td> 468456</td>\n",
       "      <td> 194320</td>\n",
       "      <td> 5293</td>\n",
       "      <td>  9757</td>\n",
       "      <td> 11719</td>\n",
       "      <td> 21560</td>\n",
       "      <td> 553082</td>\n",
       "      <td> 311302</td>\n",
       "      <td> 310102</td>\n",
       "      <td> 284368</td>\n",
       "      <td> 25734</td>\n",
       "      <td> 8.3</td>\n",
       "      <td> 44030</td>\n",
       "      <td> 171735</td>\n",
       "      <td> AL</td>\n",
       "      <td> 1</td>\n",
       "    </tr>\n",
       "    <tr>\n",
       "      <th>1</th>\n",
       "      <td> AL02</td>\n",
       "      <td> 678622</td>\n",
       "      <td> 443780</td>\n",
       "      <td> 209361</td>\n",
       "      <td> 3409</td>\n",
       "      <td>  7684</td>\n",
       "      <td>  8867</td>\n",
       "      <td> 21732</td>\n",
       "      <td> 539419</td>\n",
       "      <td> 311124</td>\n",
       "      <td> 304679</td>\n",
       "      <td> 276724</td>\n",
       "      <td> 27955</td>\n",
       "      <td> 9.2</td>\n",
       "      <td> 42628</td>\n",
       "      <td> 169568</td>\n",
       "      <td> AL</td>\n",
       "      <td> 2</td>\n",
       "    </tr>\n",
       "    <tr>\n",
       "      <th>2</th>\n",
       "      <td> AL03</td>\n",
       "      <td> 706574</td>\n",
       "      <td> 492627</td>\n",
       "      <td> 183400</td>\n",
       "      <td> 1988</td>\n",
       "      <td>  9979</td>\n",
       "      <td> 12527</td>\n",
       "      <td> 21219</td>\n",
       "      <td> 567056</td>\n",
       "      <td> 326571</td>\n",
       "      <td> 323831</td>\n",
       "      <td> 294307</td>\n",
       "      <td> 29524</td>\n",
       "      <td> 9.1</td>\n",
       "      <td> 40896</td>\n",
       "      <td> 182965</td>\n",
       "      <td> AL</td>\n",
       "      <td> 3</td>\n",
       "    </tr>\n",
       "    <tr>\n",
       "      <th>3</th>\n",
       "      <td> AL04</td>\n",
       "      <td> 683372</td>\n",
       "      <td> 596472</td>\n",
       "      <td>  46899</td>\n",
       "      <td> 5010</td>\n",
       "      <td>  3536</td>\n",
       "      <td> 13816</td>\n",
       "      <td> 40923</td>\n",
       "      <td> 543465</td>\n",
       "      <td> 293283</td>\n",
       "      <td> 292929</td>\n",
       "      <td> 270588</td>\n",
       "      <td> 22341</td>\n",
       "      <td> 7.6</td>\n",
       "      <td> 39246</td>\n",
       "      <td> 180662</td>\n",
       "      <td> AL</td>\n",
       "      <td> 4</td>\n",
       "    </tr>\n",
       "    <tr>\n",
       "      <th>4</th>\n",
       "      <td> AL05</td>\n",
       "      <td> 706373</td>\n",
       "      <td> 542208</td>\n",
       "      <td> 121562</td>\n",
       "      <td> 4100</td>\n",
       "      <td> 10138</td>\n",
       "      <td> 20695</td>\n",
       "      <td> 34993</td>\n",
       "      <td> 564903</td>\n",
       "      <td> 344827</td>\n",
       "      <td> 343484</td>\n",
       "      <td> 317427</td>\n",
       "      <td> 26057</td>\n",
       "      <td> 7.6</td>\n",
       "      <td> 49202</td>\n",
       "      <td> 183799</td>\n",
       "      <td> AL</td>\n",
       "      <td> 5</td>\n",
       "    </tr>\n",
       "  </tbody>\n",
       "</table>\n",
       "</div>"
      ],
      "text/plain": [
       "  StateDistrict  TotalPop   White  BlackAA  AmericanIndian  Indian  TwoOrMore  \\\n",
       "0          AL01    696783  468456   194320            5293    9757      11719   \n",
       "1          AL02    678622  443780   209361            3409    7684       8867   \n",
       "2          AL03    706574  492627   183400            1988    9979      12527   \n",
       "3          AL04    683372  596472    46899            5010    3536      13816   \n",
       "4          AL05    706373  542208   121562            4100   10138      20695   \n",
       "\n",
       "   Hispanic  TotalPopOver16  LaborForce  CivilianLaborForce  \\\n",
       "0     21560          553082      311302              310102   \n",
       "1     21732          539419      311124              304679   \n",
       "2     21219          567056      326571              323831   \n",
       "3     40923          543465      293283              292929   \n",
       "4     34993          564903      344827              343484   \n",
       "\n",
       "   CivilianLaborForceEmployed  CivilianLaborForceUnemployed  UnemploymentRate  \\\n",
       "0                      284368                         25734               8.3   \n",
       "1                      276724                         27955               9.2   \n",
       "2                      294307                         29524               9.1   \n",
       "3                      270588                         22341               7.6   \n",
       "4                      317427                         26057               7.6   \n",
       "\n",
       "   MedianHouseholdIncome  PeopleOnFoodStamps State  District  \n",
       "0                  44030              171735    AL         1  \n",
       "1                  42628              169568    AL         2  \n",
       "2                  40896              182965    AL         3  \n",
       "3                  39246              180662    AL         4  \n",
       "4                  49202              183799    AL         5  "
      ]
     },
     "execution_count": 112,
     "metadata": {},
     "output_type": "execute_result"
    }
   ],
   "source": [
    "df_independent_variables.head()"
   ]
  },
  {
   "cell_type": "code",
   "execution_count": 207,
   "metadata": {
    "collapsed": true
   },
   "outputs": [],
   "source": [
    "df_previous_results = pd.read_csv(\"https://raw.githubusercontent.com/TimeMagazine/congressional-election-results/master/data/results_2012.csv\")"
   ]
  },
  {
   "cell_type": "code",
   "execution_count": 265,
   "metadata": {
    "collapsed": false
   },
   "outputs": [],
   "source": [
    "df_previous_results = pd.read_csv(\"https://raw.githubusercontent.com/TimeMagazine/congressional-election-results/master/data/results_2012.csv\")\n",
    "def clean_party(party):\n",
    "    ret_val = \"\"\n",
    "    party = party.lower()\n",
    "    if \"democrat\" in party:\n",
    "        ret_val += \"Dem\"\n",
    "    elif \"republican\" in party:\n",
    "        ret_val += \"Rep\"\n",
    "    return ret_val\n",
    "\n",
    "df_previous_results['clean_party'] = df_previous_results.parties.apply(clean_party)\n",
    "df_previous_results['clean_votes'] = df_previous_results.votes.apply(lambda x: 1 if x == \"Unopposed\" else int(x))  # NOTE: we only use ratios in final analysis.\n",
    "df_previous_results_clean = df_previous_results[df_previous_results['clean_party'] != '']\n",
    "df_previous_results_clean = df_previous_results_clean[df_previous_results_clean.district != \"S\"]\n",
    "df_previous_results_clean['clean_district'] = df_previous_results_clean.district.apply(lambda x: int(x.split(' ')[0]))"
   ]
  },
  {
   "cell_type": "code",
   "execution_count": 276,
   "metadata": {
    "collapsed": false
   },
   "outputs": [],
   "source": [
    "df_previous_results_p = df_previous_results_clean.pivot_table(index=[\"state\", \"clean_district\"], columns=\"clean_party\", values=\"clean_votes\", fill_value=0).reset_index()\n",
    "df_previous_results_p.loc[df_previous_results_p.clean_district == 0, 'clean_district'] = 1"
   ]
  },
  {
   "cell_type": "code",
   "execution_count": 283,
   "metadata": {
    "collapsed": false
   },
   "outputs": [],
   "source": [
    "df_previous_results_p = df_previous_results_clean.pivot_table(index=[\"state\", \"clean_district\"], columns=\"clean_party\", values=\"clean_votes\", fill_value=0).reset_index()\n",
    "df_previous_results_p.loc[df_previous_results_p.clean_district == 0, 'clean_district'] = 1\n",
    "df_previous_results_p[\"RepublicanRatio\"] = df_previous_results_p.Rep / (df_previous_results_p.Dem + df_previous_results_p.Rep)\n",
    "df_previous_results_p[\"DifferenceFromEven\"] = abs(0.5 - df_previous_results_p.RepublicanRatio)"
   ]
  },
  {
   "cell_type": "code",
   "execution_count": 291,
   "metadata": {
    "collapsed": false
   },
   "outputs": [],
   "source": [
    "df_full_independent = df_independent_variables.merge(df_previous_results_p, left_on=[\"State\", \"District\"], right_on=[\"state\", \"clean_district\"])"
   ]
  },
  {
   "cell_type": "code",
   "execution_count": 300,
   "metadata": {
    "collapsed": false
   },
   "outputs": [],
   "source": [
    "df_full_independent[\"WhiteProportion\"] = df_full_independent.White / df_full_independent.TotalPop\n",
    "df_full_independent[\"BlackAAProportion\"] = df_full_independent.BlackAA / df_full_independent.TotalPop\n",
    "df_full_independent[\"AmericanIndianProportion\"] = df_full_independent.AmericanIndian / df_full_independent.TotalPop\n",
    "df_full_independent[\"IndianProportion\"] = df_full_independent.Indian / df_full_independent.TotalPop\n",
    "df_full_independent[\"TwoOrMoreProportion\"] = df_full_independent.TwoOrMore / df_full_independent.TotalPop\n",
    "df_full_independent[\"HispanicProportion\"] = df_full_independent.Hispanic / df_full_independent.TotalPop\n",
    "df_full_independent[\"FoodstampsProportion\"] = df_full_independent.PeopleOnFoodStamps / df_full_independent.TotalPop"
   ]
  },
  {
   "cell_type": "code",
   "execution_count": 313,
   "metadata": {
    "collapsed": false
   },
   "outputs": [],
   "source": [
    "df_independent = df_full_independent[[\"State\", \"District\", \"UnemploymentRate\", \"MedianHouseholdIncome\", \"RepublicanRatio\", \"DifferenceFromEven\", \"TotalPop\", \"WhiteProportion\", \"BlackAAProportion\", \"AmericanIndianProportion\", \"IndianProportion\", \"TwoOrMoreProportion\", \"HispanicProportion\", \"FoodstampsProportion\"]]"
   ]
  },
  {
   "cell_type": "code",
   "execution_count": 318,
   "metadata": {
    "collapsed": false
   },
   "outputs": [
    {
     "data": {
      "image/png": "[encoded data removed]",
      "text/plain": [
       "<matplotlib.figure.Figure at 0x19aeefd0>"
      ]
     },
     "metadata": {},
     "output_type": "display_data"
    }
   ],
   "source": [
    "_ = df_independent.hist(figsize=(20,10), normed=True)"
   ]
  },
  {
   "cell_type": "code",
   "execution_count": null,
   "metadata": {
    "collapsed": true
   },
   "outputs": [],
   "source": [
    "# model 1: who gives a lot? \n",
    "# model 2: who receives a lot?"
   ]
  },
  {
   "cell_type": "code",
   "execution_count": null,
   "metadata": {
    "collapsed": true
   },
   "outputs": [],
   "source": []
  }
 ],
 "metadata": {
  "kernelspec": {
   "display_name": "Python 2",
   "language": "python",
   "name": "python2"
  },
  "language_info": {
   "codemirror_mode": {
    "name": "ipython",
    "version": 2
   },
   "file_extension": ".py",
   "mimetype": "text/x-python",
   "name": "python",
   "nbconvert_exporter": "python",
   "pygments_lexer": "ipython2",
   "version": "2.7.11"
  }
 },
 "nbformat": 4,
 "nbformat_minor": 0
}
