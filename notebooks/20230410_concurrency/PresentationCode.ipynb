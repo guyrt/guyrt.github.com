{
 "cells": [
  {
   "cell_type": "code",
   "execution_count": 16,
   "metadata": {
    "slideshow": {
     "slide_type": "slide"
    }
   },
   "outputs": [],
   "source": [
    "from typing import Any, Tuple\n",
    "import json\n",
    "import hashlib\n",
    "from filelock import FileLock\n",
    "\n",
    "\n",
    "def set_unsafe(primary_key : str, content : Any):\n",
    "    # write etag and content\n",
    "    serialized_content = json.dumps(content)\n",
    "    with open(_get_path(primary_key), 'w') as fh:\n",
    "        fh.write(serialized_content)\n",
    "\n",
    "\n",
    "def get(primary_key : str) -> Tuple[Any, str]:\n",
    "    try:\n",
    "        with open(_get_etag(primary_key), 'r') as fh:\n",
    "            etag = fh.read()\n",
    "    except FileDoesNotExist:\n",
    "        etag = ''\n",
    "\n",
    "    with open(_get_path(primary_key), 'r') as fh:\n",
    "        content = json.loads(fh.read())\n",
    "    return content, etag\n",
    "\n",
    "\n",
    "import os\n",
    "storage_base = os.path.join(os.curdir, \"_filestore\")\n",
    "os.makedirs(storage_base, exist_ok=True)\n",
    "\n",
    "def _get_path(key : str):\n",
    "    return os.path.join(storage_base, key)\n",
    "\n",
    "def _get_etag(key : str):\n",
    "    return os.path.join(storage_base, f'{key}_etag')\n",
    "\n",
    "def _get_lock(key : str):\n",
    "    return os.path.join(storage_base, f'{key}_.lock')"
   ]
  },
  {
   "cell_type": "code",
   "execution_count": 18,
   "metadata": {
    "slideshow": {
     "slide_type": "slide"
    }
   },
   "outputs": [],
   "source": [
    "from typing import Any, Tuple\n",
    "import json\n",
    "import hashlib\n",
    "from filelock import FileLock\n",
    "\n",
    "\n",
    "\n",
    "# NOTE! This doesn't account for multi-threaded access.\n",
    "def set_safe(primary_key : str, content : Any, etag : str = 'required but not set'):\n",
    "    if os.path.exists(_get_etag(primary_key)):\n",
    "        stored_etag = open(_get_etag(primary_key), 'r').read()  # may throw file errors.\n",
    "        if stored_etag != etag:\n",
    "            raise ValueError(f\"Invalid etag! Someone moved your cheese?\\nOld: {stored_etag}\\nNew: {etag}\")\n",
    "    # write etag and content\n",
    "    serialized_content = json.dumps(content)\n",
    "    new_etag = hashlib.md5(serialized_content.encode('ascii', 'xmlcharrefreplace'))\n",
    "    with open(_get_etag(primary_key), 'w') as fh:\n",
    "        fh.write(str(new_etag.hexdigest()))\n",
    "    with open(_get_path(primary_key), 'w') as fh:\n",
    "        fh.write(serialized_content)\n",
    "\n"
   ]
  },
  {
   "cell_type": "code",
   "execution_count": 22,
   "metadata": {
    "slideshow": {
     "slide_type": "subslide"
    }
   },
   "outputs": [],
   "source": [
    "\n",
    "def set_safe(primary_key : str, content : Any, etag : str = 'required but not set'):\n",
    "    locker = FileLock(_get_lock(primary_key), timeout=1)\n",
    "    with locker:\n",
    "        if os.path.exists(_get_etag(primary_key)):\n",
    "            stored_etag = open(_get_etag(primary_key), 'r').read()  # may throw file errors.\n",
    "            if stored_etag != etag:\n",
    "                raise ValueError(f\"Invalid etag! Someone moved your cheese?\\nOld: {stored_etag}\\nNew: {etag}\")\n",
    "        # write etag and content\n",
    "        serialized_content = json.dumps(content)\n",
    "        new_etag = hashlib.md5(serialized_content.encode('ascii', 'xmlcharrefreplace'))\n",
    "\n",
    "        with open(_get_etag(primary_key), 'w') as fh:\n",
    "            fh.write(str(new_etag.hexdigest()))\n",
    "        with open(_get_path(primary_key), 'w') as fh:\n",
    "            fh.write(serialized_content)\n",
    "\n",
    "\n"
   ]
  },
  {
   "cell_type": "code",
   "execution_count": 19,
   "metadata": {
    "slideshow": {
     "slide_type": "slide"
    }
   },
   "outputs": [
    {
     "data": {
      "text/plain": [
       "({'paragraphs': {'0': {'text': 'Paragaph 1', 'author': 'A'}},\n",
       "  'last_modified_by': 'A'},\n",
       " '54a706a96bc31ef5e54b07606d6033cd')"
      ]
     },
     "execution_count": 19,
     "metadata": {},
     "output_type": "execute_result"
    }
   ],
   "source": [
    "base_content = {\n",
    "    'paragraphs': {\n",
    "        0: {\n",
    "            'text': \"Paragaph 1\",\n",
    "            'author': 'A'\n",
    "        }\n",
    "    },\n",
    "    'last_modified_by': 'A'\n",
    "}\n",
    "set_unsafe(\"blogpost\", base_content)\n",
    "get('blogpost')"
   ]
  },
  {
   "cell_type": "markdown",
   "metadata": {
    "slideshow": {
     "slide_type": "slide"
    }
   },
   "source": [
    "Show a conflict"
   ]
  },
  {
   "cell_type": "code",
   "execution_count": 12,
   "metadata": {
    "slideshow": {
     "slide_type": "slide"
    }
   },
   "outputs": [],
   "source": [
    "# Unsafe get/set\n",
    "\n",
    "# Agent A\n",
    "a_content, _ = get('blogpost')\n",
    "\n",
    "# Agent B\n",
    "b_content, _ = get('blogpost')\n",
    "\n",
    "# Updates\n",
    "a_content['last_modified_by'] = 'A'\n",
    "a_content['paragraphs'][0] = {'text': 'concurrency is hard', 'author': \"A\"}\n",
    "\n",
    "b_content['last_modified_by'] = 'B'\n",
    "b_content['paragraphs'][1] = {'text': 'concurrency is easy!', 'author': \"B\"}\n",
    "\n",
    "# Write\n",
    "set_unsafe('blogpost', b_content)\n"
   ]
  },
  {
   "cell_type": "code",
   "execution_count": 13,
   "metadata": {
    "slideshow": {
     "slide_type": "subslide"
    }
   },
   "outputs": [
    {
     "data": {
      "text/plain": [
       "({'paragraphs': {'0': {'text': 'Paragaph 1', 'author': 'A'},\n",
       "   '1': {'text': 'concurrency is easy!', 'author': 'B'}},\n",
       "  'last_modified_by': 'B'},\n",
       " '54a706a96bc31ef5e54b07606d6033cd')"
      ]
     },
     "execution_count": 13,
     "metadata": {},
     "output_type": "execute_result"
    }
   ],
   "source": [
    "get('blogpost')"
   ]
  },
  {
   "cell_type": "code",
   "execution_count": 14,
   "metadata": {
    "slideshow": {
     "slide_type": "slide"
    }
   },
   "outputs": [],
   "source": [
    "set_unsafe('blogpost', a_content)"
   ]
  },
  {
   "cell_type": "code",
   "execution_count": 15,
   "metadata": {
    "slideshow": {
     "slide_type": "slide"
    }
   },
   "outputs": [
    {
     "data": {
      "text/plain": [
       "({'paragraphs': {'0': {'text': 'concurrency is hard', 'author': 'A'}},\n",
       "  'last_modified_by': 'A'},\n",
       " '54a706a96bc31ef5e54b07606d6033cd')"
      ]
     },
     "execution_count": 15,
     "metadata": {},
     "output_type": "execute_result"
    }
   ],
   "source": [
    "get('blogpost')"
   ]
  },
  {
   "cell_type": "code",
   "execution_count": 21,
   "metadata": {},
   "outputs": [],
   "source": [
    "set_unsafe(\"safeblogpost\", base_content)  # for later"
   ]
  },
  {
   "cell_type": "code",
   "execution_count": 23,
   "metadata": {},
   "outputs": [
    {
     "ename": "NameError",
     "evalue": "name 'FileDoesNotExist' is not defined",
     "output_type": "error",
     "traceback": [
      "\u001b[1;31m---------------------------------------------------------------------------\u001b[0m",
      "\u001b[1;31mFileNotFoundError\u001b[0m                         Traceback (most recent call last)",
      "Cell \u001b[1;32mIn[16], line 16\u001b[0m, in \u001b[0;36mget\u001b[1;34m(primary_key)\u001b[0m\n\u001b[0;32m     15\u001b[0m \u001b[38;5;28;01mtry\u001b[39;00m:\n\u001b[1;32m---> 16\u001b[0m     \u001b[38;5;28;01mwith\u001b[39;00m \u001b[38;5;28;43mopen\u001b[39;49m\u001b[43m(\u001b[49m\u001b[43m_get_etag\u001b[49m\u001b[43m(\u001b[49m\u001b[43mprimary_key\u001b[49m\u001b[43m)\u001b[49m\u001b[43m,\u001b[49m\u001b[43m \u001b[49m\u001b[38;5;124;43m'\u001b[39;49m\u001b[38;5;124;43mr\u001b[39;49m\u001b[38;5;124;43m'\u001b[39;49m\u001b[43m)\u001b[49m \u001b[38;5;28;01mas\u001b[39;00m fh:\n\u001b[0;32m     17\u001b[0m         etag \u001b[38;5;241m=\u001b[39m fh\u001b[38;5;241m.\u001b[39mread()\n",
      "File \u001b[1;32m~\\Anaconda3\\lib\\site-packages\\IPython\\core\\interactiveshell.py:282\u001b[0m, in \u001b[0;36m_modified_open\u001b[1;34m(file, *args, **kwargs)\u001b[0m\n\u001b[0;32m    276\u001b[0m     \u001b[38;5;28;01mraise\u001b[39;00m \u001b[38;5;167;01mValueError\u001b[39;00m(\n\u001b[0;32m    277\u001b[0m         \u001b[38;5;124mf\u001b[39m\u001b[38;5;124m\"\u001b[39m\u001b[38;5;124mIPython won\u001b[39m\u001b[38;5;124m'\u001b[39m\u001b[38;5;124mt let you open fd=\u001b[39m\u001b[38;5;132;01m{\u001b[39;00mfile\u001b[38;5;132;01m}\u001b[39;00m\u001b[38;5;124m by default \u001b[39m\u001b[38;5;124m\"\u001b[39m\n\u001b[0;32m    278\u001b[0m         \u001b[38;5;124m\"\u001b[39m\u001b[38;5;124mas it is likely to crash IPython. If you know what you are doing, \u001b[39m\u001b[38;5;124m\"\u001b[39m\n\u001b[0;32m    279\u001b[0m         \u001b[38;5;124m\"\u001b[39m\u001b[38;5;124myou can use builtins\u001b[39m\u001b[38;5;124m'\u001b[39m\u001b[38;5;124m open.\u001b[39m\u001b[38;5;124m\"\u001b[39m\n\u001b[0;32m    280\u001b[0m     )\n\u001b[1;32m--> 282\u001b[0m \u001b[38;5;28;01mreturn\u001b[39;00m \u001b[43mio_open\u001b[49m\u001b[43m(\u001b[49m\u001b[43mfile\u001b[49m\u001b[43m,\u001b[49m\u001b[43m \u001b[49m\u001b[38;5;241;43m*\u001b[39;49m\u001b[43margs\u001b[49m\u001b[43m,\u001b[49m\u001b[43m \u001b[49m\u001b[38;5;241;43m*\u001b[39;49m\u001b[38;5;241;43m*\u001b[39;49m\u001b[43mkwargs\u001b[49m\u001b[43m)\u001b[49m\n",
      "\u001b[1;31mFileNotFoundError\u001b[0m: [Errno 2] No such file or directory: '.\\\\_filestore\\\\safeblogpost_etag'",
      "\nDuring handling of the above exception, another exception occurred:\n",
      "\u001b[1;31mNameError\u001b[0m                                 Traceback (most recent call last)",
      "Cell \u001b[1;32mIn[23], line 2\u001b[0m\n\u001b[0;32m      1\u001b[0m \u001b[38;5;66;03m# Agent A\u001b[39;00m\n\u001b[1;32m----> 2\u001b[0m a_content, etag \u001b[38;5;241m=\u001b[39m \u001b[43mget\u001b[49m\u001b[43m(\u001b[49m\u001b[38;5;124;43m'\u001b[39;49m\u001b[38;5;124;43msafeblogpost\u001b[39;49m\u001b[38;5;124;43m'\u001b[39;49m\u001b[43m)\u001b[49m\n\u001b[0;32m      4\u001b[0m \u001b[38;5;66;03m# Agent B\u001b[39;00m\n\u001b[0;32m      5\u001b[0m b_content, b_etag \u001b[38;5;241m=\u001b[39m get(\u001b[38;5;124m'\u001b[39m\u001b[38;5;124msafeblogpost\u001b[39m\u001b[38;5;124m'\u001b[39m)\n",
      "Cell \u001b[1;32mIn[16], line 18\u001b[0m, in \u001b[0;36mget\u001b[1;34m(primary_key)\u001b[0m\n\u001b[0;32m     16\u001b[0m     \u001b[38;5;28;01mwith\u001b[39;00m \u001b[38;5;28mopen\u001b[39m(_get_etag(primary_key), \u001b[38;5;124m'\u001b[39m\u001b[38;5;124mr\u001b[39m\u001b[38;5;124m'\u001b[39m) \u001b[38;5;28;01mas\u001b[39;00m fh:\n\u001b[0;32m     17\u001b[0m         etag \u001b[38;5;241m=\u001b[39m fh\u001b[38;5;241m.\u001b[39mread()\n\u001b[1;32m---> 18\u001b[0m \u001b[38;5;28;01mexcept\u001b[39;00m \u001b[43mFileDoesNotExist\u001b[49m:\n\u001b[0;32m     19\u001b[0m     etag \u001b[38;5;241m=\u001b[39m \u001b[38;5;124m'\u001b[39m\u001b[38;5;124m'\u001b[39m\n\u001b[0;32m     21\u001b[0m \u001b[38;5;28;01mwith\u001b[39;00m \u001b[38;5;28mopen\u001b[39m(_get_path(primary_key), \u001b[38;5;124m'\u001b[39m\u001b[38;5;124mr\u001b[39m\u001b[38;5;124m'\u001b[39m) \u001b[38;5;28;01mas\u001b[39;00m fh:\n",
      "\u001b[1;31mNameError\u001b[0m: name 'FileDoesNotExist' is not defined"
     ]
    }
   ],
   "source": [
    "# Agent A\n",
    "a_content, etag = get('safeblogpost')\n",
    "\n",
    "# Agent B\n",
    "b_content, b_etag = get('safeblogpost')\n",
    "\n",
    "# Updates\n",
    "a_content['last_modified_by'] = 'A'\n",
    "a_content['paragraphs'][0] = {'text': 'concurrency is hard', 'author': \"A\"}\n",
    "\n",
    "b_content['last_modified_by'] = 'B'\n",
    "b_content['paragraphs'][1] = {'text': 'concurrency is easy!', 'author': \"B\"}\n",
    "\n",
    "# Write\n",
    "set_safe('safeblogpost', b_content, b_etag)"
   ]
  },
  {
   "cell_type": "code",
   "execution_count": null,
   "metadata": {},
   "outputs": [],
   "source": []
  }
 ],
 "metadata": {
  "celltoolbar": "Slideshow",
  "kernelspec": {
   "display_name": "Python 3",
   "language": "python",
   "name": "python3"
  },
  "language_info": {
   "codemirror_mode": {
    "name": "ipython",
    "version": 3
   },
   "file_extension": ".py",
   "mimetype": "text/x-python",
   "name": "python",
   "nbconvert_exporter": "python",
   "pygments_lexer": "ipython3",
   "version": "3.8.3"
  }
 },
 "nbformat": 4,
 "nbformat_minor": 4
}
