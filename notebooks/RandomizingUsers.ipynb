{
 "cells": [
  {
   "cell_type": "code",
   "execution_count": 1,
   "metadata": {
    "collapsed": false
   },
   "outputs": [
    {
     "name": "stdout",
     "output_type": "stream",
     "text": [
      "Populating the interactive namespace from numpy and matplotlib\n"
     ]
    }
   ],
   "source": [
    "%pylab inline"
   ]
  },
  {
   "cell_type": "markdown",
   "metadata": {},
   "source": [
    "Randomizing Users: Two Methods Compared\n",
    "=======================================\n",
    "\n",
    "Tommy Guy\n",
    "\n",
    "Last Edited: August 28, 2016"
   ]
  },
  {
   "cell_type": "markdown",
   "metadata": {},
   "source": [
    "At KDD 2016, Netflix published a paper called [Improving the Sensitivity of Online Controlled Studies](http://www.kdd.org/kdd2016/subtopic/view/improving-the-sensitivity-of-online-controlled-experiments-case-studies-at-) that among other things explains how Netflix randomizes users for controlled experiments.\n",
    "\n",
    "The thing is, I've never heard of anyone using their method! Most systems including the platform on [my team](http://www.exp-platform.com) use a stateless approach based on hashing that optimizes for efficient, repeatable assignment. Netflix uses a queue-based system that emphasizes balanced assignments but at the expense of storage and complexity.\n",
    "\n",
    "In this post, I'll make a psuedo-implementation of each approach and discuss the tradeoffs inherent in each. I'm pretty convinced I don't want to take Netflix's approach, but you can be your own judge."
   ]
  },
  {
   "cell_type": "markdown",
   "metadata": {},
   "source": [
    "First, Let's Design Some Experiments\n",
    "---------------------------\n",
    "\n",
    "To finish setting the stage, each experiment has two or more buckets that correspond to user experiences. Typically, one of these buckets is the \"control\" or existing experience. An experiment is really a set of buckets of a fractional size of the total population. The variable `experiments` below is a very basic schematic of a set of experiments.\n",
    "\n",
    "We assume that the system will handle potentially hundreds of experiments and tens of millions of users, though not every experiment will be applicable to every user at any given time. A few reasons why an experiment wouldn't apply to a particular user include the experiment uses a filtered subset of traffic (say, en-gb only) or the experiment is set up to be mutually exclusive of another experiment. The latter case happens when we want to test two potentially interacting ideas and ensure that a user isn't exposed to the cross product of possible outcomes simultaneously. "
   ]
  },
  {
   "cell_type": "code",
   "execution_count": 2,
   "metadata": {
    "collapsed": false
   },
   "outputs": [],
   "source": [
    "num_total_buckets = 100\n",
    "        \n",
    "experiments = {\n",
    "    'ChangeButton': {\n",
    "        'buckets': [  # describe the set of available buckets.\n",
    "            {'name': 'blue', 'allocation': .25},  # note that only half of users are in buckets.\n",
    "            {'name': 'red', 'allocation': .25}\n",
    "        ],\n",
    "        'filters': {  # describe any filters that apply to the experiment. These must be knowable at assignment time.\n",
    "            'locale': 'en-us'\n",
    "        },\n",
    "        'id': 'ChangeButton'\n",
    "    },\n",
    "    'ChangeLogo': {\n",
    "        'buckets': [  # describe the set of available buckets.\n",
    "            {'name': 'stickfigure', 'size': .10},\n",
    "            {'name': 'professional', 'size': .10}\n",
    "        ],\n",
    "        'filters': {  # describe any filters that apply to the experiment. These must be knowable at assignment time.\n",
    "            'locale': 'en-us'\n",
    "        },\n",
    "        'id': 'ChangeLogo'\n",
    "    }\n",
    "}\n",
    "\n",
    "#\n",
    "# Set up a very basic base randomizer. Subclasses will override _randomize_user.\n",
    "#\n",
    "class BaseExperimentRandomizer(object):\n",
    "\n",
    "    def filters_apply(self, user, experiment):\n",
    "        filters = experiment['filters']\n",
    "        return all([user.get(k) == v for k, v in filters.items()])\n",
    "    \n",
    "    def assign_user(self, user, experiment_id):\n",
    "        experiment = experiments[experiment_id]\n",
    "        if not self.filters_apply(user, experiment):\n",
    "            return 'noop'\n",
    "        return self._randomize_user(user['id'], experiment)\n",
    "    \n",
    "    def _randomize_user(self, user_id, experiment):\n",
    "        # Dumb case simply returns the first bucket. \n",
    "        # http://xkcd.com/221/\n",
    "        return experiment[0]['name']"
   ]
  },
  {
   "cell_type": "markdown",
   "metadata": {},
   "source": [
    "The gist is that experiments define a set of filters and a set of buckets. Each bucket has a name and a size. To tell if a user is exposed to an experiment, we check whether the filters apply then use a randomizing function. Our initial randomization is [pretty dumb](http://xkcd.com/221/) and we'll improve it below."
   ]
  },
  {
   "cell_type": "markdown",
   "metadata": {},
   "source": [
    "How to Judge a Randomization System\n",
    "-----------------------------------\n",
    "\n",
    "Here are the criteria I will use to judge the two approaches.\n",
    "\n",
    "**Must haves**\n",
    "* Repeatability: A user will be in the same bucket for a given experiment provided the experiment's allocation is stable.\n",
    "* Ramp Up and Ramp Down: We need to be able to quickly change allocations including killing experiments that show problems.\n",
    "* Experiment Exclusion: We can configure two experiments to not overlap if we want. A user in treatment or control for experiment 1 will not be in experiment 2.\n",
    "\n",
    "**Statistical Efficiency**\n",
    "* Statistical Dependability: Does the system reliably produce unbiased, balanced allocations of users?\n",
    "* Stratification: Is stratified sampling possible? (The original topic of Netflix's paper).\n",
    "\n",
    "The first three requirements are considered table stakes: we have to be able to keep a consistent experience. What I'm calling statistical efficiency is really judging whether the system can avoid accidentally biasing the random split. We can usually detect when that bias occurs (which I'll discuss below) but such failure require an experiment rerun which reduces our efficiency. Therefore a system where more random allocations are usable in production would be better.\n",
    "\n",
    "\n",
    "Given our criteria, let's introduce the two systems!"
   ]
  },
  {
   "cell_type": "markdown",
   "metadata": {},
   "source": [
    "Hash and Bucket Randomization\n",
    "-----------------------------\n",
    "\n",
    "The standard algorithm for randomizing users was introduced in several papers including papers from Google and Microsoft (todo links). Assume every user has a unique, persistent identifier that is known at assignment time. Use a series of salted hashes and identifier to determine a user's assignment. The first example below doesn't handle exclusion but introduces the hashing system. The second example is the full monty."
   ]
  },
  {
   "cell_type": "code",
   "execution_count": 3,
   "metadata": {
    "collapsed": false
   },
   "outputs": [],
   "source": [
    "from itertools import accumulate\n",
    "\n",
    "class SimpleHashAndBucketRandomizer(BaseExperimentRandomizer):\n",
    "    # Does not do experiment exclusion.\n",
    "    \n",
    "    def _randomize_user(self, user_id, experiment):\n",
    "        salted_user = str(user_id) + experiment['id']\n",
    "        hash_value = hash(salted_user) % num_total_buckets\n",
    "        \n",
    "        buckets = experiment['buckets']\n",
    "        cumulative_buckets = list(accumulate([bucket['allocation'] * num_total_buckets for bucket in buckets]))\n",
    "        bucket_index = sum([bb < hash_value for bb in cumulative_buckets])\n",
    "        if bucket_index == len(buckets):\n",
    "            return 'noop'  # User isn't in experiment\n",
    "        return buckets[bucket_index]['name']\n",
    "        "
   ]
  },
  {
   "cell_type": "markdown",
   "metadata": {},
   "source": [
    "*One word of caution* I'm using python's built-in hash function here because hash functions aren't my focus. Don't do that in produciton. At Microsoft, we use Spooky Hash, and we've got a paper arguing that in more complicated setups involving multiple overlapping experiments, it's the only hash function we found that correctly orthogonalizes experiments to prevent interaction effects in unrelated experiments."
   ]
  },
  {
   "cell_type": "markdown",
   "metadata": {},
   "source": [
    "**Repeatability**\n",
    "HashAndBucket randomization is a *stateless* randomizer: we store state about active experiments but we can recompute a user's information on the fly from the stable user id.\n",
    "\n",
    "**Rampup and Shutdown**\n",
    "Since the system doesn't persist user assignments, one can change allocation and it will be immediately reflected. If a user is in treatment \"ChangeButton\" and we decide to shut off that experiment, the very next call for that user will automatically move them into \"noop\". \n",
    "\n",
    "**Experiment Exclusion**\n",
    "If we want to run two experiments such that a user can't be in both, we use the same hash salt on both experiments, but we assign the experiments to non-overlapping buckets. If we have an experiment with 25% of users in each bucket and another with 10% in each bucket, we use a single salt and assign 50 buckets to each experiment. In the implementation below, we also introduce a per-experiment salt, which I'll come back to later."
   ]
  },
  {
   "cell_type": "code",
   "execution_count": 4,
   "metadata": {
    "collapsed": false
   },
   "outputs": [],
   "source": [
    "# Put our two experiments on a single salt.\n",
    "hashes = {\n",
    "    'UISalt1': {\n",
    "        'salt': 'abracadabra',\n",
    "        'current_buckets': [\n",
    "            {'name': 'ChangeButton', 'allocation': .50},\n",
    "            {'name': 'ChangeLogo', 'allocation': .20},\n",
    "        ]\n",
    "    }\n",
    "}\n",
    "\n",
    "# Add salt to every experiment.\n",
    "for key in experiments.keys():\n",
    "    experiments[key][\"salt\"] = \"UISalt1\"\n",
    "\n",
    "# Define a within-experiment allocation (essentially, make experiment use the whole hash.)\n",
    "experiments_sans_noop = {\n",
    "    'ChangeButton': {\n",
    "        'buckets': [\n",
    "            {'name': 'blue', 'allocation': .50},\n",
    "            {'name': 'red', 'allocation': .50}\n",
    "        ],\n",
    "        'id': 'ChangeButton'\n",
    "    },\n",
    "    'ChangeLogo': {\n",
    "        'buckets': [\n",
    "            {'name': 'stickfigure', 'allocation': .50},\n",
    "            {'name': 'professional', 'allocation': .50}\n",
    "        ],\n",
    "        'id': 'ChangeLogo'\n",
    "    }\n",
    "}"
   ]
  },
  {
   "cell_type": "code",
   "execution_count": 5,
   "metadata": {
    "collapsed": true
   },
   "outputs": [],
   "source": [
    "class HashAndBucketRandomizer(BaseExperimentRandomizer):\n",
    "    # Does not do experiment exclusion.\n",
    "    \n",
    "    def _do_randomization(self, user_id, salt, allocation):\n",
    "        # Helper function that basically does the work in SimpleHashAndBucketRandomizer.\n",
    "        # We need it twice in this system: once to pick an experiment and once to pick a bucket in \n",
    "        # The experiment.\n",
    "        salted_user = str(user_id) + salt\n",
    "        hash_value = hash(salted_user) % num_total_buckets\n",
    "        cumulative_buckets = list(accumulate([bucket['allocation'] * num_total_buckets for bucket in allocation]))\n",
    "        bucket_index = sum([bb <= hash_value for bb in cumulative_buckets])\n",
    "        if bucket_index == len(allocation):\n",
    "            return 'noop2'  # User isn't in experiment. Should never show up.\n",
    "        return allocation[bucket_index]['name']\n",
    "    \n",
    "    def _randomize_user(self, user_id, experiment):\n",
    "        # Get the hashset, which records a salt and the allocations.\n",
    "        experiment_hashset = hashes[experiment['salt']]\n",
    "        experiment_salt = experiment_hashset['salt']\n",
    "        experiment_allocation = experiment_hashset['current_buckets']\n",
    "        experiment_name = self._do_randomization(user_id, experiment_salt, experiment_allocation)\n",
    "        \n",
    "        if experiment_name != experiment['id']:\n",
    "            return 'noop'\n",
    "        \n",
    "        return self._do_randomization(user_id, experiment_name, experiments_sans_noop[experiment_name]['buckets'])\n"
   ]
  },
  {
   "cell_type": "markdown",
   "metadata": {},
   "source": [
    "*Aside why do we have two hashes?* Sometimes, it's advantageous to reuse salts for multiple experiments. Having a double hash lets us ensure that even if we use the same part of a mod space for two experiments in two different time periods, the experiments remain randomized with respect to each other."
   ]
  },
  {
   "cell_type": "markdown",
   "metadata": {},
   "source": [
    "Netflix Case\n",
    "------------"
   ]
  },
  {
   "cell_type": "markdown",
   "metadata": {},
   "source": [
    "Netflix takes a queue-based approach as described in their paper. Each experiment has a queue of assignmented that has been randomly sorted. In their paper, they say that each queue is of length 100, which means one can specify experiment allocations to nearest 1% (as opposed to the nearest 0.1% in the hashing system above). Allocating a flight for a user pops the latest assignment off the queue, assigns the user, and puts the assignment back on the end of the queue. \n",
    "\n",
    "Their system requires a bit of extra setup to maintain the queues, which we do below in `assignment_queues`."
   ]
  },
  {
   "cell_type": "code",
   "execution_count": 6,
   "metadata": {
    "collapsed": false
   },
   "outputs": [],
   "source": [
    "import random\n",
    "queue_depth = 100\n",
    "assignment_queues = {\n",
    "    'ChangeButton': {'q': ['blue'] * 25 + ['red'] * 25 + ['noop'] * 50, 'i': 0},\n",
    "    'ChangeLogo': {'q': ['stickfigure'] * 10 + ['professional'] * 10 + ['noop'] * 80, 'i': 0}\n",
    "}\n",
    "# randomize\n",
    "for k, v in assignment_queues.items():\n",
    "    random.shuffle(v['q'])"
   ]
  },
  {
   "cell_type": "code",
   "execution_count": 7,
   "metadata": {
    "collapsed": false
   },
   "outputs": [],
   "source": [
    "class QueueRandomizer(BaseExperimentRandomizer):\n",
    "    \n",
    "    def _randomize_user(self, user_id, experiment):\n",
    "        queue = assignment_queues[experiment['id']]\n",
    "        current_value = queue['q'][queue['i']]\n",
    "        queue['i'] = (queue['i'] + 1) % queue_depth\n",
    "        \n",
    "        return current_value\n",
    "        "
   ]
  },
  {
   "cell_type": "markdown",
   "metadata": {},
   "source": [
    "A similar check as above confirms that we're getting appropriately sized allocations. "
   ]
  },
  {
   "cell_type": "markdown",
   "metadata": {},
   "source": [
    "**Repeatability**\n",
    "\n",
    "Netflix's queues cycle, making them stateful. To remember which assignment was given to a user, one must store that information. Given the pervasive use of experiment allocations in the code base, this lookup needs to be fast and very high availability. This could be expensive in a system with potentially tens of millions in each of a hundred experiments. \n",
    "\n",
    "**Rampup and Shutdown**\n",
    "Experiment rampup (expanding exposure) and shutoff is also complicated because the user state needs to kept up to date (necessitating at least a call to see if the experiment is still live). \n",
    "\n",
    "**Exclusion**\n",
    "Exclusion is easy enough: simply stack two experiments in the same queue. Only one bucket from the combined experiment set will ever be assigned to a particular user. "
   ]
  },
  {
   "cell_type": "markdown",
   "metadata": {},
   "source": [
    "*Aside: exclusive experiments with dedicated controls* In my examples, I'm assuming two experiments that are set to be mutually exclusive have their own controls. This is wasteful: we would be assigning 35% of traffic in our toy example to control rather than the minimal requirement of 25%. There are optimizations that are possible, but one caveat is that it's easier to treat deal with separate controls in production when experiments rarely start and end at the same time. "
   ]
  },
  {
   "cell_type": "markdown",
   "metadata": {
    "collapsed": true
   },
   "source": [
    "So far, it's unclear why to use a queue-based system since it requires adding a state storage problem to our workload.\n",
    "What about our statistical requirements? Does the queue-based system improve on hash-and-bucket?"
   ]
  },
  {
   "cell_type": "markdown",
   "metadata": {
    "collapsed": true
   },
   "source": [
    "Does a Hash-Based System Produce Reliable Randomization?\n",
    "--------------------------------------------------------\n",
    "\n",
    "Two requirements for statistical reliability are a balanced sample ratio and a correct distribution of statistics under the null hypothesis. \n",
    "\n",
    "The queue-based system obviously produces a balanced sample ratio: the maximum difference in user counts is 50 which occurs in an unrandomized queue that is halfway through the cycle. What about the hash and bucket system?\n",
    "\n",
    "**How to think about a balanced sample ratio**\n",
    "\n",
    "A/B testing creates a situation where the exposure of a user to a change is independent of any property of the user: selection bias is eliminated because ''selection\" of the treatment is a random effect. If our hash and bucket system is working correctly, we will get an event distribution of users into treatment and control, which we confirm with Pearson's Chi-Square Test.\n",
    "\n",
    "In the next code section, we produce 10000 random splits of 10000 users, and we show that in fact the splits are balanced."
   ]
  },
  {
   "cell_type": "code",
   "execution_count": null,
   "metadata": {
    "collapsed": true
   },
   "outputs": [],
   "source": [
    "from collections import Counter\n",
    "\n",
    "def compute_histogram(assignments):\n",
    "    final_dict = Counter()\n",
    "    for a in assignments:\n",
    "        final_dict[a] += 1\n",
    "    return final_dict\n",
    "\n",
    "import numpy as np\n",
    "from scipy.stats import chisquare\n",
    "from uuid import uuid4\n",
    "num_users = 10000\n",
    "num_trials = 10000\n",
    "assumed_values = np.array([.25, .5, .25]) * num_users\n",
    "\n",
    "p_values = []\n",
    "all_values = []\n",
    "\n",
    "for i in range(num_trials):\n",
    "    users  = ({'locale': 'en-us', 'id': uuid4()} for u in range(num_users))\n",
    "    randomizer = HashAndBucketRandomizer()\n",
    "    assignment = [randomizer.assign_user(u, 'ChangeButton') for u in users]\n",
    "    assignment_hist = compute_histogram(assignment)\n",
    "    values = np.array([assignment_hist[k] for k in sorted(assignment_hist.keys())])  # blue, noop, red\n",
    "    all_values.append(values)\n",
    "    p_values.append(chisquare(values, assumed_values).pvalue)\n",
    "    "
   ]
  },
  {
   "cell_type": "code",
   "execution_count": 64,
   "metadata": {
    "collapsed": false
   },
   "outputs": [
    {
     "data": {
      "text/plain": [
       "[<matplotlib.lines.Line2D at 0x20e6ecd2ba8>]"
      ]
     },
     "execution_count": 64,
     "metadata": {},
     "output_type": "execute_result"
    },
    {
     "data": {
      "image/png": "[encoded data removed]",
      "text/plain": [
       "<matplotlib.figure.Figure at 0x20e6dc9a6d8>"
      ]
     },
     "metadata": {},
     "output_type": "display_data"
    }
   ],
   "source": [
    "plot(sorted(p_values))"
   ]
  },
  {
   "cell_type": "markdown",
   "metadata": {},
   "source": [
    "The distribution of treatments to controls follows a chi-square distribution, which implies that there is no *structural* imbalance between the count of treatments and the count of controls in my implementation. However, there is still *random* fluctuation: our worst imbalance in 10000 tries was TODO with a p-value of TODO. I argue that this doesn't matter. The important property of a randomization engine is that it produce two samples such that the probability of assignment is independent of any user property that could correlate with the outcome of interest. Consider the extreme case: let's say we use a biased coin to assign groups that turns up heads 55% of the time. Can we trust that the assignment is a random distribution? We can still get a he only thing that matters is that the coin bias not be correlated with anything else in the world. \n",
    "\n",
    "Since our randomizer isn't biased, one of the most important checks one can run at analysis time is a Sample Ratio Mismatch (SRM) check: always verify that the randomization engine is producing the expected sample ratio of treatments and controls. We've seen many cases of this failing due to misconfiguration, logging or cooking problems, or poorly designed experiment trigger conditions. Since we use a chi-square test to check for SRMs, so we run a slight risk of rejecting valid experimental results due to the natural false positive rate.\n",
    "\n",
    "This is a slight advantage to Netflix's queue system: there is no chance of an unnecessary rejection due to false positive rate in the sample ratio check. Since their distributions have a tight, absolute balance, one can easily verify that observed sample ratios meet the designation (though they still need to check!)\n",
    "\n",
    "There are three reasons why I don't think this is a big deal. \n",
    "\n",
    "1) True positives tend to be extreme. When we have identified true positive SRMs in the past, the p-value tended to be below a reasonable false positive rate (say, below 1e-5). This is due to the high statistical power associated with a chi-square test in an experiment with hundreds of thousands to millions of users.\n",
    "\n",
    "2) If a significant percentage of the user base is not new during experiment time, one can try multiple experiment-specific salts in the event of an SRM in pre-experiment data. In other words, I can efficiently reject salts that cause randomly low p-values in my SRM test prior to committing traffic to my experiment. (Caveat: make sure to verify post-hoc that your initial salt choices are maintaining a Chi-square distribution!) \n",
    "\n",
    "3) As Netflix describes, introducing stratification or a distributed queue tends to lead to a more \"spread\" in treatment/control counts since the perfect balance a queue guarantees only exists within a single queue. But again, this random fluctuation doesn't matter \n",
    "\n",
    "The second choice above doesn't work for experiments with new users, which is an important moment where Netflix and many other companies are particularly interested in experimentation."
   ]
  },
  {
   "cell_type": "markdown",
   "metadata": {
    "collapsed": false
   },
   "source": [
    "Bonus: Seedfinder\n",
    "-----------------\n",
    "\n",
    "(TODO): make sure this is public information. I believe it's patented :)\n",
    "\n",
    "At Microsoft, we use the idea of trying multiple experiment-specific salts for another purpose. \n",
    "\n",
    "In fields where data points are expensive, experimentors use selection methods to lower variance. For instance, it's common to identify pairs of similar users then randomly assign one user in the pair to the treatment and one to control. TODO: source for this.\n",
    "\n",
    "Most of our products have a relatively stable user base week-over-week, so we can actually use pre-experiment data to \"pair\" our user base and randomly assign status within each pair. While that would be prohibitively expensive in the trillions of potential pairs in any experiment, we can approximate a paired study by trying multiple experiment-specific hashes until we find one that minimizes the difference between treatment and control over a set of pre-chosen metrics. In (TODO) Alex Deng and authors showed that this method improves power."
   ]
  },
  {
   "cell_type": "markdown",
   "metadata": {
    "collapsed": true
   },
   "source": [
    "Stratification\n",
    "=============="
   ]
  },
  {
   "cell_type": "markdown",
   "metadata": {},
   "source": [
    "Netflix's paper spends a great deal of time explaining their stratification method. Functionally, stratification takes place in Neflix's system by using independent queues with one queue per stratum. Does a hash-and-bucket system allow for stratification? Of course! One simply assigns a unique salt to each stratum in the second hash step!"
   ]
  },
  {
   "cell_type": "code",
   "execution_count": null,
   "metadata": {
    "collapsed": true
   },
   "outputs": [],
   "source": []
  }
 ],
 "metadata": {
  "kernelspec": {
   "display_name": "Python 3",
   "language": "python",
   "name": "python3"
  },
  "language_info": {
   "codemirror_mode": {
    "name": "ipython",
    "version": 3
   },
   "file_extension": ".py",
   "mimetype": "text/x-python",
   "name": "python",
   "nbconvert_exporter": "python",
   "pygments_lexer": "ipython3",
   "version": "3.5.1"
  }
 },
 "nbformat": 4,
 "nbformat_minor": 0
}
